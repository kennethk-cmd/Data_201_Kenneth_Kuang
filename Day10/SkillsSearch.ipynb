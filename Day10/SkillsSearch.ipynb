{
 "cells": [
  {
   "cell_type": "code",
   "execution_count": 4,
   "id": "b90d1a60",
   "metadata": {},
   "outputs": [],
   "source": [
    "import requests\n",
    "import time \n",
    "from bs4 import BeautifulSoup\n",
    "#from mechanize import Browser\n",
    "import pandas as pd\n",
    "from IPython.display import HTML\n",
    "\n",
    "from selenium import webdriver\n",
    "from selenium.webdriver.chrome.options import Options\n",
    "from selenium.webdriver.common.by import By\n",
    "from webdriver_manager.chrome import ChromeDriverManager\n",
    "import time\n",
    "\n",
    "from wordcloud import WordCloud, STOPWORDS\n",
    "import matplotlib.pyplot as plt"
   ]
  },
  {
   "cell_type": "code",
   "execution_count": 5,
   "id": "b84a6cbc-510d-4d14-bc12-71d9c4fdceea",
   "metadata": {},
   "outputs": [
    {
     "name": "stdout",
     "output_type": "stream",
     "text": [
      "\u001b[1;33mJupyter detected\u001b[0m\u001b[1;33m...\u001b[0m\n",
      "\u001b[1;32m2\u001b[0m\u001b[1;32m channel Terms of Service accepted\u001b[0m\n",
      "Channels:\n",
      " - conda-forge\n",
      " - defaults\n",
      "Platform: osx-64\n",
      "doneecting package metadata (repodata.json): - \n",
      "doneing environment: - \n",
      "\n",
      "\n",
      "==> WARNING: A newer version of conda exists. <==\n",
      "    current version: 25.7.0\n",
      "    latest version: 25.9.0\n",
      "\n",
      "Please update conda by running\n",
      "\n",
      "    $ conda update -n base -c conda-forge conda\n",
      "\n",
      "\n",
      "\n",
      "# All requested packages already installed.\n",
      "\n"
     ]
    }
   ],
   "source": [
    "!conda install -c conda-forge -y wordcloud"
   ]
  },
  {
   "cell_type": "code",
   "execution_count": 8,
   "id": "30b90a26",
   "metadata": {},
   "outputs": [
    {
     "ename": "SessionNotCreatedException",
     "evalue": "Message: session not created\nfrom unknown error: cannot find Chrome binary\nStacktrace:\n0   chromedriver                        0x000000010f71a908 chromedriver + 6379784\n1   chromedriver                        0x000000010f71200a chromedriver + 6344714\n2   chromedriver                        0x000000010f16ddf0 chromedriver + 429552\n3   chromedriver                        0x000000010f1a6049 chromedriver + 659529\n4   chromedriver                        0x000000010f1a4c45 chromedriver + 654405\n5   chromedriver                        0x000000010f1f44b1 chromedriver + 980145\n6   chromedriver                        0x000000010f1f3b46 chromedriver + 977734\n7   chromedriver                        0x000000010f1e5ea3 chromedriver + 921251\n8   chromedriver                        0x000000010f1b239a chromedriver + 709530\n9   chromedriver                        0x000000010f1b3061 chromedriver + 712801\n10  chromedriver                        0x000000010f6d87b0 chromedriver + 6109104\n11  chromedriver                        0x000000010f6dc635 chromedriver + 6125109\n12  chromedriver                        0x000000010f6b3c67 chromedriver + 5958759\n13  chromedriver                        0x000000010f6dd0af chromedriver + 6127791\n14  chromedriver                        0x000000010f6a2fe4 chromedriver + 5890020\n15  chromedriver                        0x000000010f6ff258 chromedriver + 6267480\n16  chromedriver                        0x000000010f6ff41c chromedriver + 6267932\n17  chromedriver                        0x000000010f711be1 chromedriver + 6343649\n18  libsystem_pthread.dylib             0x00007ff81b451e59 _pthread_start + 115\n19  libsystem_pthread.dylib             0x00007ff81b44d857 thread_start + 15\n",
     "output_type": "error",
     "traceback": [
      "\u001b[0;31m---------------------------------------------------------------------------\u001b[0m",
      "\u001b[0;31mSessionNotCreatedException\u001b[0m                Traceback (most recent call last)",
      "Cell \u001b[0;32mIn[8], line 18\u001b[0m\n\u001b[1;32m     14\u001b[0m \u001b[38;5;66;03m# Annoyingly I had to specify an exact driver version\u001b[39;00m\n\u001b[1;32m     15\u001b[0m \u001b[38;5;66;03m# Driver manager should figure this out for me, but it didn't\u001b[39;00m\n\u001b[1;32m     16\u001b[0m \u001b[38;5;66;03m# You should be able to just run: service = Service(ChromeDriverManager().install())\u001b[39;00m\n\u001b[1;32m     17\u001b[0m service \u001b[38;5;241m=\u001b[39m Service(ChromeDriverManager(driver_version\u001b[38;5;241m=\u001b[39m\u001b[38;5;124m\"\u001b[39m\u001b[38;5;124m140.0.7339.185\u001b[39m\u001b[38;5;124m\"\u001b[39m)\u001b[38;5;241m.\u001b[39minstall())\n\u001b[0;32m---> 18\u001b[0m driver \u001b[38;5;241m=\u001b[39m webdriver\u001b[38;5;241m.\u001b[39mChrome(service\u001b[38;5;241m=\u001b[39mservice,options\u001b[38;5;241m=\u001b[39moptions)\n\u001b[1;32m     20\u001b[0m driver\u001b[38;5;241m.\u001b[39mget(web_address)\n\u001b[1;32m     21\u001b[0m html_source_code \u001b[38;5;241m=\u001b[39m driver\u001b[38;5;241m.\u001b[39mexecute_script(\u001b[38;5;124m\"\u001b[39m\u001b[38;5;124mreturn document.body.innerHTML;\u001b[39m\u001b[38;5;124m\"\u001b[39m)\n",
      "File \u001b[0;32m/opt/anaconda3/lib/python3.13/site-packages/selenium/webdriver/chrome/webdriver.py:45\u001b[0m, in \u001b[0;36mWebDriver.__init__\u001b[0;34m(self, options, service, keep_alive)\u001b[0m\n\u001b[1;32m     42\u001b[0m service \u001b[38;5;241m=\u001b[39m service \u001b[38;5;28;01mif\u001b[39;00m service \u001b[38;5;28;01melse\u001b[39;00m Service()\n\u001b[1;32m     43\u001b[0m options \u001b[38;5;241m=\u001b[39m options \u001b[38;5;28;01mif\u001b[39;00m options \u001b[38;5;28;01melse\u001b[39;00m Options()\n\u001b[0;32m---> 45\u001b[0m \u001b[38;5;28msuper\u001b[39m()\u001b[38;5;241m.\u001b[39m\u001b[38;5;21m__init__\u001b[39m(\n\u001b[1;32m     46\u001b[0m     browser_name\u001b[38;5;241m=\u001b[39mDesiredCapabilities\u001b[38;5;241m.\u001b[39mCHROME[\u001b[38;5;124m\"\u001b[39m\u001b[38;5;124mbrowserName\u001b[39m\u001b[38;5;124m\"\u001b[39m],\n\u001b[1;32m     47\u001b[0m     vendor_prefix\u001b[38;5;241m=\u001b[39m\u001b[38;5;124m\"\u001b[39m\u001b[38;5;124mgoog\u001b[39m\u001b[38;5;124m\"\u001b[39m,\n\u001b[1;32m     48\u001b[0m     options\u001b[38;5;241m=\u001b[39moptions,\n\u001b[1;32m     49\u001b[0m     service\u001b[38;5;241m=\u001b[39mservice,\n\u001b[1;32m     50\u001b[0m     keep_alive\u001b[38;5;241m=\u001b[39mkeep_alive,\n\u001b[1;32m     51\u001b[0m )\n",
      "File \u001b[0;32m/opt/anaconda3/lib/python3.13/site-packages/selenium/webdriver/chromium/webdriver.py:67\u001b[0m, in \u001b[0;36mChromiumDriver.__init__\u001b[0;34m(self, browser_name, vendor_prefix, options, service, keep_alive)\u001b[0m\n\u001b[1;32m     58\u001b[0m executor \u001b[38;5;241m=\u001b[39m ChromiumRemoteConnection(\n\u001b[1;32m     59\u001b[0m     remote_server_addr\u001b[38;5;241m=\u001b[39m\u001b[38;5;28mself\u001b[39m\u001b[38;5;241m.\u001b[39mservice\u001b[38;5;241m.\u001b[39mservice_url,\n\u001b[1;32m     60\u001b[0m     browser_name\u001b[38;5;241m=\u001b[39mbrowser_name,\n\u001b[0;32m   (...)\u001b[0m\n\u001b[1;32m     63\u001b[0m     ignore_proxy\u001b[38;5;241m=\u001b[39moptions\u001b[38;5;241m.\u001b[39m_ignore_local_proxy,\n\u001b[1;32m     64\u001b[0m )\n\u001b[1;32m     66\u001b[0m \u001b[38;5;28;01mtry\u001b[39;00m:\n\u001b[0;32m---> 67\u001b[0m     \u001b[38;5;28msuper\u001b[39m()\u001b[38;5;241m.\u001b[39m\u001b[38;5;21m__init__\u001b[39m(command_executor\u001b[38;5;241m=\u001b[39mexecutor, options\u001b[38;5;241m=\u001b[39moptions)\n\u001b[1;32m     68\u001b[0m \u001b[38;5;28;01mexcept\u001b[39;00m \u001b[38;5;167;01mException\u001b[39;00m:\n\u001b[1;32m     69\u001b[0m     \u001b[38;5;28mself\u001b[39m\u001b[38;5;241m.\u001b[39mquit()\n",
      "File \u001b[0;32m/opt/anaconda3/lib/python3.13/site-packages/selenium/webdriver/remote/webdriver.py:260\u001b[0m, in \u001b[0;36mWebDriver.__init__\u001b[0;34m(self, command_executor, keep_alive, file_detector, options, locator_converter, web_element_cls, client_config)\u001b[0m\n\u001b[1;32m    258\u001b[0m \u001b[38;5;28mself\u001b[39m\u001b[38;5;241m.\u001b[39m_authenticator_id \u001b[38;5;241m=\u001b[39m \u001b[38;5;28;01mNone\u001b[39;00m\n\u001b[1;32m    259\u001b[0m \u001b[38;5;28mself\u001b[39m\u001b[38;5;241m.\u001b[39mstart_client()\n\u001b[0;32m--> 260\u001b[0m \u001b[38;5;28mself\u001b[39m\u001b[38;5;241m.\u001b[39mstart_session(capabilities)\n\u001b[1;32m    261\u001b[0m \u001b[38;5;28mself\u001b[39m\u001b[38;5;241m.\u001b[39m_fedcm \u001b[38;5;241m=\u001b[39m FedCM(\u001b[38;5;28mself\u001b[39m)\n\u001b[1;32m    263\u001b[0m \u001b[38;5;28mself\u001b[39m\u001b[38;5;241m.\u001b[39m_websocket_connection \u001b[38;5;241m=\u001b[39m \u001b[38;5;28;01mNone\u001b[39;00m\n",
      "File \u001b[0;32m/opt/anaconda3/lib/python3.13/site-packages/selenium/webdriver/remote/webdriver.py:357\u001b[0m, in \u001b[0;36mWebDriver.start_session\u001b[0;34m(self, capabilities)\u001b[0m\n\u001b[1;32m    355\u001b[0m caps \u001b[38;5;241m=\u001b[39m _create_caps(capabilities)\n\u001b[1;32m    356\u001b[0m \u001b[38;5;28;01mtry\u001b[39;00m:\n\u001b[0;32m--> 357\u001b[0m     response \u001b[38;5;241m=\u001b[39m \u001b[38;5;28mself\u001b[39m\u001b[38;5;241m.\u001b[39mexecute(Command\u001b[38;5;241m.\u001b[39mNEW_SESSION, caps)[\u001b[38;5;124m\"\u001b[39m\u001b[38;5;124mvalue\u001b[39m\u001b[38;5;124m\"\u001b[39m]\n\u001b[1;32m    358\u001b[0m     \u001b[38;5;28mself\u001b[39m\u001b[38;5;241m.\u001b[39msession_id \u001b[38;5;241m=\u001b[39m response\u001b[38;5;241m.\u001b[39mget(\u001b[38;5;124m\"\u001b[39m\u001b[38;5;124msessionId\u001b[39m\u001b[38;5;124m\"\u001b[39m)\n\u001b[1;32m    359\u001b[0m     \u001b[38;5;28mself\u001b[39m\u001b[38;5;241m.\u001b[39mcaps \u001b[38;5;241m=\u001b[39m response\u001b[38;5;241m.\u001b[39mget(\u001b[38;5;124m\"\u001b[39m\u001b[38;5;124mcapabilities\u001b[39m\u001b[38;5;124m\"\u001b[39m)\n",
      "File \u001b[0;32m/opt/anaconda3/lib/python3.13/site-packages/selenium/webdriver/remote/webdriver.py:448\u001b[0m, in \u001b[0;36mWebDriver.execute\u001b[0;34m(self, driver_command, params)\u001b[0m\n\u001b[1;32m    446\u001b[0m response \u001b[38;5;241m=\u001b[39m \u001b[38;5;28mself\u001b[39m\u001b[38;5;241m.\u001b[39mcommand_executor\u001b[38;5;241m.\u001b[39mexecute(driver_command, params)\n\u001b[1;32m    447\u001b[0m \u001b[38;5;28;01mif\u001b[39;00m response:\n\u001b[0;32m--> 448\u001b[0m     \u001b[38;5;28mself\u001b[39m\u001b[38;5;241m.\u001b[39merror_handler\u001b[38;5;241m.\u001b[39mcheck_response(response)\n\u001b[1;32m    449\u001b[0m     response[\u001b[38;5;124m\"\u001b[39m\u001b[38;5;124mvalue\u001b[39m\u001b[38;5;124m\"\u001b[39m] \u001b[38;5;241m=\u001b[39m \u001b[38;5;28mself\u001b[39m\u001b[38;5;241m.\u001b[39m_unwrap_value(response\u001b[38;5;241m.\u001b[39mget(\u001b[38;5;124m\"\u001b[39m\u001b[38;5;124mvalue\u001b[39m\u001b[38;5;124m\"\u001b[39m, \u001b[38;5;28;01mNone\u001b[39;00m))\n\u001b[1;32m    450\u001b[0m     \u001b[38;5;28;01mreturn\u001b[39;00m response\n",
      "File \u001b[0;32m/opt/anaconda3/lib/python3.13/site-packages/selenium/webdriver/remote/errorhandler.py:232\u001b[0m, in \u001b[0;36mErrorHandler.check_response\u001b[0;34m(self, response)\u001b[0m\n\u001b[1;32m    230\u001b[0m         alert_text \u001b[38;5;241m=\u001b[39m value[\u001b[38;5;124m\"\u001b[39m\u001b[38;5;124malert\u001b[39m\u001b[38;5;124m\"\u001b[39m]\u001b[38;5;241m.\u001b[39mget(\u001b[38;5;124m\"\u001b[39m\u001b[38;5;124mtext\u001b[39m\u001b[38;5;124m\"\u001b[39m)\n\u001b[1;32m    231\u001b[0m     \u001b[38;5;28;01mraise\u001b[39;00m exception_class(message, screen, stacktrace, alert_text)  \u001b[38;5;66;03m# type: ignore[call-arg]  # mypy is not smart enough here\u001b[39;00m\n\u001b[0;32m--> 232\u001b[0m \u001b[38;5;28;01mraise\u001b[39;00m exception_class(message, screen, stacktrace)\n",
      "\u001b[0;31mSessionNotCreatedException\u001b[0m: Message: session not created\nfrom unknown error: cannot find Chrome binary\nStacktrace:\n0   chromedriver                        0x000000010f71a908 chromedriver + 6379784\n1   chromedriver                        0x000000010f71200a chromedriver + 6344714\n2   chromedriver                        0x000000010f16ddf0 chromedriver + 429552\n3   chromedriver                        0x000000010f1a6049 chromedriver + 659529\n4   chromedriver                        0x000000010f1a4c45 chromedriver + 654405\n5   chromedriver                        0x000000010f1f44b1 chromedriver + 980145\n6   chromedriver                        0x000000010f1f3b46 chromedriver + 977734\n7   chromedriver                        0x000000010f1e5ea3 chromedriver + 921251\n8   chromedriver                        0x000000010f1b239a chromedriver + 709530\n9   chromedriver                        0x000000010f1b3061 chromedriver + 712801\n10  chromedriver                        0x000000010f6d87b0 chromedriver + 6109104\n11  chromedriver                        0x000000010f6dc635 chromedriver + 6125109\n12  chromedriver                        0x000000010f6b3c67 chromedriver + 5958759\n13  chromedriver                        0x000000010f6dd0af chromedriver + 6127791\n14  chromedriver                        0x000000010f6a2fe4 chromedriver + 5890020\n15  chromedriver                        0x000000010f6ff258 chromedriver + 6267480\n16  chromedriver                        0x000000010f6ff41c chromedriver + 6267932\n17  chromedriver                        0x000000010f711be1 chromedriver + 6343649\n18  libsystem_pthread.dylib             0x00007ff81b451e59 _pthread_start + 115\n19  libsystem_pthread.dylib             0x00007ff81b44d857 thread_start + 15\n"
     ]
    }
   ],
   "source": [
    "# Gets the first page\n",
    "\n",
    "# Specify the search\n",
    "area = \"Data Science\"\n",
    "location = \"California\"\n",
    "web_address='https://www.indeed.com/jobs?q='+area+'&l='+location\n",
    "\n",
    "options = Options()\n",
    "options.add_argument(\"--no-sandbox\")\n",
    "options.add_argument(\"--disable-dev-shm-usage\")\n",
    "options.add_argument(\"--disable-gpu\")\n",
    "options.add_argument(\"--remote-debugging-port=9222\")\n",
    "\n",
    "# Annoyingly I had to specify an exact driver version\n",
    "# Driver manager should figure this out for me, but it didn't\n",
    "# You should be able to just run: service = Service(ChromeDriverManager().install())\n",
    "service = Service(ChromeDriverManager(driver_version=\"140.0.7339.185\").install())\n",
    "driver = webdriver.Chrome(service=service,options=options)\n",
    "\n",
    "driver.get(web_address)\n",
    "html_source_code = driver.execute_script(\"return document.body.innerHTML;\")\n",
    "\n",
    "# Save to beautiful soup\n",
    "soup = BeautifulSoup(html_source_code, 'html.parser')\n",
    "\n",
    "# Close page\n",
    "driver.close()"
   ]
  },
  {
   "cell_type": "code",
   "execution_count": 9,
   "id": "86ae3815",
   "metadata": {},
   "outputs": [
    {
     "ename": "NameError",
     "evalue": "name 'soup' is not defined",
     "output_type": "error",
     "traceback": [
      "\u001b[0;31m---------------------------------------------------------------------------\u001b[0m",
      "\u001b[0;31mNameError\u001b[0m                                 Traceback (most recent call last)",
      "Cell \u001b[0;32mIn[9], line 2\u001b[0m\n\u001b[1;32m      1\u001b[0m \u001b[38;5;66;03m# Get the names of the jobs\u001b[39;00m\n\u001b[0;32m----> 2\u001b[0m result2 \u001b[38;5;241m=\u001b[39m soup\u001b[38;5;241m.\u001b[39mfind_all(\u001b[38;5;124m'\u001b[39m\u001b[38;5;124mh2\u001b[39m\u001b[38;5;124m'\u001b[39m, class_\u001b[38;5;241m=\u001b[39m\u001b[38;5;124m\"\u001b[39m\u001b[38;5;124mjobTitle\u001b[39m\u001b[38;5;124m\"\u001b[39m)\n\u001b[1;32m      3\u001b[0m job_names \u001b[38;5;241m=\u001b[39m [r\u001b[38;5;241m.\u001b[39mtext \u001b[38;5;28;01mfor\u001b[39;00m r \u001b[38;5;129;01min\u001b[39;00m result2]\n\u001b[1;32m      4\u001b[0m \u001b[38;5;28mprint\u001b[39m(\u001b[38;5;28mlen\u001b[39m(job_names))\n",
      "\u001b[0;31mNameError\u001b[0m: name 'soup' is not defined"
     ]
    }
   ],
   "source": [
    "# Get the names of the jobs\n",
    "result2 = soup.find_all('h2', class_=\"jobTitle\")\n",
    "job_names = [r.text for r in result2]\n",
    "print(len(job_names))\n",
    "job_names"
   ]
  },
  {
   "cell_type": "code",
   "execution_count": 10,
   "id": "f454e0aa",
   "metadata": {},
   "outputs": [
    {
     "ename": "NameError",
     "evalue": "name 'soup' is not defined",
     "output_type": "error",
     "traceback": [
      "\u001b[0;31m---------------------------------------------------------------------------\u001b[0m",
      "\u001b[0;31mNameError\u001b[0m                                 Traceback (most recent call last)",
      "Cell \u001b[0;32mIn[10], line 2\u001b[0m\n\u001b[1;32m      1\u001b[0m \u001b[38;5;66;03m# List of indeed links to the named jobs\u001b[39;00m\n\u001b[0;32m----> 2\u001b[0m result3 \u001b[38;5;241m=\u001b[39m soup\u001b[38;5;241m.\u001b[39mfind_all(\u001b[38;5;124m'\u001b[39m\u001b[38;5;124ma\u001b[39m\u001b[38;5;124m'\u001b[39m, class_\u001b[38;5;241m=\u001b[39m\u001b[38;5;124m\"\u001b[39m\u001b[38;5;124mjcs-JobTitle\u001b[39m\u001b[38;5;124m\"\u001b[39m)\n\u001b[1;32m      3\u001b[0m links \u001b[38;5;241m=\u001b[39m [\u001b[38;5;124m'\u001b[39m\u001b[38;5;124mhttps://www.indeed.com\u001b[39m\u001b[38;5;124m'\u001b[39m \u001b[38;5;241m+\u001b[39m r\u001b[38;5;241m.\u001b[39mget(\u001b[38;5;124m'\u001b[39m\u001b[38;5;124mhref\u001b[39m\u001b[38;5;124m'\u001b[39m) \u001b[38;5;28;01mfor\u001b[39;00m r \u001b[38;5;129;01min\u001b[39;00m result3]\n\u001b[1;32m      4\u001b[0m \u001b[38;5;28mprint\u001b[39m(\u001b[38;5;28mlen\u001b[39m(links))\n",
      "\u001b[0;31mNameError\u001b[0m: name 'soup' is not defined"
     ]
    }
   ],
   "source": [
    "# List of indeed links to the named jobs\n",
    "result3 = soup.find_all('a', class_=\"jcs-JobTitle\")\n",
    "links = ['https://www.indeed.com' + r.get('href') for r in result3]\n",
    "print(len(links))\n",
    "links"
   ]
  },
  {
   "cell_type": "code",
   "execution_count": 11,
   "id": "4a69f157",
   "metadata": {},
   "outputs": [
    {
     "ename": "NameError",
     "evalue": "name 'links' is not defined",
     "output_type": "error",
     "traceback": [
      "\u001b[0;31m---------------------------------------------------------------------------\u001b[0m",
      "\u001b[0;31mNameError\u001b[0m                                 Traceback (most recent call last)",
      "Cell \u001b[0;32mIn[11], line 4\u001b[0m\n\u001b[1;32m      1\u001b[0m \u001b[38;5;66;03m# I want to loop through each of the links above and get the full job descriptions\u001b[39;00m\n\u001b[1;32m      2\u001b[0m data \u001b[38;5;241m=\u001b[39m []\n\u001b[0;32m----> 4\u001b[0m \u001b[38;5;28;01mfor\u001b[39;00m link \u001b[38;5;129;01min\u001b[39;00m links:\n\u001b[1;32m      5\u001b[0m     driver \u001b[38;5;241m=\u001b[39m webdriver\u001b[38;5;241m.\u001b[39mChrome(service\u001b[38;5;241m=\u001b[39mservice,options\u001b[38;5;241m=\u001b[39moptions)\n\u001b[1;32m      6\u001b[0m     driver\u001b[38;5;241m.\u001b[39mget(link)\n",
      "\u001b[0;31mNameError\u001b[0m: name 'links' is not defined"
     ]
    }
   ],
   "source": [
    "# I want to loop through each of the links above and get the full job descriptions\n",
    "data = []\n",
    "\n",
    "for link in links:\n",
    "    driver = webdriver.Chrome(service=service,options=options)\n",
    "    driver.get(link)\n",
    "\n",
    "    html_source_code = driver.execute_script(\"return document.body.innerHTML;\")\n",
    "\n",
    "    # Save to beautiful soup\n",
    "    soup_tmp = BeautifulSoup(html_source_code, 'html.parser')\n",
    "    driver.close()\n",
    "    \n",
    "    job_info = soup_tmp.find_all('div', id=\"jobDescriptionText\")\n",
    "    for j in job_info:\n",
    "        data.append(j.text)"
   ]
  },
  {
   "cell_type": "markdown",
   "id": "02da78b0",
   "metadata": {},
   "source": [
    "## Make WordCloud From the Data"
   ]
  },
  {
   "cell_type": "code",
   "execution_count": 12,
   "id": "1e29f37d",
   "metadata": {},
   "outputs": [
    {
     "ename": "ValueError",
     "evalue": "We need at least 1 word to plot a word cloud, got 0.",
     "output_type": "error",
     "traceback": [
      "\u001b[0;31m---------------------------------------------------------------------------\u001b[0m",
      "\u001b[0;31mValueError\u001b[0m                                Traceback (most recent call last)",
      "Cell \u001b[0;32mIn[12], line 34\u001b[0m\n\u001b[1;32m     27\u001b[0m         tokens[i] \u001b[38;5;241m=\u001b[39m tokens[i]\u001b[38;5;241m.\u001b[39mlower()\n\u001b[1;32m     29\u001b[0m     comment_words \u001b[38;5;241m+\u001b[39m\u001b[38;5;241m=\u001b[39m \u001b[38;5;124m\"\u001b[39m\u001b[38;5;124m \u001b[39m\u001b[38;5;124m\"\u001b[39m\u001b[38;5;241m.\u001b[39mjoin(tokens)\u001b[38;5;241m+\u001b[39m\u001b[38;5;124m\"\u001b[39m\u001b[38;5;124m \u001b[39m\u001b[38;5;124m\"\u001b[39m\n\u001b[1;32m     31\u001b[0m wordcloud \u001b[38;5;241m=\u001b[39m WordCloud(width \u001b[38;5;241m=\u001b[39m \u001b[38;5;241m800\u001b[39m, height \u001b[38;5;241m=\u001b[39m \u001b[38;5;241m800\u001b[39m,\n\u001b[1;32m     32\u001b[0m                 background_color \u001b[38;5;241m=\u001b[39m\u001b[38;5;124m'\u001b[39m\u001b[38;5;124mwhite\u001b[39m\u001b[38;5;124m'\u001b[39m,\n\u001b[1;32m     33\u001b[0m                 stopwords \u001b[38;5;241m=\u001b[39m stopwords,\n\u001b[0;32m---> 34\u001b[0m                 min_font_size \u001b[38;5;241m=\u001b[39m \u001b[38;5;241m10\u001b[39m)\u001b[38;5;241m.\u001b[39mgenerate(comment_words)\n\u001b[1;32m     36\u001b[0m \u001b[38;5;66;03m# plot the WordCloud image                      \u001b[39;00m\n\u001b[1;32m     37\u001b[0m plt\u001b[38;5;241m.\u001b[39mfigure(figsize \u001b[38;5;241m=\u001b[39m (\u001b[38;5;241m8\u001b[39m, \u001b[38;5;241m8\u001b[39m), facecolor \u001b[38;5;241m=\u001b[39m \u001b[38;5;28;01mNone\u001b[39;00m)\n",
      "File \u001b[0;32m/opt/anaconda3/lib/python3.13/site-packages/wordcloud/wordcloud.py:642\u001b[0m, in \u001b[0;36mWordCloud.generate\u001b[0;34m(self, text)\u001b[0m\n\u001b[1;32m    627\u001b[0m \u001b[38;5;28;01mdef\u001b[39;00m\u001b[38;5;250m \u001b[39m\u001b[38;5;21mgenerate\u001b[39m(\u001b[38;5;28mself\u001b[39m, text):\n\u001b[1;32m    628\u001b[0m \u001b[38;5;250m    \u001b[39m\u001b[38;5;124;03m\"\"\"Generate wordcloud from text.\u001b[39;00m\n\u001b[1;32m    629\u001b[0m \n\u001b[1;32m    630\u001b[0m \u001b[38;5;124;03m    The input \"text\" is expected to be a natural text. If you pass a sorted\u001b[39;00m\n\u001b[0;32m   (...)\u001b[0m\n\u001b[1;32m    640\u001b[0m \u001b[38;5;124;03m    self\u001b[39;00m\n\u001b[1;32m    641\u001b[0m \u001b[38;5;124;03m    \"\"\"\u001b[39;00m\n\u001b[0;32m--> 642\u001b[0m     \u001b[38;5;28;01mreturn\u001b[39;00m \u001b[38;5;28mself\u001b[39m\u001b[38;5;241m.\u001b[39mgenerate_from_text(text)\n",
      "File \u001b[0;32m/opt/anaconda3/lib/python3.13/site-packages/wordcloud/wordcloud.py:624\u001b[0m, in \u001b[0;36mWordCloud.generate_from_text\u001b[0;34m(self, text)\u001b[0m\n\u001b[1;32m    607\u001b[0m \u001b[38;5;250m\u001b[39m\u001b[38;5;124;03m\"\"\"Generate wordcloud from text.\u001b[39;00m\n\u001b[1;32m    608\u001b[0m \n\u001b[1;32m    609\u001b[0m \u001b[38;5;124;03mThe input \"text\" is expected to be a natural text. If you pass a sorted\u001b[39;00m\n\u001b[0;32m   (...)\u001b[0m\n\u001b[1;32m    621\u001b[0m \u001b[38;5;124;03mself\u001b[39;00m\n\u001b[1;32m    622\u001b[0m \u001b[38;5;124;03m\"\"\"\u001b[39;00m\n\u001b[1;32m    623\u001b[0m words \u001b[38;5;241m=\u001b[39m \u001b[38;5;28mself\u001b[39m\u001b[38;5;241m.\u001b[39mprocess_text(text)\n\u001b[0;32m--> 624\u001b[0m \u001b[38;5;28mself\u001b[39m\u001b[38;5;241m.\u001b[39mgenerate_from_frequencies(words)\n\u001b[1;32m    625\u001b[0m \u001b[38;5;28;01mreturn\u001b[39;00m \u001b[38;5;28mself\u001b[39m\n",
      "File \u001b[0;32m/opt/anaconda3/lib/python3.13/site-packages/wordcloud/wordcloud.py:410\u001b[0m, in \u001b[0;36mWordCloud.generate_from_frequencies\u001b[0;34m(self, frequencies, max_font_size)\u001b[0m\n\u001b[1;32m    408\u001b[0m frequencies \u001b[38;5;241m=\u001b[39m \u001b[38;5;28msorted\u001b[39m(frequencies\u001b[38;5;241m.\u001b[39mitems(), key\u001b[38;5;241m=\u001b[39mitemgetter(\u001b[38;5;241m1\u001b[39m), reverse\u001b[38;5;241m=\u001b[39m\u001b[38;5;28;01mTrue\u001b[39;00m)\n\u001b[1;32m    409\u001b[0m \u001b[38;5;28;01mif\u001b[39;00m \u001b[38;5;28mlen\u001b[39m(frequencies) \u001b[38;5;241m<\u001b[39m\u001b[38;5;241m=\u001b[39m \u001b[38;5;241m0\u001b[39m:\n\u001b[0;32m--> 410\u001b[0m     \u001b[38;5;28;01mraise\u001b[39;00m \u001b[38;5;167;01mValueError\u001b[39;00m(\u001b[38;5;124m\"\u001b[39m\u001b[38;5;124mWe need at least 1 word to plot a word cloud, \u001b[39m\u001b[38;5;124m\"\u001b[39m\n\u001b[1;32m    411\u001b[0m                      \u001b[38;5;124m\"\u001b[39m\u001b[38;5;124mgot \u001b[39m\u001b[38;5;132;01m%d\u001b[39;00m\u001b[38;5;124m.\u001b[39m\u001b[38;5;124m\"\u001b[39m \u001b[38;5;241m%\u001b[39m \u001b[38;5;28mlen\u001b[39m(frequencies))\n\u001b[1;32m    412\u001b[0m frequencies \u001b[38;5;241m=\u001b[39m frequencies[:\u001b[38;5;28mself\u001b[39m\u001b[38;5;241m.\u001b[39mmax_words]\n\u001b[1;32m    414\u001b[0m \u001b[38;5;66;03m# largest entry will be 1\u001b[39;00m\n",
      "\u001b[0;31mValueError\u001b[0m: We need at least 1 word to plot a word cloud, got 0."
     ]
    }
   ],
   "source": [
    "from wordcloud import WordCloud, STOPWORDS\n",
    "import matplotlib.pyplot as plt\n",
    "\n",
    "#df = pd.read_csv(r\"Youtube04-Eminem.csv\", encoding =\"latin-1\")\n",
    " \n",
    "comment_words = ''\n",
    "stopwords = set(STOPWORDS)\n",
    "ADDWORDS = {'work',\"need\",\"location\",\"working\",\n",
    "            \"employee\",\"will\",\"benefits\",\"compensation\",\n",
    "           \"must\", \"may\",\"company\",'candidate','position','job', 'required','provide','including'\n",
    "           \"application\",'employees','product','customer','including','San Francisco,''application',\n",
    "           'planning','org','year','requirement','water','supply','application','years','project',\n",
    "           'requirements','applicant','related','san','francisco','Experience'}\n",
    "stopwords.update(ADDWORDS)\n",
    " \n",
    "# iterate through the csv file\n",
    "for val in data:\n",
    "     \n",
    "    # typecaste each val to string\n",
    "    val = str(val)\n",
    " \n",
    "    # split the value\n",
    "    tokens = val.split()\n",
    "     \n",
    "    # Converts each token into lowercase\n",
    "    for i in range(len(tokens)):\n",
    "        tokens[i] = tokens[i].lower()\n",
    "     \n",
    "    comment_words += \" \".join(tokens)+\" \"\n",
    " \n",
    "wordcloud = WordCloud(width = 800, height = 800,\n",
    "                background_color ='white',\n",
    "                stopwords = stopwords,\n",
    "                min_font_size = 10).generate(comment_words)\n",
    " \n",
    "# plot the WordCloud image                      \n",
    "plt.figure(figsize = (8, 8), facecolor = None)\n",
    "plt.imshow(wordcloud)\n",
    "plt.axis(\"off\")\n",
    "plt.tight_layout(pad = 0)\n",
    "\n",
    "name = \"WordCloud_JobNames_\" + '_search_' + area + '_' + location + '_' + '.png'\n",
    "wordcloud.to_file(name)\n",
    " \n",
    "plt.show()\n"
   ]
  },
  {
   "cell_type": "markdown",
   "id": "b4b164dd",
   "metadata": {},
   "source": [
    "## Now do what we just did but gather data from multiple pages"
   ]
  },
  {
   "cell_type": "code",
   "execution_count": null,
   "id": "bb868cd4",
   "metadata": {},
   "outputs": [],
   "source": [
    "# THis takes a while and web browser will keep opening and closing\n",
    "#---------- pass variables ---------------\n",
    "area = \"Data Science\"\n",
    "location = \"California\"\n",
    "pages=8\n",
    "removeNA=False\n",
    "bachelors_only=True\n",
    "min_salary = 50000\n",
    "\n",
    "#---------- def function ----------------\n",
    "JOBS = []\n",
    "\n",
    "companies = []\n",
    "cities = []\n",
    "salaries = []\n",
    "job_titles = []\n",
    "links = []\n",
    "\n",
    "sc = '&vjk=44c2856b496520b7'\n",
    "for page in range(pages):\n",
    "    if page ==0:\n",
    "        web_address='https://www.indeed.com/jobs?q='+area + '+$' + str(min_salary) +'&l='+location\n",
    "        if bachelors_only == True:\n",
    "            web_address='https://www.indeed.com/jobs?q='+area+ '+$' + str(min_salary) +'&l='+location + sc  \n",
    "    else:\n",
    "        start_page = page*10\n",
    "        web_address='https://www.indeed.com/jobs?q='+area+ '+$' + str(min_salary) +'&l='+location+'&start='+str(start_page)\n",
    "        if bachelors_only == True:\n",
    "            web_address='https://www.indeed.com/jobs?q='+area+ '+$' + str(min_salary) +'&l='+location + sc +'&start='+str(start_page)\n",
    "            \n",
    "    \n",
    "    # Get the page data\n",
    "    driver = webdriver.Chrome(service=service,options=options)\n",
    "    driver.get(web_address)\n",
    "    # wait a few seconds for the page to load\n",
    "    time.sleep(3)\n",
    "    html_source_code = driver.execute_script(\"return document.body.innerHTML;\")\n",
    "    soup = BeautifulSoup(html_source_code, 'html.parser')\n",
    "    # Close page\n",
    "    driver.close()\n",
    "    \n",
    "    # Save the job info Data Frame\n",
    "    \n",
    "    # Job Titles\n",
    "    job_results = soup.find_all('h2', class_=\"jobTitle\")\n",
    "    jobs = [r.text for r in job_results]\n",
    "    for j in jobs:\n",
    "        job_titles.append(j)\n",
    "    \n",
    "    # Links to the named jobs\n",
    "    link_results = soup.find_all('a', class_=\"jcs-JobTitle\")\n",
    "    tmp_links = ['https://www.indeed.com' + r.get('href') for r in link_results]\n",
    "    for l in tmp_links:\n",
    "        links.append(l)\n",
    "    \n",
    "    # Get company and salary info\n",
    "    info_results = soup.find_all('td', class_=\"resultContent css-1o6lhys eu4oa1w0\")\n",
    "    for i in range(len(info_results)):\n",
    "        tmp_company = info_results[i].find_all(\"span\", {\"data-testid\": \"company-name\"})\n",
    "        if tmp_company == []:\n",
    "            tmp_company = 'NONE'\n",
    "            companies.append(tmp_company)\n",
    "        else:\n",
    "            companies.append(tmp_company[0].text)\n",
    "        \n",
    "        tmp_location = info_results[i].find_all('div', {\"data-testid\": \"text-location\"})\n",
    "        if tmp_location == []:\n",
    "            tmp_location = 'NONE'\n",
    "            cities.append(tmp_location)\n",
    "        else:\n",
    "            cities.append(tmp_location[0].text)\n",
    "        tmp_salary = info_results[i].find_all('h2', class_=\"mosaic-provider-jobcards-5vqdjd e1tiznh50\")\n",
    "        if tmp_salary == []:\n",
    "            tmp_salary = 'NA'\n",
    "            salaries.append(tmp_salary)\n",
    "        else:\n",
    "            salaries.append(tmp_salary[0].text)\n",
    "    \n",
    "    \n",
    "    for i, job in enumerate(job_titles): \n",
    "        company = companies[i]\n",
    "        city = cities[i]\n",
    "        salary = salaries[i]\n",
    "        link = links[i]\n",
    "        tmp = (job,\n",
    "               company, \n",
    "               city,\n",
    "               salary,\n",
    "               link)\n",
    "        JOBS.append(tmp)\n",
    "\n",
    "# Create the results Data Frame\n",
    "job_listings = pd.DataFrame(JOBS, \n",
    "                            columns=['Job',\n",
    "                                     'Company',\n",
    "                                     'Location',\n",
    "                                     'Salary',\n",
    "                                     'Link'],\n",
    "                           index=[i+1 for i in range(len(JOBS))])\n",
    "\n",
    "total_list = len(job_listings)\n",
    "job_listings = job_listings.drop_duplicates(subset='Link')\n",
    "unique_len = len(job_listings)\n",
    "print(\"Removed {} duplicates\".format(total_list-unique_len))\n",
    "\n",
    "\n",
    "print(\"In the first {} pages: Found {} unique jobs matching {} in {} with a minimum salary {}\".format(pages,job_listings.shape[0],area,location,min_salary))\n",
    "if bachelors_only == True:\n",
    "    print(\"Eductation = Bachelors Degree\")\n",
    "if removeNA==True:\n",
    "    print(\"Removing jobs with NA salary...\")\n",
    "    job_listings = job_listings[job_listings.Salary!='NA'].copy().reset_index()\n",
    "    print(\"Resulting in {} remaining jobs\".format(job_listings.shape[0]))\n",
    "    \n",
    "\n",
    "\n",
    "job_listings"
   ]
  },
  {
   "cell_type": "code",
   "execution_count": null,
   "id": "1f9ead66",
   "metadata": {},
   "outputs": [],
   "source": [
    "file_name = \"WordCloud_JobNames_\" + str(len(list(job_listings.Job))) + '_search_' + area + '_' + location + '_' + str(min_salary) + '.xlsx'\n",
    "job_listings.to_excel(file_name)"
   ]
  },
  {
   "cell_type": "markdown",
   "id": "490ab948",
   "metadata": {},
   "source": [
    "## Make word cloud of job titles"
   ]
  },
  {
   "cell_type": "code",
   "execution_count": null,
   "id": "e6708834",
   "metadata": {},
   "outputs": [],
   "source": [
    "DATA = list(job_listings.Job)\n",
    "\n",
    "print(\"Analyzing {} jobs from Indeed.com with search: \\n Subject Area = {} \\n Location = {} \\n Salary {}\".format(len(DATA),area,location,min_salary))\n",
    "   \n",
    "comment_words = ''\n",
    "stopwords = set(STOPWORDS)\n",
    "ADDWORDS = {'work',\"need\",\"location\",\"working\",\n",
    "            \"employee\",\"will\",\"benefits\",\"compensation\",\n",
    "           \"must\", \"may\",\"company\",'candidate','position','job'}\n",
    "stopwords.update(ADDWORDS)\n",
    "\n",
    "for val in DATA:\n",
    "    val = str(val)\n",
    "    tokens = val.split()\n",
    "    for i in range(len(tokens)):\n",
    "        tokens[i] = tokens[i].lower()\n",
    "\n",
    "    comment_words += \" \".join(tokens)+\" \"\n",
    "\n",
    "wordcloud = WordCloud(width = 800, height = 800,\n",
    "                background_color ='white',\n",
    "                stopwords = stopwords,\n",
    "                min_font_size = 10).generate(comment_words)\n",
    "\n",
    "# plot the WordCloud image                      \n",
    "plt.figure(figsize = (8, 8), facecolor = None)\n",
    "plt.imshow(wordcloud)\n",
    "plt.axis(\"off\")\n",
    "plt.tight_layout(pad = 0)\n",
    "\n",
    "plt.show()\n",
    "name = \"WordCloud_JobNames_\" + str(len(list(job_listings.Job))) + '_search_' + area + '_' + location + '_' + str(min_salary) + '.png'\n",
    "wordcloud.to_file(name)"
   ]
  },
  {
   "cell_type": "code",
   "execution_count": null,
   "id": "498cfe10-fa84-4499-ad5c-3f22b1623c0d",
   "metadata": {},
   "outputs": [],
   "source": []
  }
 ],
 "metadata": {
  "kernelspec": {
   "display_name": "Python [conda env:base] *",
   "language": "python",
   "name": "conda-base-py"
  },
  "language_info": {
   "codemirror_mode": {
    "name": "ipython",
    "version": 3
   },
   "file_extension": ".py",
   "mimetype": "text/x-python",
   "name": "python",
   "nbconvert_exporter": "python",
   "pygments_lexer": "ipython3",
   "version": "3.13.5"
  }
 },
 "nbformat": 4,
 "nbformat_minor": 5
}
