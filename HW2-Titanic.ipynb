{
 "cells": [
  {
   "cell_type": "markdown",
   "id": "61833161-1c8e-49b6-8491-602d9f443d5d",
   "metadata": {},
   "source": [
    "**HW2 Titanic Data Analysis**\n",
    "1. How many variables and observations? Which are Numerical/Categorical?\n",
    "2. Do any of the columns have NaNs in them? What do NaNs mean?\n",
    "3. How many passengers survived?\n",
    "4. Is survival correlated with Fare?\n",
    "5. How many passengers were alone vs. traveling with family?\n",
    "6. Were people traveling alone more or less likely to survive?\n",
    "7. Do the basic statistics change if you group by class?"
   ]
  },
  {
   "cell_type": "code",
   "execution_count": 19,
   "id": "ebc2fc33-8542-43fa-8775-9ca4965a4f0b",
   "metadata": {},
   "outputs": [],
   "source": [
    "import pandas as pd\n",
    "import numpy as np\n",
    "import matplotlib.pyplot as plt\n",
    "import seaborn as sns"
   ]
  },
  {
   "cell_type": "code",
   "execution_count": 20,
   "id": "47ca0c0b-0867-48dc-afe3-f29a83726a13",
   "metadata": {},
   "outputs": [],
   "source": [
    "file = \"/Users/admin/.cache/kagglehub/datasets/yasserh/titanic-dataset/versions/1/Titanic-Dataset.csv\"\n",
    "df = pd.read_csv(file)"
   ]
  },
  {
   "cell_type": "code",
   "execution_count": 21,
   "id": "fcb4eb23-d343-41e9-8d49-04c0c56dbe2d",
   "metadata": {},
   "outputs": [
    {
     "data": {
      "text/html": [
       "<div>\n",
       "<style scoped>\n",
       "    .dataframe tbody tr th:only-of-type {\n",
       "        vertical-align: middle;\n",
       "    }\n",
       "\n",
       "    .dataframe tbody tr th {\n",
       "        vertical-align: top;\n",
       "    }\n",
       "\n",
       "    .dataframe thead th {\n",
       "        text-align: right;\n",
       "    }\n",
       "</style>\n",
       "<table border=\"1\" class=\"dataframe\">\n",
       "  <thead>\n",
       "    <tr style=\"text-align: right;\">\n",
       "      <th></th>\n",
       "      <th>PassengerId</th>\n",
       "      <th>Survived</th>\n",
       "      <th>Pclass</th>\n",
       "      <th>Name</th>\n",
       "      <th>Sex</th>\n",
       "      <th>Age</th>\n",
       "      <th>SibSp</th>\n",
       "      <th>Parch</th>\n",
       "      <th>Ticket</th>\n",
       "      <th>Fare</th>\n",
       "      <th>Cabin</th>\n",
       "      <th>Embarked</th>\n",
       "    </tr>\n",
       "  </thead>\n",
       "  <tbody>\n",
       "    <tr>\n",
       "      <th>0</th>\n",
       "      <td>1</td>\n",
       "      <td>0</td>\n",
       "      <td>3</td>\n",
       "      <td>Braund, Mr. Owen Harris</td>\n",
       "      <td>male</td>\n",
       "      <td>22.0</td>\n",
       "      <td>1</td>\n",
       "      <td>0</td>\n",
       "      <td>A/5 21171</td>\n",
       "      <td>7.2500</td>\n",
       "      <td>NaN</td>\n",
       "      <td>S</td>\n",
       "    </tr>\n",
       "    <tr>\n",
       "      <th>1</th>\n",
       "      <td>2</td>\n",
       "      <td>1</td>\n",
       "      <td>1</td>\n",
       "      <td>Cumings, Mrs. John Bradley (Florence Briggs Th...</td>\n",
       "      <td>female</td>\n",
       "      <td>38.0</td>\n",
       "      <td>1</td>\n",
       "      <td>0</td>\n",
       "      <td>PC 17599</td>\n",
       "      <td>71.2833</td>\n",
       "      <td>C85</td>\n",
       "      <td>C</td>\n",
       "    </tr>\n",
       "    <tr>\n",
       "      <th>2</th>\n",
       "      <td>3</td>\n",
       "      <td>1</td>\n",
       "      <td>3</td>\n",
       "      <td>Heikkinen, Miss. Laina</td>\n",
       "      <td>female</td>\n",
       "      <td>26.0</td>\n",
       "      <td>0</td>\n",
       "      <td>0</td>\n",
       "      <td>STON/O2. 3101282</td>\n",
       "      <td>7.9250</td>\n",
       "      <td>NaN</td>\n",
       "      <td>S</td>\n",
       "    </tr>\n",
       "    <tr>\n",
       "      <th>3</th>\n",
       "      <td>4</td>\n",
       "      <td>1</td>\n",
       "      <td>1</td>\n",
       "      <td>Futrelle, Mrs. Jacques Heath (Lily May Peel)</td>\n",
       "      <td>female</td>\n",
       "      <td>35.0</td>\n",
       "      <td>1</td>\n",
       "      <td>0</td>\n",
       "      <td>113803</td>\n",
       "      <td>53.1000</td>\n",
       "      <td>C123</td>\n",
       "      <td>S</td>\n",
       "    </tr>\n",
       "    <tr>\n",
       "      <th>4</th>\n",
       "      <td>5</td>\n",
       "      <td>0</td>\n",
       "      <td>3</td>\n",
       "      <td>Allen, Mr. William Henry</td>\n",
       "      <td>male</td>\n",
       "      <td>35.0</td>\n",
       "      <td>0</td>\n",
       "      <td>0</td>\n",
       "      <td>373450</td>\n",
       "      <td>8.0500</td>\n",
       "      <td>NaN</td>\n",
       "      <td>S</td>\n",
       "    </tr>\n",
       "  </tbody>\n",
       "</table>\n",
       "</div>"
      ],
      "text/plain": [
       "   PassengerId  Survived  Pclass  \\\n",
       "0            1         0       3   \n",
       "1            2         1       1   \n",
       "2            3         1       3   \n",
       "3            4         1       1   \n",
       "4            5         0       3   \n",
       "\n",
       "                                                Name     Sex   Age  SibSp  \\\n",
       "0                            Braund, Mr. Owen Harris    male  22.0      1   \n",
       "1  Cumings, Mrs. John Bradley (Florence Briggs Th...  female  38.0      1   \n",
       "2                             Heikkinen, Miss. Laina  female  26.0      0   \n",
       "3       Futrelle, Mrs. Jacques Heath (Lily May Peel)  female  35.0      1   \n",
       "4                           Allen, Mr. William Henry    male  35.0      0   \n",
       "\n",
       "   Parch            Ticket     Fare Cabin Embarked  \n",
       "0      0         A/5 21171   7.2500   NaN        S  \n",
       "1      0          PC 17599  71.2833   C85        C  \n",
       "2      0  STON/O2. 3101282   7.9250   NaN        S  \n",
       "3      0            113803  53.1000  C123        S  \n",
       "4      0            373450   8.0500   NaN        S  "
      ]
     },
     "execution_count": 21,
     "metadata": {},
     "output_type": "execute_result"
    }
   ],
   "source": [
    "df.head()"
   ]
  },
  {
   "cell_type": "markdown",
   "id": "9e3bbba2-b5e1-43f6-a7b2-4bf89fca87b7",
   "metadata": {},
   "source": [
    "**1. How many variables and observations? Which are Numerical/Categorical?**\n"
   ]
  },
  {
   "cell_type": "code",
   "execution_count": 22,
   "id": "45c7ff01-8b85-4e4a-83a4-6d34a479bbb9",
   "metadata": {},
   "outputs": [
    {
     "name": "stdout",
     "output_type": "stream",
     "text": [
      "<class 'pandas.core.frame.DataFrame'>\n",
      "RangeIndex: 891 entries, 0 to 890\n",
      "Data columns (total 12 columns):\n",
      " #   Column       Non-Null Count  Dtype  \n",
      "---  ------       --------------  -----  \n",
      " 0   PassengerId  891 non-null    int64  \n",
      " 1   Survived     891 non-null    int64  \n",
      " 2   Pclass       891 non-null    int64  \n",
      " 3   Name         891 non-null    object \n",
      " 4   Sex          891 non-null    object \n",
      " 5   Age          714 non-null    float64\n",
      " 6   SibSp        891 non-null    int64  \n",
      " 7   Parch        891 non-null    int64  \n",
      " 8   Ticket       891 non-null    object \n",
      " 9   Fare         891 non-null    float64\n",
      " 10  Cabin        204 non-null    object \n",
      " 11  Embarked     889 non-null    object \n",
      "dtypes: float64(2), int64(5), object(5)\n",
      "memory usage: 83.7+ KB\n"
     ]
    }
   ],
   "source": [
    "df.shape\n",
    "df.info()"
   ]
  },
  {
   "cell_type": "markdown",
   "id": "757c04bf-e97f-4720-b6cf-41a0390d3341",
   "metadata": {},
   "source": [
    "So this dataset contains a lot of information about the titanic customers. There are 891 observations(rows) and 12 variables(columns). Some numerical values include, PassengerId, Survived, Pclass, Age, SibSp, Parch, Fare, and some categorical variables include, Name, Sex, Ticket, Cabin, Embarked."
   ]
  },
  {
   "cell_type": "markdown",
   "id": "88d8c8a8-527d-4ed5-8f94-9da3546d3160",
   "metadata": {},
   "source": [
    "**2. Do any of the columns have NaNs in them? What do NaNs mean?**\n"
   ]
  },
  {
   "cell_type": "code",
   "execution_count": 23,
   "id": "f93079c3-3775-4047-9a20-66c9742108cf",
   "metadata": {},
   "outputs": [
    {
     "data": {
      "text/plain": [
       "PassengerId      0\n",
       "Survived         0\n",
       "Pclass           0\n",
       "Name             0\n",
       "Sex              0\n",
       "Age            177\n",
       "SibSp            0\n",
       "Parch            0\n",
       "Ticket           0\n",
       "Fare             0\n",
       "Cabin          687\n",
       "Embarked         2\n",
       "dtype: int64"
      ]
     },
     "execution_count": 23,
     "metadata": {},
     "output_type": "execute_result"
    }
   ],
   "source": [
    "df.isna().sum()"
   ]
  },
  {
   "cell_type": "markdown",
   "id": "97019fa2-9edc-421f-b69d-da389eeaea04",
   "metadata": {},
   "source": [
    "In this section, there are a few columns with a few NaN's. Age has about 177 missing values, Cabin has 687 missing values, and Embarked has 2 values. NaN means not a number which represents missing or unknown data. This in the context of age, is if the passenger's age was not recorded it would be recorded as NaN."
   ]
  },
  {
   "cell_type": "markdown",
   "id": "9df68550-b424-4a12-a3bf-5993635762d6",
   "metadata": {},
   "source": [
    "**3. How many passengers survived?**\n"
   ]
  },
  {
   "cell_type": "code",
   "execution_count": 24,
   "id": "24c7286c-5dfb-4c76-b394-e2177a34027a",
   "metadata": {},
   "outputs": [
    {
     "data": {
      "text/plain": [
       "Survived\n",
       "0    549\n",
       "1    342\n",
       "Name: count, dtype: int64"
      ]
     },
     "execution_count": 24,
     "metadata": {},
     "output_type": "execute_result"
    }
   ],
   "source": [
    "df['Survived'].value_counts()"
   ]
  },
  {
   "cell_type": "markdown",
   "id": "93dd33ea-165a-4269-8aaa-6e54d22eb187",
   "metadata": {},
   "source": [
    "This data set shows us that 342 passengers survived and 549 passengers did not survive. The 0 represents the people that died and 1 represents the people that survived."
   ]
  },
  {
   "cell_type": "markdown",
   "id": "21ceb88f-00b4-4e88-88b4-e0f641f0a997",
   "metadata": {},
   "source": [
    "**4. Is survival correlated with Fare?**\n"
   ]
  },
  {
   "cell_type": "code",
   "execution_count": 25,
   "id": "00d5edf6-4344-4a13-9335-c5f6241168da",
   "metadata": {},
   "outputs": [
    {
     "data": {
      "text/html": [
       "<div>\n",
       "<style scoped>\n",
       "    .dataframe tbody tr th:only-of-type {\n",
       "        vertical-align: middle;\n",
       "    }\n",
       "\n",
       "    .dataframe tbody tr th {\n",
       "        vertical-align: top;\n",
       "    }\n",
       "\n",
       "    .dataframe thead th {\n",
       "        text-align: right;\n",
       "    }\n",
       "</style>\n",
       "<table border=\"1\" class=\"dataframe\">\n",
       "  <thead>\n",
       "    <tr style=\"text-align: right;\">\n",
       "      <th></th>\n",
       "      <th>Fare</th>\n",
       "      <th>Survived</th>\n",
       "    </tr>\n",
       "  </thead>\n",
       "  <tbody>\n",
       "    <tr>\n",
       "      <th>Fare</th>\n",
       "      <td>1.000000</td>\n",
       "      <td>0.257307</td>\n",
       "    </tr>\n",
       "    <tr>\n",
       "      <th>Survived</th>\n",
       "      <td>0.257307</td>\n",
       "      <td>1.000000</td>\n",
       "    </tr>\n",
       "  </tbody>\n",
       "</table>\n",
       "</div>"
      ],
      "text/plain": [
       "              Fare  Survived\n",
       "Fare      1.000000  0.257307\n",
       "Survived  0.257307  1.000000"
      ]
     },
     "execution_count": 25,
     "metadata": {},
     "output_type": "execute_result"
    }
   ],
   "source": [
    "df.groupby('Survived')['Fare'].mean()\n",
    "df[['Fare', 'Survived']].corr()"
   ]
  },
  {
   "cell_type": "markdown",
   "id": "0b242d9f-1589-4916-a0af-976408127d3c",
   "metadata": {},
   "source": [
    "Survivors paid about $48 for their ticket, while non-survivors paid about 22 dollars. The correlation between fare and survival is about 0.26, which is a small but positive relationship. This suggests that people who paid higher fares, often those in higher classes, were more likely to survive the Titanic disaster.\n"
   ]
  },
  {
   "cell_type": "markdown",
   "id": "069c5f40-b990-4ef3-934d-87b35ef161f1",
   "metadata": {},
   "source": [
    "**5. How many passengers were alone vs. traveling with family?**\n"
   ]
  },
  {
   "cell_type": "code",
   "execution_count": 26,
   "id": "6c527fcb-c868-42fb-9a98-6ea3bafd6b21",
   "metadata": {},
   "outputs": [
    {
     "data": {
      "text/plain": [
       "Alone\n",
       "True     537\n",
       "False    354\n",
       "Name: count, dtype: int64"
      ]
     },
     "execution_count": 26,
     "metadata": {},
     "output_type": "execute_result"
    }
   ],
   "source": [
    "df['FamilySize'] = df['SibSp'] + df['Parch']\n",
    "df['Alone'] = df['FamilySize'] == 0\n",
    "\n",
    "df['Alone'].value_counts()"
   ]
  },
  {
   "cell_type": "markdown",
   "id": "285f31bb-5429-4387-9728-9ed3983456ad",
   "metadata": {},
   "source": [
    "About 537 passengers traveled alone, while 354 passengers traveled with their families."
   ]
  },
  {
   "cell_type": "markdown",
   "id": "7dbf7bd2-de9f-4af2-8338-d996b5f60d7c",
   "metadata": {},
   "source": [
    "**6. Were people traveling alone more or less likely to survive?**\n"
   ]
  },
  {
   "cell_type": "code",
   "execution_count": 27,
   "id": "398f2b92-3b09-4ad1-a61e-c80a9d994ac9",
   "metadata": {},
   "outputs": [
    {
     "data": {
      "text/plain": [
       "Alone\n",
       "False    0.505650\n",
       "True     0.303538\n",
       "Name: Survived, dtype: float64"
      ]
     },
     "execution_count": 27,
     "metadata": {},
     "output_type": "execute_result"
    }
   ],
   "source": [
    "df.groupby('Alone')['Survived'].mean()"
   ]
  },
  {
   "cell_type": "markdown",
   "id": "c7197508-34fb-4942-8802-86fe43192b7c",
   "metadata": {},
   "source": [
    "Passengers traveling alone survived at a lower rate at around 30%, while those traveling with family survived at a higher rate of around 50%. This meant that traveling with a family increased their chances of survival. "
   ]
  },
  {
   "cell_type": "markdown",
   "id": "2bed1bbe-7213-4c5e-b089-2af7774bb372",
   "metadata": {},
   "source": [
    "**7. Do the basic statistics change if you group by class?**"
   ]
  },
  {
   "cell_type": "code",
   "execution_count": 28,
   "id": "aeb4ed71-6896-48fa-8c7c-b7bb789dc05f",
   "metadata": {},
   "outputs": [
    {
     "data": {
      "text/plain": [
       "Pclass  Sex   \n",
       "1       female    0.968085\n",
       "        male      0.368852\n",
       "2       female    0.921053\n",
       "        male      0.157407\n",
       "3       female    0.500000\n",
       "        male      0.135447\n",
       "Name: Survived, dtype: float64"
      ]
     },
     "execution_count": 28,
     "metadata": {},
     "output_type": "execute_result"
    }
   ],
   "source": [
    "df.groupby('Pclass')['Survived'].mean()\n",
    "df.groupby(['Pclass','Sex'])['Survived'].mean()"
   ]
  },
  {
   "cell_type": "markdown",
   "id": "12175184-83f0-4da6-87db-3feba973b2cd",
   "metadata": {},
   "source": [
    "1st class passengers had the highest survival rates, while 3rd class passengers had the lowest. Looking more closely at both class and sex together, we see that women in 1st and 2nd class had extremely high survival rates, while women in 3rd class survived about half the time. Men, on the other hand, had much lower survival chances across all classes, with 1st class men surviving less than men in 2nd and 3rd class. This shows that both class and gender played a major role in survival on the Titanic.\n"
   ]
  },
  {
   "cell_type": "markdown",
   "id": "1fb1326e-8414-473b-b0cf-7e7b3e7c54dd",
   "metadata": {},
   "source": [
    "**8. Survival by Sex**"
   ]
  },
  {
   "cell_type": "code",
   "execution_count": 29,
   "id": "0a5ccf91-1c43-45fa-b45c-29fdb49b29aa",
   "metadata": {},
   "outputs": [
    {
     "data": {
      "text/plain": [
       "Sex\n",
       "female    0.742038\n",
       "male      0.188908\n",
       "Name: Survived, dtype: float64"
      ]
     },
     "execution_count": 29,
     "metadata": {},
     "output_type": "execute_result"
    }
   ],
   "source": [
    "df.groupby('Sex')['Survived'].mean()"
   ]
  },
  {
   "cell_type": "markdown",
   "id": "e03de0b4-13a6-45af-bac4-2c7b4c76a669",
   "metadata": {},
   "source": [
    "Here we see that there was a much higher survival rate for women compared to men, this makes sense as well all know the women and children first rule, and this was a strong predictor on whether or not someone survived."
   ]
  },
  {
   "cell_type": "markdown",
   "id": "bec5c98e-7e5a-4e14-8ed8-38edfe4f7ff0",
   "metadata": {},
   "source": [
    "**9.Survival by Age Group**"
   ]
  },
  {
   "cell_type": "code",
   "execution_count": 30,
   "id": "65e18594-74a6-4171-82cd-acabf5424515",
   "metadata": {},
   "outputs": [
    {
     "data": {
      "text/plain": [
       "AgeGroup\n",
       "Child     0.579710\n",
       "Teen      0.428571\n",
       "Adult     0.388788\n",
       "Senior    0.227273\n",
       "Name: Survived, dtype: float64"
      ]
     },
     "execution_count": 30,
     "metadata": {},
     "output_type": "execute_result"
    }
   ],
   "source": [
    "df['AgeGroup'] = pd.cut(df['Age'], bins=[0,12,18,60,80], labels=['Child','Teen','Adult','Senior'])\n",
    "df.groupby('AgeGroup', observed=False)['Survived'].mean()"
   ]
  },
  {
   "cell_type": "markdown",
   "id": "bf0cb59d-e3a1-42bc-9fad-32d74b7d2c79",
   "metadata": {},
   "source": [
    "When we group passengers by age, we see that children had the highest chance to survive, followed by teens and adults, then finally seniors. This shows that younger people had priority during evacuation, and they also naturally had a better chance to survive."
   ]
  },
  {
   "cell_type": "markdown",
   "id": "89d95255-50e6-4e62-b3e7-665299d1c291",
   "metadata": {},
   "source": [
    "**Final Conclusion**\n",
    "\n",
    "Overall, only about 38% of the passengers survived. Women and Children had the highest survival rates while men and seniors had the lowest. Wealth and class also mattered, as those in 1st class had a higher survival rate than 3rd class. Passengers travelling with family also had a higher chance of surviving. In summary, survival on the Titanic was strongly effected by gender, age, family ties, and social class. This shows how social structures can impact the effect of a disaster. "
   ]
  }
 ],
 "metadata": {
  "kernelspec": {
   "display_name": "Python [conda env:base] *",
   "language": "python",
   "name": "conda-base-py"
  },
  "language_info": {
   "codemirror_mode": {
    "name": "ipython",
    "version": 3
   },
   "file_extension": ".py",
   "mimetype": "text/x-python",
   "name": "python",
   "nbconvert_exporter": "python",
   "pygments_lexer": "ipython3",
   "version": "3.13.5"
  }
 },
 "nbformat": 4,
 "nbformat_minor": 5
}
