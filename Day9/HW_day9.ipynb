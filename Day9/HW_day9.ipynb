{
 "cells": [
  {
   "cell_type": "markdown",
   "id": "b89ff64c-fd19-406a-9ed2-3cdf13d3b113",
   "metadata": {},
   "source": [
    "## Intermediate Data Science\n",
    "\n",
    "#### University of Redlands - DATA 201\n",
    "#### Prof: Joanna Bieri [joanna_bieri@redlands.edu](mailto:joanna_bieri@redlands.edu)\n",
    "#### [Class Website: data201.joannabieri.com](https://joannabieri.com/data201_intermediate.html)"
   ]
  },
  {
   "cell_type": "code",
   "execution_count": 1,
   "id": "8f567cff-9b0f-408d-8f06-ded0cf10a6b7",
   "metadata": {},
   "outputs": [],
   "source": [
    "# Some basic package imports\n",
    "import os\n",
    "import numpy as np\n",
    "import pandas as pd\n",
    "\n",
    "# Visualization packages\n",
    "import matplotlib.pyplot as plt\n",
    "import plotly.express as px\n",
    "from plotly.subplots import make_subplots\n",
    "import plotly.io as pio\n",
    "pio.renderers.defaule = 'colab'\n",
    "import seaborn as sns"
   ]
  },
  {
   "cell_type": "markdown",
   "id": "4f472712-4ac6-4c6d-8da6-030ad4880166",
   "metadata": {},
   "source": [
    "### You Try - 3 Warm-Up Problems From Lecture\n",
    "\n",
    "## You Try\n",
    "\n",
    "Write a python **function** that takes as an input a birth date and outputs how old the person is in just years, by using the datetime functionality.\n",
    "\n"
   ]
  },
  {
   "cell_type": "code",
   "execution_count": 8,
   "id": "068b6a49-cccd-414b-a14a-5b2098997b08",
   "metadata": {},
   "outputs": [],
   "source": [
    "from datetime import datetime\n",
    "# your code here"
   ]
  },
  {
   "cell_type": "code",
   "execution_count": 9,
   "id": "8ce88f42-d2be-43a5-b15e-e29596d72cb2",
   "metadata": {},
   "outputs": [],
   "source": [
    "# Your code here\n"
   ]
  },
  {
   "cell_type": "markdown",
   "id": "d36eefa3-658d-49f9-9d71-55db4fa67112",
   "metadata": {},
   "source": [
    "## You try\n",
    "\n",
    "Use the methods from lecture Timestamp, Period, and groupby() to find the maximum and minimum temperatures for each year in our weather data. Plot both the max and min temperatures together on a line graph with the years on the x-axis."
   ]
  },
  {
   "cell_type": "code",
   "execution_count": 1,
   "id": "6eabf6a7-2b3c-439f-b194-c19baf896efd",
   "metadata": {},
   "outputs": [
    {
     "name": "stdout",
     "output_type": "stream",
     "text": [
      "Warning: Looks like you're using an outdated `kagglehub` version (installed: 0.3.8), please consider upgrading to the latest version (0.3.13).\n",
      "Downloading from https://www.kaggle.com/api/v1/datasets/download/parthdande/timeseries-weather-dataset?dataset_version_number=2...\n"
     ]
    },
    {
     "name": "stderr",
     "output_type": "stream",
     "text": [
      "100%|██████████| 11.4M/11.4M [00:00<00:00, 26.8MB/s]"
     ]
    },
    {
     "name": "stdout",
     "output_type": "stream",
     "text": [
      "Extracting files...\n"
     ]
    },
    {
     "name": "stderr",
     "output_type": "stream",
     "text": [
      "\n"
     ]
    },
    {
     "name": "stdout",
     "output_type": "stream",
     "text": [
      "Path to dataset files: /Users/mac/.cache/kagglehub/datasets/parthdande/timeseries-weather-dataset/versions/2\n"
     ]
    },
    {
     "ename": "NameError",
     "evalue": "name 'os' is not defined",
     "output_type": "error",
     "traceback": [
      "\u001b[0;31m---------------------------------------------------------------------------\u001b[0m",
      "\u001b[0;31mNameError\u001b[0m                                 Traceback (most recent call last)",
      "Cell \u001b[0;32mIn[1], line 7\u001b[0m\n\u001b[1;32m      4\u001b[0m path \u001b[38;5;241m=\u001b[39m kagglehub\u001b[38;5;241m.\u001b[39mdataset_download(\u001b[38;5;124m\"\u001b[39m\u001b[38;5;124mparthdande/timeseries-weather-dataset\u001b[39m\u001b[38;5;124m\"\u001b[39m)\n\u001b[1;32m      6\u001b[0m \u001b[38;5;28mprint\u001b[39m(\u001b[38;5;124m\"\u001b[39m\u001b[38;5;124mPath to dataset files:\u001b[39m\u001b[38;5;124m\"\u001b[39m, path)\n\u001b[0;32m----> 7\u001b[0m \u001b[38;5;28mprint\u001b[39m(os\u001b[38;5;241m.\u001b[39mlistdir(path))\n\u001b[1;32m      8\u001b[0m df \u001b[38;5;241m=\u001b[39m pd\u001b[38;5;241m.\u001b[39mread_csv(path\u001b[38;5;241m+\u001b[39m\u001b[38;5;124m'\u001b[39m\u001b[38;5;124m/\u001b[39m\u001b[38;5;124m'\u001b[39m\u001b[38;5;241m+\u001b[39m\u001b[38;5;124m'\u001b[39m\u001b[38;5;124mWeather_Data_1980_2024(hourly).csv\u001b[39m\u001b[38;5;124m'\u001b[39m)\n\u001b[1;32m      9\u001b[0m df\u001b[38;5;241m.\u001b[39mhead(\u001b[38;5;241m5\u001b[39m)\n",
      "\u001b[0;31mNameError\u001b[0m: name 'os' is not defined"
     ]
    }
   ],
   "source": [
    "import kagglehub\n",
    "\n",
    "# Download latest version\n",
    "path = kagglehub.dataset_download(\"parthdande/timeseries-weather-dataset\")\n",
    "\n",
    "print(\"Path to dataset files:\", path)\n",
    "print(os.listdir(path))\n",
    "df = pd.read_csv(path+'/'+'Weather_Data_1980_2024(hourly).csv')\n",
    "df.head(5)"
   ]
  },
  {
   "cell_type": "code",
   "execution_count": 1,
   "id": "43fc5c6d-4f3f-49df-a901-783b5ad640e0",
   "metadata": {},
   "outputs": [],
   "source": [
    "# Your code here\n"
   ]
  },
  {
   "cell_type": "markdown",
   "id": "6cf2a6da-8a56-46dd-91bc-527a80396ad6",
   "metadata": {},
   "source": [
    "## You Try\n",
    "\n",
    "Add the other two stocks to the correlation graph from the lecture notes. Make sure to label the graph clearly and make it look nice! Experiment with different values for your moving average window. What happens when you change this and why?\n",
    "\n"
   ]
  },
  {
   "cell_type": "code",
   "execution_count": 12,
   "id": "08311e23-3e61-4d6a-906d-d0b10e6ed12f",
   "metadata": {},
   "outputs": [],
   "source": [
    "file = 'data/stock_px.csv'\n",
    "df_stocks = pd.read_csv(file,parse_dates=True,index_col=0)\n",
    "df_resample = df_stocks.resample('B').ffill()\n",
    "# Get the percent changes\n",
    "pcng_spx = df_resample['SPX'].pct_change()\n",
    "pcng_aapl = df_resample['AAPL'].pct_change()\n"
   ]
  },
  {
   "cell_type": "code",
   "execution_count": 2,
   "id": "36a02189-7343-4670-be97-61659158a7f3",
   "metadata": {},
   "outputs": [],
   "source": [
    "# Your code here\n"
   ]
  },
  {
   "cell_type": "markdown",
   "id": "3093a585-a00e-496e-ac70-9fb95b7bb54e",
   "metadata": {},
   "source": [
    "---------------\n",
    "## Time Series Data - Day9 HW\n",
    "\n",
    "**Idea from DATAQUEST** \n",
    "- Author = Jennifer Walker\n",
    "- Environmental scientist / data geek / Python evangelist.\n",
    "\n",
    "Open Power System Data (OPSD) for Germany:\n",
    "\n",
    "Electricity production and consumption are reported as daily totals in gigawatt-hours (GWh). The columns of the data file are:\n",
    "\n",
    "- Date — The date (yyyy-mm-dd format)\n",
    "- Consumption — Electricity consumption in GWh\n",
    "- Wind — Wind power production in GWh\n",
    "- Solar — Solar power production in GWh\n",
    "- Wind+Solar — Sum of wind and solar power production in GWh\n",
    "\n",
    "Below I have added some prompts to lead you through the timeseries analysis.\n",
    "\n",
    "\n",
    "Your final notebooks should:\n",
    "\n",
    "- [ ] Be a completely new notebook with just the Day9 stuff in it NO YOU TRY: Read in the data, make the plots. Make sure to discuss what you see and comment on why your plots are great!\n",
    "- [ ] Be reproducible with junk code removed.\n",
    "- [ ] Have lots of language describing what you are doing, especially for questions you are asking or things that you find interesting about the data. Use complete sentences, nice headings, and good markdown formatting: https://www.markdownguide.org/cheat-sheet/\n",
    "- [ ] It should run without errors from start to finish.\n",
    "\n",
    "**Remember to Proof Read and Proof Run your code** Restart the kernel and go through it all once before submitting."
   ]
  },
  {
   "cell_type": "code",
   "execution_count": 3,
   "id": "58996152-3d8c-468f-9384-ec3575376b5c",
   "metadata": {},
   "outputs": [
    {
     "ename": "NameError",
     "evalue": "name 'pd' is not defined",
     "output_type": "error",
     "traceback": [
      "\u001b[0;31m---------------------------------------------------------------------------\u001b[0m",
      "\u001b[0;31mNameError\u001b[0m                                 Traceback (most recent call last)",
      "Cell \u001b[0;32mIn[3], line 1\u001b[0m\n\u001b[0;32m----> 1\u001b[0m df \u001b[38;5;241m=\u001b[39m pd\u001b[38;5;241m.\u001b[39mread_csv(\u001b[38;5;124m'\u001b[39m\u001b[38;5;124mdata/opsd_germany_daily.csv\u001b[39m\u001b[38;5;124m'\u001b[39m, parse_dates \u001b[38;5;241m=\u001b[39m \u001b[38;5;28;01mTrue\u001b[39;00m, index_col\u001b[38;5;241m=\u001b[39m\u001b[38;5;241m0\u001b[39m)\n\u001b[1;32m      2\u001b[0m df\n",
      "\u001b[0;31mNameError\u001b[0m: name 'pd' is not defined"
     ]
    }
   ],
   "source": [
    "df = pd.read_csv('data/opsd_germany_daily.csv', parse_dates = True, index_col=0)\n",
    "df"
   ]
  },
  {
   "cell_type": "markdown",
   "id": "93401cf6-d7be-43d8-aa4e-94733745e0ef",
   "metadata": {},
   "source": [
    "## Data Basics and Preparation\n",
    "\n",
    "Here you get some basic familiarity with the data:\n",
    "\n",
    "- run stats on each of the variables\n",
    "- count nans in each column\n",
    "- look at the data types\n",
    "- double check that you understand the variables and their units\n",
    "- what is the date range and frequency\n",
    "- add columns to the data set: Year, Month, and Weekday Name"
   ]
  },
  {
   "cell_type": "code",
   "execution_count": null,
   "id": "afb91576-e569-4aab-b874-083bde96034f",
   "metadata": {},
   "outputs": [],
   "source": []
  },
  {
   "cell_type": "code",
   "execution_count": null,
   "id": "64ad8220-207d-4845-9f0a-de35443f2bbb",
   "metadata": {},
   "outputs": [],
   "source": []
  },
  {
   "cell_type": "code",
   "execution_count": null,
   "id": "13605c7d-9369-4bef-bd5c-32f2e329a696",
   "metadata": {},
   "outputs": [],
   "source": []
  },
  {
   "cell_type": "code",
   "execution_count": null,
   "id": "ea697ee2-5e6f-408d-97aa-afcc0ce2f533",
   "metadata": {},
   "outputs": [],
   "source": []
  },
  {
   "cell_type": "code",
   "execution_count": null,
   "id": "4d71e47a-1636-4831-9fe3-e5594d5c0160",
   "metadata": {},
   "outputs": [],
   "source": []
  },
  {
   "cell_type": "markdown",
   "id": "a7540272-eaca-48e4-9b10-70df96fae576",
   "metadata": {},
   "source": [
    "## Data Exploration - Basic Visualization\n",
    "\n",
    "Start to make plots and see if you can generate some questions about the data. Make sure that you make observations about each plot - say what you see and what it means in terms of the data.\n",
    "\n",
    "- Plot the overall consumption over time.\n",
    "- Plot the wind and solar consumption over time.\n",
    "\n",
    "- Choose a focal year and redo the plots to look at variability over the year.\n",
    "- Redo this for a focal month"
   ]
  },
  {
   "cell_type": "code",
   "execution_count": null,
   "id": "42811fd7-1183-42bb-a79d-808ae7f9fde2",
   "metadata": {},
   "outputs": [],
   "source": []
  },
  {
   "cell_type": "code",
   "execution_count": null,
   "id": "5f854f1f-2e6d-4900-878c-d7592943219b",
   "metadata": {},
   "outputs": [],
   "source": []
  },
  {
   "cell_type": "code",
   "execution_count": null,
   "id": "9a6ac7c1-a467-482a-9938-5999ba341413",
   "metadata": {},
   "outputs": [],
   "source": []
  },
  {
   "cell_type": "code",
   "execution_count": null,
   "id": "7643fb29-756a-4b19-8360-30abedbb2535",
   "metadata": {},
   "outputs": [],
   "source": []
  },
  {
   "cell_type": "code",
   "execution_count": null,
   "id": "5be12484-62c3-47b7-9082-611eaf87a51a",
   "metadata": {},
   "outputs": [],
   "source": []
  },
  {
   "cell_type": "markdown",
   "id": "1cf1a27a-6845-4d6f-9f99-5fe8ae428f30",
   "metadata": {},
   "source": [
    "## Further Exploration\n",
    "\n",
    "Now continue exploring the data to see what you can find out. Remember to explain what you are learning from each graph or calculation. Add guiding words in markdown to talk about what your code should be doing and why.\n",
    "\n",
    "- How does seasonality effect the energy consumption? Consider the consumption grouped on a monthly basis. You could look at max, min, mean, etc. Make an interesting plot of this data (bar plot, box plot, etc). What do you learn?\n",
    "\n",
    "- How does the day of the week change energy consumption?\n",
    "\n",
    "- Using downsampling, plot on the same graph the daily (original data) and the average weekly (downsampled data) consumption for both solar and wind.\n",
    "\n",
    "- Using downsampling plot the yearly rolling average of both wind and solar consumption.\n",
    "\n",
    "- See if you can come up with a really cool graph of your own!"
   ]
  },
  {
   "cell_type": "code",
   "execution_count": null,
   "id": "973304b8-0ad2-4101-aeac-2fe562f488b2",
   "metadata": {},
   "outputs": [],
   "source": []
  },
  {
   "cell_type": "code",
   "execution_count": null,
   "id": "02bcedd0-3e7d-4c60-b294-309db3f8e9b8",
   "metadata": {},
   "outputs": [],
   "source": []
  },
  {
   "cell_type": "code",
   "execution_count": null,
   "id": "b1c38396-2f65-460f-90df-35f3769efb80",
   "metadata": {},
   "outputs": [],
   "source": []
  },
  {
   "cell_type": "code",
   "execution_count": null,
   "id": "2f570fe8-f2d4-4e3c-8b70-b907668da771",
   "metadata": {},
   "outputs": [],
   "source": []
  },
  {
   "cell_type": "code",
   "execution_count": null,
   "id": "80c493bc-6d46-4d25-8a6b-dc25001313ae",
   "metadata": {},
   "outputs": [],
   "source": []
  },
  {
   "cell_type": "markdown",
   "id": "3bc3dac6-cce2-48d1-a98f-d3484b95a4c1",
   "metadata": {},
   "source": [
    "## Conclusion"
   ]
  },
  {
   "cell_type": "code",
   "execution_count": null,
   "id": "394057fb-0ab3-48c3-9577-397863bbb43f",
   "metadata": {},
   "outputs": [],
   "source": []
  },
  {
   "cell_type": "code",
   "execution_count": null,
   "id": "8be9df4f-0a4d-40ae-a4bb-4633122ec18f",
   "metadata": {},
   "outputs": [],
   "source": []
  }
 ],
 "metadata": {
  "kernelspec": {
   "display_name": "Python [conda env:base] *",
   "language": "python",
   "name": "conda-base-py"
  },
  "language_info": {
   "codemirror_mode": {
    "name": "ipython",
    "version": 3
   },
   "file_extension": ".py",
   "mimetype": "text/x-python",
   "name": "python",
   "nbconvert_exporter": "python",
   "pygments_lexer": "ipython3",
   "version": "3.13.5"
  }
 },
 "nbformat": 4,
 "nbformat_minor": 5
}
