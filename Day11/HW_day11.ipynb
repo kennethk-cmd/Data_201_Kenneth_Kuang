{
 "cells": [
  {
   "cell_type": "markdown",
   "id": "b89ff64c-fd19-406a-9ed2-3cdf13d3b113",
   "metadata": {},
   "source": [
    "## Intermediate Data Science\n",
    "\n",
    "#### University of Redlands - DATA 201\n",
    "#### Prof: Joanna Bieri [joanna_bieri@redlands.edu](mailto:joanna_bieri@redlands.edu)\n",
    "#### [Class Website: data201.joannabieri.com](https://joannabieri.com/data201_intermediate.html)"
   ]
  },
  {
   "cell_type": "markdown",
   "id": "3093a585-a00e-496e-ac70-9fb95b7bb54e",
   "metadata": {},
   "source": [
    "---------------\n",
    "## Ethics and Data Management - Day11 HW\n",
    "\n",
    "**FIRST**\n",
    "\n",
    "Go back through your data science projects. \n",
    "\n",
    "- How have you been doing with data and project management? Are things clearly labeled and organized? Could you add README files to some of your folders?\n",
    "- What might you change in the future to be a more responsible data manager?\n",
    "- Look back at a recent homework assignment, did you follow best practices for data management, referencing data sources and licenses, and reproducibility? What could you do better?\n",
    "    \n",
    "\n",
    "*There is nothing to hand in for this first part, but please reflect on your current data and code management practices*\n",
    "\n",
    "\n",
    "**SECOND**\n",
    "\n",
    "1. Read the case study: [https://bdes.datasociety.net/wp-content/uploads/2016/10/Patreon-Case-Study.pdf](https://bdes.datasociety.net/wp-content/uploads/2016/10/Patreon-Case-Study.pdf)\n",
    "\n",
    "2. Reflect on each of the questions on page 6. Write down some talking points for each question. See if you can think about both sides of the argument:\n",
    "\n",
    "    - In what instances would this be ethical?\n",
    "    - In what instances would this be unethical?\n",
    "    - Where is the grey area?\n",
    "      \n",
    "3. In groups of 2-3 come to class prepared to lead a discussion on one of the questions. Do a little research and see if you can find more examples to think about. Here are some prompts that might help you search:\n",
    "\n",
    "    - Q1 What are some other examples of illegal data collection? How was the resulting data used/abused?\n",
    "    - Q2 Find some more examples of when Scientists, Companies or Journalists were operating in the grey area of the expectation of privacy\n",
    "    - Q3 What are some ways the ethics might be the same or different for Scientists, Companies, Governments, or Journalists?\n",
    "    - Q4 What are some examples where researchers claimed a net benefit to society but where this was not really clear?\n",
    "\n",
    "\n",
    "What you should submit on Canvas:\n",
    "\n",
    "- [ ] Your notes about the reading and your responses to each of the questions. This can be photos of your writing, digital notes, or typed up notes.\n",
    "- [ ] You groups final \"presentation\" - in whatever form you prepare.\n",
    "- [ ] **Please submit this before class!**\n"
   ]
  },
  {
   "cell_type": "code",
   "execution_count": null,
   "id": "42811fd7-1183-42bb-a79d-808ae7f9fde2",
   "metadata": {},
   "outputs": [],
   "source": []
  },
  {
   "cell_type": "code",
   "execution_count": null,
   "id": "5f854f1f-2e6d-4900-878c-d7592943219b",
   "metadata": {},
   "outputs": [],
   "source": []
  },
  {
   "cell_type": "code",
   "execution_count": null,
   "id": "9a6ac7c1-a467-482a-9938-5999ba341413",
   "metadata": {},
   "outputs": [],
   "source": []
  },
  {
   "cell_type": "code",
   "execution_count": null,
   "id": "7643fb29-756a-4b19-8360-30abedbb2535",
   "metadata": {},
   "outputs": [],
   "source": []
  },
  {
   "cell_type": "code",
   "execution_count": null,
   "id": "5be12484-62c3-47b7-9082-611eaf87a51a",
   "metadata": {},
   "outputs": [],
   "source": []
  },
  {
   "cell_type": "code",
   "execution_count": null,
   "id": "973304b8-0ad2-4101-aeac-2fe562f488b2",
   "metadata": {},
   "outputs": [],
   "source": []
  },
  {
   "cell_type": "code",
   "execution_count": null,
   "id": "02bcedd0-3e7d-4c60-b294-309db3f8e9b8",
   "metadata": {},
   "outputs": [],
   "source": []
  },
  {
   "cell_type": "code",
   "execution_count": null,
   "id": "b1c38396-2f65-460f-90df-35f3769efb80",
   "metadata": {},
   "outputs": [],
   "source": []
  },
  {
   "cell_type": "code",
   "execution_count": null,
   "id": "2f570fe8-f2d4-4e3c-8b70-b907668da771",
   "metadata": {},
   "outputs": [],
   "source": []
  },
  {
   "cell_type": "code",
   "execution_count": null,
   "id": "80c493bc-6d46-4d25-8a6b-dc25001313ae",
   "metadata": {},
   "outputs": [],
   "source": []
  }
 ],
 "metadata": {
  "kernelspec": {
   "display_name": "Python 3 (ipykernel)",
   "language": "python",
   "name": "python3"
  },
  "language_info": {
   "codemirror_mode": {
    "name": "ipython",
    "version": 3
   },
   "file_extension": ".py",
   "mimetype": "text/x-python",
   "name": "python",
   "nbconvert_exporter": "python",
   "pygments_lexer": "ipython3",
   "version": "3.13.5"
  }
 },
 "nbformat": 4,
 "nbformat_minor": 5
}
