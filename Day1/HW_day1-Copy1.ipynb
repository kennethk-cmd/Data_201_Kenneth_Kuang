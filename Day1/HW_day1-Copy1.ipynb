{
 "cells": [
  {
   "cell_type": "markdown",
   "id": "3ee4f51c-e4db-4665-a559-c701fdbf47b5",
   "metadata": {},
   "source": [
    "## Intermediate Data Science\n",
    "\n",
    "#### University of Redlands - DATA 201\n",
    "#### Prof: Joanna Bieri [joanna_bieri@redlands.edu](mailto:joanna_bieri@redlands.edu)\n",
    "#### [Class Website: data201.joannabieri.com](https://joannabieri.com/data201_intermediate.html)"
   ]
  },
  {
   "cell_type": "markdown",
   "id": "9ad18c6f-984e-4743-997a-feed9d43d243",
   "metadata": {},
   "source": [
    "## Computer Set Up"
   ]
  },
  {
   "cell_type": "code",
   "execution_count": 7,
   "id": "adf4a7d3-b452-468f-9108-8173e236ba41",
   "metadata": {},
   "outputs": [
    {
     "name": "stdout",
     "output_type": "stream",
     "text": [
      "conda 25.7.0\n"
     ]
    }
   ],
   "source": [
    "!conda --version"
   ]
  },
  {
   "cell_type": "code",
   "execution_count": 8,
   "id": "0beec1df-0868-4a19-ba62-c0bc8654fb98",
   "metadata": {},
   "outputs": [
    {
     "name": "stdout",
     "output_type": "stream",
     "text": [
      "git version 2.45.2\n"
     ]
    }
   ],
   "source": [
    "!git --version"
   ]
  },
  {
   "cell_type": "markdown",
   "id": "a3212ecb-0e5d-4af9-9c23-9da3f7d2c6e3",
   "metadata": {},
   "source": [
    "**Clone the Repo for our Class**\n",
    "\n",
    "<a href=\"https://github.com/Redlands-DATA201/FALL25\" target=\"_blank\">Redlands-DATA201/FALL2025</a>"
   ]
  },
  {
   "cell_type": "code",
   "execution_count": 9,
   "id": "d0a237b4-65d5-4c30-a428-5df8348361b8",
   "metadata": {},
   "outputs": [],
   "source": [
    "# # Depending on your setup you might need to install modules\n",
    "# !conda install -y numpy\n",
    "# !conda install -y pandas\n",
    "# !conda install -y matplotlib\n",
    "# !conda install -y plotly"
   ]
  },
  {
   "cell_type": "code",
   "execution_count": 10,
   "id": "455a007e-f738-4c0b-b885-7c936d5367b9",
   "metadata": {},
   "outputs": [],
   "source": [
    "# Some basic package imports\n",
    "import numpy as np\n",
    "import pandas as pd\n",
    "\n",
    "import matplotlib.pyplot as plt\n",
    "import plotly.express as px\n",
    "from plotly.subplots import make_subplots\n",
    "import plotly.io as pio\n",
    "pio.renderers.defaule = 'colab'"
   ]
  },
  {
   "cell_type": "markdown",
   "id": "e5225f08-a34f-490c-9ca1-24f8cd3b9253",
   "metadata": {},
   "source": [
    "# Review of DATA 101\n",
    "\n",
    "For our review we are going to jump in and do some Exploratory Data Analysis (EDA) on a data set that we have seen before. This time you are just given a .csv file and your goal is to analyze it - answering these questions.\n",
    "\n",
    "**I expect this to feel impossible at first!!!** but if you all work together, share code, and look things up as needed, I know you can do it!\n",
    "\n",
    "#### This was a Homework Assignment in Data 101 - but see how much you can figure out on your own!\n",
    "\n",
    "* Answer the following questions using reproducible Python code.\n",
    "    - What does it mean to be reproducible? This means someone else at any time in the future can run and understand your code almost like reading a blog post.\n",
    "* For each question, state your answer in a sentence, e.g. \"In this sample, the first three common names of purchasers are ...\".\n",
    "* Note that the answers to all questions are within the context of this particular sample of sales, i.e. you shouldn't make inferences about the population of all Lego sales based on this sample.\n",
    "\n",
    "0.  Read in the .csv file using Pandas and display it\n",
    "\n",
    "1.  Describe what you see in the data set (variables, observations, etc)\n",
    "\n",
    "2.  What are the three most common first names of purchasers?\n",
    "\n",
    "3.  What are the three most common themes of Lego sets purchased?\n",
    "\n",
    "4.  Among the most common theme of Lego sets purchased, what is the most common subtheme?\n",
    "\n",
    "5.  Create data frames for each of the ages in the following categories: \"18 and under\", \"19 - 25\", \"26 - 35\", \"36 - 50\", \"51 and over\". HINT - use masks\n",
    "\n",
    "6.  Which age group has purchased the highest number of Lego sets.\n",
    "\n",
    "7.  Which age group has spent the most money on Legos?\n",
    "\n",
    "8.  Which Lego theme has made the most money for Lego?\n",
    "\n",
    "9.  Which area code has spent the most money on Legos? In the US the area code is the first 3 digits of a phone number. Then using a for loop calculate the average money spent per customer for each area code.\n",
    "\n",
    "10.  Come up with a question you want to answer using these data, and write it down. Then, create a data visualization that answers the question, and explain how your visualization answers the question.\n",
    "\n",
    "**This exersize comes from: https://datasciencebox.org/course-materials/hw-instructions/hw-05/hw-05-legos**"
   ]
  },
  {
   "cell_type": "code",
   "execution_count": 11,
   "id": "67a96804-0133-4676-ae25-ebfe9e3e706a",
   "metadata": {},
   "outputs": [],
   "source": [
    "file_name = 'data/lego-sales.csv'"
   ]
  },
  {
   "cell_type": "markdown",
   "id": "27671255-2c74-4678-bb79-f16eb54d56fa",
   "metadata": {},
   "source": [
    "Question 1:"
   ]
  },
  {
   "cell_type": "code",
   "execution_count": 12,
   "id": "e55a0c0e-1d63-4467-9a29-172898d3de29",
   "metadata": {},
   "outputs": [
    {
     "data": {
      "text/html": [
       "<div>\n",
       "<style scoped>\n",
       "    .dataframe tbody tr th:only-of-type {\n",
       "        vertical-align: middle;\n",
       "    }\n",
       "\n",
       "    .dataframe tbody tr th {\n",
       "        vertical-align: top;\n",
       "    }\n",
       "\n",
       "    .dataframe thead th {\n",
       "        text-align: right;\n",
       "    }\n",
       "</style>\n",
       "<table border=\"1\" class=\"dataframe\">\n",
       "  <thead>\n",
       "    <tr style=\"text-align: right;\">\n",
       "      <th></th>\n",
       "      <th>first_name</th>\n",
       "      <th>last_name</th>\n",
       "      <th>age</th>\n",
       "      <th>phone_number</th>\n",
       "      <th>set_id</th>\n",
       "      <th>number</th>\n",
       "      <th>theme</th>\n",
       "      <th>subtheme</th>\n",
       "      <th>year</th>\n",
       "      <th>name</th>\n",
       "      <th>pieces</th>\n",
       "      <th>us_price</th>\n",
       "      <th>image_url</th>\n",
       "      <th>quantity</th>\n",
       "    </tr>\n",
       "  </thead>\n",
       "  <tbody>\n",
       "    <tr>\n",
       "      <th>0</th>\n",
       "      <td>Kimberly</td>\n",
       "      <td>Beckstead</td>\n",
       "      <td>24</td>\n",
       "      <td>216-555-2549</td>\n",
       "      <td>24701</td>\n",
       "      <td>76062</td>\n",
       "      <td>DC Comics Super Heroes</td>\n",
       "      <td>Mighty Micros</td>\n",
       "      <td>2018</td>\n",
       "      <td>Robin vs. Bane</td>\n",
       "      <td>77.0</td>\n",
       "      <td>9.99</td>\n",
       "      <td>http://images.brickset.com/sets/images/76062-1...</td>\n",
       "      <td>1</td>\n",
       "    </tr>\n",
       "    <tr>\n",
       "      <th>1</th>\n",
       "      <td>Neel</td>\n",
       "      <td>Garvin</td>\n",
       "      <td>35</td>\n",
       "      <td>819-555-3189</td>\n",
       "      <td>25626</td>\n",
       "      <td>70595</td>\n",
       "      <td>Ninjago</td>\n",
       "      <td>Rise of the Villains</td>\n",
       "      <td>2018</td>\n",
       "      <td>Ultra Stealth Raider</td>\n",
       "      <td>1093.0</td>\n",
       "      <td>119.99</td>\n",
       "      <td>http://images.brickset.com/sets/images/70595-1...</td>\n",
       "      <td>1</td>\n",
       "    </tr>\n",
       "    <tr>\n",
       "      <th>2</th>\n",
       "      <td>Neel</td>\n",
       "      <td>Garvin</td>\n",
       "      <td>35</td>\n",
       "      <td>819-555-3189</td>\n",
       "      <td>24665</td>\n",
       "      <td>21031</td>\n",
       "      <td>Architecture</td>\n",
       "      <td>NaN</td>\n",
       "      <td>2018</td>\n",
       "      <td>Burj Khalifa</td>\n",
       "      <td>333.0</td>\n",
       "      <td>39.99</td>\n",
       "      <td>http://images.brickset.com/sets/images/21031-1...</td>\n",
       "      <td>1</td>\n",
       "    </tr>\n",
       "    <tr>\n",
       "      <th>3</th>\n",
       "      <td>Chelsea</td>\n",
       "      <td>Bouchard</td>\n",
       "      <td>41</td>\n",
       "      <td>NaN</td>\n",
       "      <td>24695</td>\n",
       "      <td>31048</td>\n",
       "      <td>Creator</td>\n",
       "      <td>NaN</td>\n",
       "      <td>2018</td>\n",
       "      <td>Lakeside Lodge</td>\n",
       "      <td>368.0</td>\n",
       "      <td>29.99</td>\n",
       "      <td>http://images.brickset.com/sets/images/31048-1...</td>\n",
       "      <td>1</td>\n",
       "    </tr>\n",
       "    <tr>\n",
       "      <th>4</th>\n",
       "      <td>Chelsea</td>\n",
       "      <td>Bouchard</td>\n",
       "      <td>41</td>\n",
       "      <td>NaN</td>\n",
       "      <td>25626</td>\n",
       "      <td>70595</td>\n",
       "      <td>Ninjago</td>\n",
       "      <td>Rise of the Villains</td>\n",
       "      <td>2018</td>\n",
       "      <td>Ultra Stealth Raider</td>\n",
       "      <td>1093.0</td>\n",
       "      <td>119.99</td>\n",
       "      <td>http://images.brickset.com/sets/images/70595-1...</td>\n",
       "      <td>1</td>\n",
       "    </tr>\n",
       "  </tbody>\n",
       "</table>\n",
       "</div>"
      ],
      "text/plain": [
       "  first_name  last_name  age  phone_number  set_id number  \\\n",
       "0   Kimberly  Beckstead   24  216-555-2549   24701  76062   \n",
       "1       Neel     Garvin   35  819-555-3189   25626  70595   \n",
       "2       Neel     Garvin   35  819-555-3189   24665  21031   \n",
       "3    Chelsea   Bouchard   41           NaN   24695  31048   \n",
       "4    Chelsea   Bouchard   41           NaN   25626  70595   \n",
       "\n",
       "                    theme              subtheme  year                  name  \\\n",
       "0  DC Comics Super Heroes         Mighty Micros  2018        Robin vs. Bane   \n",
       "1                 Ninjago  Rise of the Villains  2018  Ultra Stealth Raider   \n",
       "2            Architecture                   NaN  2018          Burj Khalifa   \n",
       "3                 Creator                   NaN  2018        Lakeside Lodge   \n",
       "4                 Ninjago  Rise of the Villains  2018  Ultra Stealth Raider   \n",
       "\n",
       "   pieces  us_price                                          image_url  \\\n",
       "0    77.0      9.99  http://images.brickset.com/sets/images/76062-1...   \n",
       "1  1093.0    119.99  http://images.brickset.com/sets/images/70595-1...   \n",
       "2   333.0     39.99  http://images.brickset.com/sets/images/21031-1...   \n",
       "3   368.0     29.99  http://images.brickset.com/sets/images/31048-1...   \n",
       "4  1093.0    119.99  http://images.brickset.com/sets/images/70595-1...   \n",
       "\n",
       "   quantity  \n",
       "0         1  \n",
       "1         1  \n",
       "2         1  \n",
       "3         1  \n",
       "4         1  "
      ]
     },
     "execution_count": 12,
     "metadata": {},
     "output_type": "execute_result"
    }
   ],
   "source": [
    "df = pd.read_csv(\"data/lego-sales.csv\")\n",
    "df.head()"
   ]
  },
  {
   "cell_type": "code",
   "execution_count": 13,
   "id": "1c805c15-dca5-48da-bc11-bf585dc20a7b",
   "metadata": {},
   "outputs": [
    {
     "data": {
      "text/plain": [
       "(620, 14)"
      ]
     },
     "execution_count": 13,
     "metadata": {},
     "output_type": "execute_result"
    }
   ],
   "source": [
    "df.shape"
   ]
  },
  {
   "cell_type": "code",
   "execution_count": 14,
   "id": "76b3a62f-b387-44d4-a6de-5d4124d9b352",
   "metadata": {},
   "outputs": [
    {
     "data": {
      "text/html": [
       "<div>\n",
       "<style scoped>\n",
       "    .dataframe tbody tr th:only-of-type {\n",
       "        vertical-align: middle;\n",
       "    }\n",
       "\n",
       "    .dataframe tbody tr th {\n",
       "        vertical-align: top;\n",
       "    }\n",
       "\n",
       "    .dataframe thead th {\n",
       "        text-align: right;\n",
       "    }\n",
       "</style>\n",
       "<table border=\"1\" class=\"dataframe\">\n",
       "  <thead>\n",
       "    <tr style=\"text-align: right;\">\n",
       "      <th></th>\n",
       "      <th>age</th>\n",
       "      <th>set_id</th>\n",
       "      <th>year</th>\n",
       "      <th>pieces</th>\n",
       "      <th>us_price</th>\n",
       "      <th>quantity</th>\n",
       "    </tr>\n",
       "  </thead>\n",
       "  <tbody>\n",
       "    <tr>\n",
       "      <th>count</th>\n",
       "      <td>620.000000</td>\n",
       "      <td>620.000000</td>\n",
       "      <td>620.0</td>\n",
       "      <td>551.000000</td>\n",
       "      <td>620.000000</td>\n",
       "      <td>620.000000</td>\n",
       "    </tr>\n",
       "    <tr>\n",
       "      <th>mean</th>\n",
       "      <td>34.356452</td>\n",
       "      <td>25124.982258</td>\n",
       "      <td>2018.0</td>\n",
       "      <td>254.206897</td>\n",
       "      <td>29.041613</td>\n",
       "      <td>1.437097</td>\n",
       "    </tr>\n",
       "    <tr>\n",
       "      <th>std</th>\n",
       "      <td>11.276537</td>\n",
       "      <td>506.760720</td>\n",
       "      <td>0.0</td>\n",
       "      <td>357.738804</td>\n",
       "      <td>34.630623</td>\n",
       "      <td>0.712849</td>\n",
       "    </tr>\n",
       "    <tr>\n",
       "      <th>min</th>\n",
       "      <td>16.000000</td>\n",
       "      <td>24548.000000</td>\n",
       "      <td>2018.0</td>\n",
       "      <td>13.000000</td>\n",
       "      <td>3.990000</td>\n",
       "      <td>1.000000</td>\n",
       "    </tr>\n",
       "    <tr>\n",
       "      <th>25%</th>\n",
       "      <td>25.000000</td>\n",
       "      <td>24724.750000</td>\n",
       "      <td>2018.0</td>\n",
       "      <td>70.000000</td>\n",
       "      <td>9.990000</td>\n",
       "      <td>1.000000</td>\n",
       "    </tr>\n",
       "    <tr>\n",
       "      <th>50%</th>\n",
       "      <td>33.000000</td>\n",
       "      <td>24804.500000</td>\n",
       "      <td>2018.0</td>\n",
       "      <td>114.000000</td>\n",
       "      <td>19.990000</td>\n",
       "      <td>1.000000</td>\n",
       "    </tr>\n",
       "    <tr>\n",
       "      <th>75%</th>\n",
       "      <td>41.000000</td>\n",
       "      <td>25640.250000</td>\n",
       "      <td>2018.0</td>\n",
       "      <td>313.000000</td>\n",
       "      <td>29.990000</td>\n",
       "      <td>2.000000</td>\n",
       "    </tr>\n",
       "    <tr>\n",
       "      <th>max</th>\n",
       "      <td>68.000000</td>\n",
       "      <td>26060.000000</td>\n",
       "      <td>2018.0</td>\n",
       "      <td>4634.000000</td>\n",
       "      <td>349.990000</td>\n",
       "      <td>5.000000</td>\n",
       "    </tr>\n",
       "  </tbody>\n",
       "</table>\n",
       "</div>"
      ],
      "text/plain": [
       "              age        set_id    year       pieces    us_price    quantity\n",
       "count  620.000000    620.000000   620.0   551.000000  620.000000  620.000000\n",
       "mean    34.356452  25124.982258  2018.0   254.206897   29.041613    1.437097\n",
       "std     11.276537    506.760720     0.0   357.738804   34.630623    0.712849\n",
       "min     16.000000  24548.000000  2018.0    13.000000    3.990000    1.000000\n",
       "25%     25.000000  24724.750000  2018.0    70.000000    9.990000    1.000000\n",
       "50%     33.000000  24804.500000  2018.0   114.000000   19.990000    1.000000\n",
       "75%     41.000000  25640.250000  2018.0   313.000000   29.990000    2.000000\n",
       "max     68.000000  26060.000000  2018.0  4634.000000  349.990000    5.000000"
      ]
     },
     "execution_count": 14,
     "metadata": {},
     "output_type": "execute_result"
    }
   ],
   "source": [
    "df.describe()"
   ]
  },
  {
   "cell_type": "code",
   "execution_count": 15,
   "id": "b9830d63-c3cc-46ce-bdbc-37c093489b9e",
   "metadata": {
    "scrolled": true
   },
   "outputs": [
    {
     "data": {
      "text/plain": [
       "Index(['first_name', 'last_name', 'age', 'phone_number', 'set_id', 'number',\n",
       "       'theme', 'subtheme', 'year', 'name', 'pieces', 'us_price', 'image_url',\n",
       "       'quantity'],\n",
       "      dtype='object')"
      ]
     },
     "execution_count": 15,
     "metadata": {},
     "output_type": "execute_result"
    }
   ],
   "source": [
    "df.columns "
   ]
  },
  {
   "cell_type": "markdown",
   "id": "56cdcdbd-eafc-4be7-ad50-59ce16457ba5",
   "metadata": {},
   "source": [
    "Explanation: In this data set, I noticed that there are 14 variables and also 620 observations. Some of the data sets are age, year, price, peices, and quantity. I also noticed that some of the columns contain numbers that are inconsistent."
   ]
  },
  {
   "cell_type": "markdown",
   "id": "1d16472e-245d-4ffc-a840-b5d235b397fd",
   "metadata": {},
   "source": [
    "Question 2:"
   ]
  },
  {
   "cell_type": "code",
   "execution_count": 16,
   "id": "8fb7503e-0f60-4bd7-8894-89b0ba7194bd",
   "metadata": {},
   "outputs": [
    {
     "data": {
      "text/plain": [
       "0      Kimberly\n",
       "1          Neel\n",
       "2          Neel\n",
       "3       Chelsea\n",
       "4       Chelsea\n",
       "         ...   \n",
       "615      Talise\n",
       "616     Spencer\n",
       "617     Spencer\n",
       "618      Amelia\n",
       "619      Amelia\n",
       "Name: first_name, Length: 620, dtype: object"
      ]
     },
     "execution_count": 16,
     "metadata": {},
     "output_type": "execute_result"
    }
   ],
   "source": [
    "df['first_name']"
   ]
  },
  {
   "cell_type": "code",
   "execution_count": 41,
   "id": "3f4b9f20-5b4c-45b9-9f61-7d22b13696ab",
   "metadata": {},
   "outputs": [
    {
     "name": "stdout",
     "output_type": "stream",
     "text": [
      "first_name\n",
      "Jackson    13\n",
      "Jacob      11\n",
      "Joseph     11\n",
      "Name: count, dtype: int64\n"
     ]
    }
   ],
   "source": [
    "top_names = df['first_name'].value_counts().head(3)\n",
    "print(top_names)"
   ]
  },
  {
   "cell_type": "markdown",
   "id": "671c7799-fa0e-4e67-867b-7c22a2e30539",
   "metadata": {},
   "source": [
    "We see here that the three most common names are Jackson, Jacob, and Joseph."
   ]
  },
  {
   "cell_type": "markdown",
   "id": "241c7797-f602-4e8c-9533-6c6ecc442cdd",
   "metadata": {},
   "source": [
    "Question 3:"
   ]
  },
  {
   "cell_type": "code",
   "execution_count": 42,
   "id": "c5edab43-97d7-4a1c-9e69-921229e17429",
   "metadata": {},
   "outputs": [
    {
     "name": "stdout",
     "output_type": "stream",
     "text": [
      "theme\n",
      "Star Wars       75\n",
      "Nexo Knights    64\n",
      "Mixels          55\n",
      "Name: count, dtype: int64\n"
     ]
    }
   ],
   "source": [
    "top_sets = df['theme'].value_counts().head(3)\n",
    "print(top_sets)"
   ]
  },
  {
   "cell_type": "markdown",
   "id": "05582d1a-430e-4c94-b1e0-086447747bb2",
   "metadata": {},
   "source": [
    "Here we use value counts to find the most common themes of the theme variable, and I used .head to only display the top three, which were Star Wars, Nexo Knights, and Mixels."
   ]
  },
  {
   "cell_type": "markdown",
   "id": "672421d0-5da1-474b-affe-7ec9b004f8fa",
   "metadata": {},
   "source": [
    "Question 4:"
   ]
  },
  {
   "cell_type": "code",
   "execution_count": 20,
   "id": "917d6687-fb59-4d4b-a396-1070eaf561c2",
   "metadata": {},
   "outputs": [
    {
     "data": {
      "text/plain": [
       "subtheme\n",
       "The Force Awakens            15\n",
       "Buildable Figures            11\n",
       "Episode V                    10\n",
       "MicroFighters                10\n",
       "Battlefront                   7\n",
       "Original Content              7\n",
       "Episode III                   6\n",
       "Seasonal                      3\n",
       "Rebels                        3\n",
       "Episode IV                    2\n",
       "Ultimate Collector Series     1\n",
       "Name: count, dtype: int64"
      ]
     },
     "execution_count": 20,
     "metadata": {},
     "output_type": "execute_result"
    }
   ],
   "source": [
    "com_theme = \"Star Wars\"\n",
    "mask = df['theme']==com_theme\n",
    "df_com = df[mask].copy()\n",
    "df_com['subtheme'].value_counts()"
   ]
  },
  {
   "cell_type": "markdown",
   "id": "5c00e2cc-cf44-4a21-b743-ff3fc5c45d00",
   "metadata": {},
   "source": [
    "In this question, we mask the theme variable in order to only look at sets under the Star Wars theme. Then we value count the subtheme of the masked section, and the most common subtheme was The Force Awakens."
   ]
  },
  {
   "cell_type": "markdown",
   "id": "6caf590b-6d70-4893-b2dd-2e6ab0f9fc41",
   "metadata": {},
   "source": [
    "Question 5 + 6:"
   ]
  },
  {
   "cell_type": "code",
   "execution_count": 40,
   "id": "75a86de5-281d-451e-a97e-e8b4502ac110",
   "metadata": {},
   "outputs": [
    {
     "data": {
      "text/plain": [
       "0      False\n",
       "1      False\n",
       "2      False\n",
       "3      False\n",
       "4      False\n",
       "       ...  \n",
       "615     True\n",
       "616    False\n",
       "617    False\n",
       "618    False\n",
       "619    False\n",
       "Name: age, Length: 620, dtype: bool"
      ]
     },
     "execution_count": 40,
     "metadata": {},
     "output_type": "execute_result"
    }
   ],
   "source": [
    "df['age'] <= 18"
   ]
  },
  {
   "cell_type": "code",
   "execution_count": 41,
   "id": "e2f0dd0f-6855-4ae0-ac0c-f0fd66685275",
   "metadata": {},
   "outputs": [],
   "source": [
    "mask_under18 = (df['age'] <= 18)\n",
    "mask_19_25 = (df['age'] >= 19) & (df['age'] <=25)\n",
    "mask_26_35 = (df['age'] >= 26) & (df['age'] <=35)\n",
    "mask_36_50 = (df['age'] >= 36) & (df['age'] <=50)\n",
    "mask_50over = (df['age'] >= 50)"
   ]
  },
  {
   "cell_type": "code",
   "execution_count": 42,
   "id": "62470b94-126e-447b-a5ab-1aad356cb12e",
   "metadata": {},
   "outputs": [],
   "source": [
    "df_under18 = df[mask_under18].copy()\n",
    "df_19_25 = df[mask_19_25].copy()\n",
    "df_26_35 = df[mask_26_35].copy()\n",
    "df_36_50 = df[mask_36_50].copy()\n",
    "df_50over = df[mask_50over].copy()"
   ]
  },
  {
   "cell_type": "code",
   "execution_count": 43,
   "id": "a762f76a-9bad-4175-82c4-4087d23c76eb",
   "metadata": {},
   "outputs": [
    {
     "name": "stdout",
     "output_type": "stream",
     "text": [
      "under 18:\n",
      "45\n",
      "19-25\n",
      "174\n",
      "26-35\n",
      "267\n",
      "36-50\n",
      "313\n",
      "over 50\n",
      "112\n"
     ]
    }
   ],
   "source": [
    "print('under 18:')\n",
    "print(df_under18['quantity'].sum())\n",
    "\n",
    "print('19-25')\n",
    "print(df_19_25['quantity'].sum())\n",
    "\n",
    "print('26-35')\n",
    "print(df_26_35['quantity'].sum())\n",
    "\n",
    "print('36-50')\n",
    "print(df_36_50['quantity'].sum())\n",
    "\n",
    "print('over 50')\n",
    "print(df_50over['quantity'].sum())"
   ]
  },
  {
   "cell_type": "markdown",
   "id": "1d2d1ed6-9a66-4faa-8142-70835683327a",
   "metadata": {},
   "source": [
    "36-50 age group purchased the most Lego sets at 313, while the 26-35 year olds purchased the second most at 267."
   ]
  },
  {
   "cell_type": "markdown",
   "id": "d7c01beb-ede3-4ef7-a0e8-e8ac9637ebbd",
   "metadata": {},
   "source": [
    "Question 7:"
   ]
  },
  {
   "cell_type": "code",
   "execution_count": 31,
   "id": "dec1cee2-46a4-489d-8542-2b9e411c37f8",
   "metadata": {},
   "outputs": [],
   "source": [
    "df['money_spent'] = df['us_price']*df['quantity']"
   ]
  },
  {
   "cell_type": "code",
   "execution_count": 32,
   "id": "0c383f45-4438-45f5-adf7-a74062dbfdfa",
   "metadata": {},
   "outputs": [],
   "source": [
    "df_under18 = df[mask_under18].copy()\n",
    "df_19_25 = df[mask_19_25].copy()\n",
    "df_26_35 = df[mask_26_35].copy()\n",
    "df_36_50 = df[mask_36_50].copy()\n",
    "df_50over = df[mask_50over].copy()"
   ]
  },
  {
   "cell_type": "code",
   "execution_count": 33,
   "id": "15d50316-e7a2-44e1-85a8-3f459d045026",
   "metadata": {},
   "outputs": [
    {
     "name": "stdout",
     "output_type": "stream",
     "text": [
      "under 18:\n",
      "948.5500000000001\n",
      "19-25\n",
      "4939.26\n",
      "26-35\n",
      "7576.33\n",
      "36-50\n",
      "9532.870000000003\n",
      "over 50\n",
      "3468.8799999999997\n"
     ]
    }
   ],
   "source": [
    "print('under 18:')\n",
    "print(df_under18['money_spent'].sum())\n",
    "\n",
    "\n",
    "print('19-25')\n",
    "print(df_19_25['money_spent'].sum())\n",
    "\n",
    "print('26-35')\n",
    "print(df_26_35['money_spent'].sum())\n",
    "\n",
    "print('36-50')\n",
    "print(df_36_50['money_spent'].sum())\n",
    "\n",
    "print('over 50')\n",
    "print(df_50over['money_spent'].sum())"
   ]
  },
  {
   "cell_type": "markdown",
   "id": "12b1d946-e830-416e-a432-3b8888285d64",
   "metadata": {},
   "source": [
    "Consistent with the last section, the 36-50 year olds also spent the most money on Lego Sets, as they bought the most as well."
   ]
  },
  {
   "cell_type": "markdown",
   "id": "8d33c031-08e1-46ba-869d-e0d42c858fc7",
   "metadata": {},
   "source": [
    "Question 8:"
   ]
  },
  {
   "cell_type": "code",
   "execution_count": 38,
   "id": "7e2a49c0-6f7d-49dc-9d91-653b4f9d30e5",
   "metadata": {},
   "outputs": [
    {
     "data": {
      "text/html": [
       "<div>\n",
       "<style scoped>\n",
       "    .dataframe tbody tr th:only-of-type {\n",
       "        vertical-align: middle;\n",
       "    }\n",
       "\n",
       "    .dataframe tbody tr th {\n",
       "        vertical-align: top;\n",
       "    }\n",
       "\n",
       "    .dataframe thead th {\n",
       "        text-align: right;\n",
       "    }\n",
       "</style>\n",
       "<table border=\"1\" class=\"dataframe\">\n",
       "  <thead>\n",
       "    <tr style=\"text-align: right;\">\n",
       "      <th></th>\n",
       "      <th>money_spent</th>\n",
       "    </tr>\n",
       "    <tr>\n",
       "      <th>theme</th>\n",
       "      <th></th>\n",
       "    </tr>\n",
       "  </thead>\n",
       "  <tbody>\n",
       "    <tr>\n",
       "      <th>Star Wars</th>\n",
       "      <td>4447.83</td>\n",
       "    </tr>\n",
       "    <tr>\n",
       "      <th>Ninjago</th>\n",
       "      <td>2279.41</td>\n",
       "    </tr>\n",
       "    <tr>\n",
       "      <th>City</th>\n",
       "      <td>2211.35</td>\n",
       "    </tr>\n",
       "    <tr>\n",
       "      <th>Nexo Knights</th>\n",
       "      <td>2209.07</td>\n",
       "    </tr>\n",
       "    <tr>\n",
       "      <th>Minecraft</th>\n",
       "      <td>1549.90</td>\n",
       "    </tr>\n",
       "    <tr>\n",
       "      <th>Gear</th>\n",
       "      <td>1533.21</td>\n",
       "    </tr>\n",
       "    <tr>\n",
       "      <th>Friends</th>\n",
       "      <td>1279.44</td>\n",
       "    </tr>\n",
       "    <tr>\n",
       "      <th>Duplo</th>\n",
       "      <td>1219.50</td>\n",
       "    </tr>\n",
       "    <tr>\n",
       "      <th>Elves</th>\n",
       "      <td>1119.72</td>\n",
       "    </tr>\n",
       "    <tr>\n",
       "      <th>Ghostbusters</th>\n",
       "      <td>879.95</td>\n",
       "    </tr>\n",
       "    <tr>\n",
       "      <th>Advanced Models</th>\n",
       "      <td>849.95</td>\n",
       "    </tr>\n",
       "    <tr>\n",
       "      <th>Marvel Super Heroes</th>\n",
       "      <td>839.70</td>\n",
       "    </tr>\n",
       "    <tr>\n",
       "      <th>Bionicle</th>\n",
       "      <td>779.54</td>\n",
       "    </tr>\n",
       "    <tr>\n",
       "      <th>DC Comics Super Heroes</th>\n",
       "      <td>653.65</td>\n",
       "    </tr>\n",
       "    <tr>\n",
       "      <th>Architecture</th>\n",
       "      <td>589.85</td>\n",
       "    </tr>\n",
       "    <tr>\n",
       "      <th>Technic</th>\n",
       "      <td>572.88</td>\n",
       "    </tr>\n",
       "    <tr>\n",
       "      <th>Creator</th>\n",
       "      <td>549.65</td>\n",
       "    </tr>\n",
       "    <tr>\n",
       "      <th>Dimensions</th>\n",
       "      <td>484.76</td>\n",
       "    </tr>\n",
       "    <tr>\n",
       "      <th>The Angry Birds Movie</th>\n",
       "      <td>478.87</td>\n",
       "    </tr>\n",
       "    <tr>\n",
       "      <th>Mixels</th>\n",
       "      <td>414.17</td>\n",
       "    </tr>\n",
       "    <tr>\n",
       "      <th>Disney Princess</th>\n",
       "      <td>237.80</td>\n",
       "    </tr>\n",
       "    <tr>\n",
       "      <th>Ideas</th>\n",
       "      <td>209.97</td>\n",
       "    </tr>\n",
       "    <tr>\n",
       "      <th>Seasonal</th>\n",
       "      <td>39.96</td>\n",
       "    </tr>\n",
       "    <tr>\n",
       "      <th>Classic</th>\n",
       "      <td>29.99</td>\n",
       "    </tr>\n",
       "    <tr>\n",
       "      <th>Collectable Minifigures</th>\n",
       "      <td>11.97</td>\n",
       "    </tr>\n",
       "  </tbody>\n",
       "</table>\n",
       "</div>"
      ],
      "text/plain": [
       "                         money_spent\n",
       "theme                               \n",
       "Star Wars                    4447.83\n",
       "Ninjago                      2279.41\n",
       "City                         2211.35\n",
       "Nexo Knights                 2209.07\n",
       "Minecraft                    1549.90\n",
       "Gear                         1533.21\n",
       "Friends                      1279.44\n",
       "Duplo                        1219.50\n",
       "Elves                        1119.72\n",
       "Ghostbusters                  879.95\n",
       "Advanced Models               849.95\n",
       "Marvel Super Heroes           839.70\n",
       "Bionicle                      779.54\n",
       "DC Comics Super Heroes        653.65\n",
       "Architecture                  589.85\n",
       "Technic                       572.88\n",
       "Creator                       549.65\n",
       "Dimensions                    484.76\n",
       "The Angry Birds Movie         478.87\n",
       "Mixels                        414.17\n",
       "Disney Princess               237.80\n",
       "Ideas                         209.97\n",
       "Seasonal                       39.96\n",
       "Classic                        29.99\n",
       "Collectable Minifigures        11.97"
      ]
     },
     "execution_count": 38,
     "metadata": {},
     "output_type": "execute_result"
    }
   ],
   "source": [
    "columns = ['theme','money_spent']\n",
    "df[columns].groupby('theme').sum().sort_values('money_spent', ascending = False)"
   ]
  },
  {
   "cell_type": "markdown",
   "id": "5296c89d-1292-49c1-8ba8-a11e7f87ff89",
   "metadata": {},
   "source": [
    "By selecting the theme and money spent columns, we can group the data by theme then sum up the columns, sorting the values so that we can see which one is at the top easily. Star Wars was at the top as the most money spent."
   ]
  },
  {
   "cell_type": "markdown",
   "id": "0a7d6b30-f121-45bb-b033-d07fe2cd7614",
   "metadata": {},
   "source": [
    "Question 9:"
   ]
  },
  {
   "cell_type": "code",
   "execution_count": 39,
   "id": "f34f5f80-12cf-41d4-8eca-d56eb8aa5755",
   "metadata": {},
   "outputs": [
    {
     "data": {
      "text/html": [
       "<div>\n",
       "<style scoped>\n",
       "    .dataframe tbody tr th:only-of-type {\n",
       "        vertical-align: middle;\n",
       "    }\n",
       "\n",
       "    .dataframe tbody tr th {\n",
       "        vertical-align: top;\n",
       "    }\n",
       "\n",
       "    .dataframe thead th {\n",
       "        text-align: right;\n",
       "    }\n",
       "</style>\n",
       "<table border=\"1\" class=\"dataframe\">\n",
       "  <thead>\n",
       "    <tr style=\"text-align: right;\">\n",
       "      <th></th>\n",
       "      <th>money_spent</th>\n",
       "    </tr>\n",
       "    <tr>\n",
       "      <th>area_code</th>\n",
       "      <th></th>\n",
       "    </tr>\n",
       "  </thead>\n",
       "  <tbody>\n",
       "    <tr>\n",
       "      <th>nan</th>\n",
       "      <td>3992.64</td>\n",
       "    </tr>\n",
       "    <tr>\n",
       "      <th>956</th>\n",
       "      <td>719.96</td>\n",
       "    </tr>\n",
       "    <tr>\n",
       "      <th>973</th>\n",
       "      <td>684.91</td>\n",
       "    </tr>\n",
       "    <tr>\n",
       "      <th>567</th>\n",
       "      <td>549.86</td>\n",
       "    </tr>\n",
       "    <tr>\n",
       "      <th>281</th>\n",
       "      <td>464.90</td>\n",
       "    </tr>\n",
       "    <tr>\n",
       "      <th>...</th>\n",
       "      <td>...</td>\n",
       "    </tr>\n",
       "    <tr>\n",
       "      <th>216</th>\n",
       "      <td>9.99</td>\n",
       "    </tr>\n",
       "    <tr>\n",
       "      <th>509</th>\n",
       "      <td>9.99</td>\n",
       "    </tr>\n",
       "    <tr>\n",
       "      <th>308</th>\n",
       "      <td>9.99</td>\n",
       "    </tr>\n",
       "    <tr>\n",
       "      <th>325</th>\n",
       "      <td>9.98</td>\n",
       "    </tr>\n",
       "    <tr>\n",
       "      <th>636</th>\n",
       "      <td>4.99</td>\n",
       "    </tr>\n",
       "  </tbody>\n",
       "</table>\n",
       "<p>157 rows × 1 columns</p>\n",
       "</div>"
      ],
      "text/plain": [
       "           money_spent\n",
       "area_code             \n",
       "nan            3992.64\n",
       "956             719.96\n",
       "973             684.91\n",
       "567             549.86\n",
       "281             464.90\n",
       "...                ...\n",
       "216               9.99\n",
       "509               9.99\n",
       "308               9.99\n",
       "325               9.98\n",
       "636               4.99\n",
       "\n",
       "[157 rows x 1 columns]"
      ]
     },
     "execution_count": 39,
     "metadata": {},
     "output_type": "execute_result"
    }
   ],
   "source": [
    "df['area_code'] = df['phone_number'].apply(lambda x: str(x).split('-')[0])\n",
    "columns = ['area_code','money_spent']\n",
    "df[columns].groupby('area_code').sum().sort_values('money_spent',ascending=False)"
   ]
  },
  {
   "cell_type": "code",
   "execution_count": 44,
   "id": "2ed9165e-905e-4d06-b672-8a6e678b2026",
   "metadata": {},
   "outputs": [
    {
     "data": {
      "text/plain": [
       "area_code\n",
       "nan    92\n",
       "281     9\n",
       "712     9\n",
       "567     9\n",
       "441     9\n",
       "       ..\n",
       "509     1\n",
       "419     1\n",
       "787     1\n",
       "520     1\n",
       "402     1\n",
       "Name: count, Length: 157, dtype: int64"
      ]
     },
     "execution_count": 44,
     "metadata": {},
     "output_type": "execute_result"
    }
   ],
   "source": [
    "counts = df['area_code'].value_counts()\n",
    "counts"
   ]
  },
  {
   "cell_type": "code",
   "execution_count": 45,
   "id": "baa24493-4784-4a48-b0c5-cacea93b0501",
   "metadata": {},
   "outputs": [
    {
     "data": {
      "text/html": [
       "<div>\n",
       "<style scoped>\n",
       "    .dataframe tbody tr th:only-of-type {\n",
       "        vertical-align: middle;\n",
       "    }\n",
       "\n",
       "    .dataframe tbody tr th {\n",
       "        vertical-align: top;\n",
       "    }\n",
       "\n",
       "    .dataframe thead th {\n",
       "        text-align: right;\n",
       "    }\n",
       "</style>\n",
       "<table border=\"1\" class=\"dataframe\">\n",
       "  <thead>\n",
       "    <tr style=\"text-align: right;\">\n",
       "      <th></th>\n",
       "      <th>money_spent</th>\n",
       "      <th>average_spent</th>\n",
       "    </tr>\n",
       "    <tr>\n",
       "      <th>area_code</th>\n",
       "      <th></th>\n",
       "      <th></th>\n",
       "    </tr>\n",
       "  </thead>\n",
       "  <tbody>\n",
       "    <tr>\n",
       "      <th>212</th>\n",
       "      <td>24.99</td>\n",
       "      <td>359.980000</td>\n",
       "    </tr>\n",
       "    <tr>\n",
       "      <th>246</th>\n",
       "      <td>59.97</td>\n",
       "      <td>169.980000</td>\n",
       "    </tr>\n",
       "    <tr>\n",
       "      <th>856</th>\n",
       "      <td>79.96</td>\n",
       "      <td>144.990000</td>\n",
       "    </tr>\n",
       "    <tr>\n",
       "      <th>573</th>\n",
       "      <td>79.94</td>\n",
       "      <td>124.990000</td>\n",
       "    </tr>\n",
       "    <tr>\n",
       "      <th>813</th>\n",
       "      <td>85.97</td>\n",
       "      <td>114.985000</td>\n",
       "    </tr>\n",
       "    <tr>\n",
       "      <th>...</th>\n",
       "      <td>...</td>\n",
       "      <td>...</td>\n",
       "    </tr>\n",
       "    <tr>\n",
       "      <th>710</th>\n",
       "      <td>111.93</td>\n",
       "      <td>8.323333</td>\n",
       "    </tr>\n",
       "    <tr>\n",
       "      <th>949</th>\n",
       "      <td>84.97</td>\n",
       "      <td>7.490000</td>\n",
       "    </tr>\n",
       "    <tr>\n",
       "      <th>802</th>\n",
       "      <td>79.98</td>\n",
       "      <td>5.490000</td>\n",
       "    </tr>\n",
       "    <tr>\n",
       "      <th>617</th>\n",
       "      <td>59.97</td>\n",
       "      <td>4.990000</td>\n",
       "    </tr>\n",
       "    <tr>\n",
       "      <th>910</th>\n",
       "      <td>14.98</td>\n",
       "      <td>4.990000</td>\n",
       "    </tr>\n",
       "  </tbody>\n",
       "</table>\n",
       "<p>157 rows × 2 columns</p>\n",
       "</div>"
      ],
      "text/plain": [
       "           money_spent  average_spent\n",
       "area_code                            \n",
       "212              24.99     359.980000\n",
       "246              59.97     169.980000\n",
       "856              79.96     144.990000\n",
       "573              79.94     124.990000\n",
       "813              85.97     114.985000\n",
       "...                ...            ...\n",
       "710             111.93       8.323333\n",
       "949              84.97       7.490000\n",
       "802              79.98       5.490000\n",
       "617              59.97       4.990000\n",
       "910              14.98       4.990000\n",
       "\n",
       "[157 rows x 2 columns]"
      ]
     },
     "execution_count": 45,
     "metadata": {},
     "output_type": "execute_result"
    }
   ],
   "source": [
    "spent = df[columns].groupby('area_code').sum().sort_values('money_spent', ascending = False)\n",
    "average_spent = []\n",
    "for c in counts.items():\n",
    "    average_spent.append(spent.loc[c[0]]['money_spent']/c[1])\n",
    "spent['average_spent'] = average_spent\n",
    "spent.sort_values('average_spent',ascending=False)"
   ]
  },
  {
   "cell_type": "markdown",
   "id": "36039dd9-f149-4a59-b991-cfa441a7ec1f",
   "metadata": {},
   "source": [
    "Unknown regions purchased the most Lego sets, but area code 956 had the highest amount for the known area codes. For the average money spent, the highest is in the area code 212."
   ]
  },
  {
   "cell_type": "code",
   "execution_count": null,
   "id": "3ae7f8b5-2156-4f7a-bc26-372f1ff697f4",
   "metadata": {},
   "outputs": [],
   "source": []
  }
 ],
 "metadata": {
  "kernelspec": {
   "display_name": "Python [conda env:base] *",
   "language": "python",
   "name": "conda-base-py"
  },
  "language_info": {
   "codemirror_mode": {
    "name": "ipython",
    "version": 3
   },
   "file_extension": ".py",
   "mimetype": "text/x-python",
   "name": "python",
   "nbconvert_exporter": "python",
   "pygments_lexer": "ipython3",
   "version": "3.13.5"
  }
 },
 "nbformat": 4,
 "nbformat_minor": 5
}
