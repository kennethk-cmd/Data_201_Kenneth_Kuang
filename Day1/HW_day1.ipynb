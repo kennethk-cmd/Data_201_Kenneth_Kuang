{
 "cells": [
  {
   "cell_type": "markdown",
   "id": "3ee4f51c-e4db-4665-a559-c701fdbf47b5",
   "metadata": {},
   "source": [
    "## Intermediate Data Science\n",
    "\n",
    "#### University of Redlands - DATA 201\n",
    "#### Prof: Joanna Bieri [joanna_bieri@redlands.edu](mailto:joanna_bieri@redlands.edu)\n",
    "#### [Class Website: data201.joannabieri.com](https://joannabieri.com/data201_intermediate.html)"
   ]
  },
  {
   "cell_type": "markdown",
   "id": "9ad18c6f-984e-4743-997a-feed9d43d243",
   "metadata": {},
   "source": [
    "## Computer Set Up"
   ]
  },
  {
   "cell_type": "code",
   "execution_count": null,
   "id": "a0a6e073-9c4b-4c0f-9b0c-e6f45c72ef03",
   "metadata": {},
   "outputs": [],
   "source": [
    "!python --version"
   ]
  },
  {
   "cell_type": "code",
   "execution_count": null,
   "id": "adf4a7d3-b452-468f-9108-8173e236ba41",
   "metadata": {},
   "outputs": [],
   "source": [
    "!conda --version"
   ]
  },
  {
   "cell_type": "code",
   "execution_count": null,
   "id": "0beec1df-0868-4a19-ba62-c0bc8654fb98",
   "metadata": {},
   "outputs": [],
   "source": [
    "!git --version"
   ]
  },
  {
   "cell_type": "markdown",
   "id": "a3212ecb-0e5d-4af9-9c23-9da3f7d2c6e3",
   "metadata": {},
   "source": [
    "**Clone the Repo for our Class**\n",
    "\n",
    "<a href=\"https://github.com/Redlands-DATA201/FALL25\" target=\"_blank\">Redlands-DATA201/FALL2025</a>"
   ]
  },
  {
   "cell_type": "code",
   "execution_count": 3,
   "id": "d0a237b4-65d5-4c30-a428-5df8348361b8",
   "metadata": {},
   "outputs": [],
   "source": [
    "# # Depending on your setup you might need to install modules\n",
    "# !conda install -y numpy\n",
    "# !conda install -y pandas\n",
    "# !conda install -y matplotlib\n",
    "# !conda install -y plotly"
   ]
  },
  {
   "cell_type": "code",
   "execution_count": 4,
   "id": "455a007e-f738-4c0b-b885-7c936d5367b9",
   "metadata": {},
   "outputs": [],
   "source": [
    "# Some basic package imports\n",
    "import numpy as np\n",
    "import pandas as pd\n",
    "\n",
    "import matplotlib.pyplot as plt\n",
    "import plotly.express as px\n",
    "from plotly.subplots import make_subplots\n",
    "import plotly.io as pio\n",
    "pio.renderers.defaule = 'colab'"
   ]
  },
  {
   "cell_type": "markdown",
   "id": "e5225f08-a34f-490c-9ca1-24f8cd3b9253",
   "metadata": {},
   "source": [
    "# Review of DATA 101\n",
    "\n",
    "For our review we are going to jump in and do some Exploratory Data Analysis (EDA) on a data set that we have seen before. This time you are just given a .csv file and your goal is to analyze it - answering these questions.\n",
    "\n",
    "**I expect this to feel impossible at first!!!** but if you all work together, share code, and look things up as needed, I know you can do it!\n",
    "\n",
    "#### This was a Homework Assignment in Data 101 - but see how much you can figure out on your own!\n",
    "\n",
    "* Answer the following questions using reproducible Python code.\n",
    "    - What does it mean to be reproducible? This means someone else at any time in the future can run and understand your code almost like reading a blog post.\n",
    "* For each question, state your answer in a sentence, e.g. \"In this sample, the first three common names of purchasers are ...\".\n",
    "* Note that the answers to all questions are within the context of this particular sample of sales, i.e. you shouldn't make inferences about the population of all Lego sales based on this sample.\n",
    "\n",
    "0.  Read in the .csv file using Pandas and display it\n",
    "\n",
    "1.  Describe what you see in the data set (variables, observations, etc)\n",
    "\n",
    "2.  What are the three most common first names of purchasers?\n",
    "\n",
    "3.  What are the three most common themes of Lego sets purchased?\n",
    "\n",
    "4.  Among the most common theme of Lego sets purchased, what is the most common subtheme?\n",
    "\n",
    "5.  Create data frames for each of the ages in the following categories: \"18 and under\", \"19 - 25\", \"26 - 35\", \"36 - 50\", \"51 and over\". HINT - use masks\n",
    "\n",
    "6.  Which age group has purchased the highest number of Lego sets.\n",
    "\n",
    "7.  Which age group has spent the most money on Legos?\n",
    "\n",
    "8.  Which Lego theme has made the most money for Lego?\n",
    "\n",
    "9.  Which area code has spent the most money on Legos? In the US the area code is the first 3 digits of a phone number. Then using a for loop calculate the average money spent per customer for each area code.\n",
    "\n",
    "10.  Come up with a question you want to answer using these data, and write it down. Then, create a data visualization that answers the question, and explain how your visualization answers the question.\n",
    "\n",
    "**This exersize comes from: https://datasciencebox.org/course-materials/hw-instructions/hw-05/hw-05-legos**"
   ]
  },
  {
   "cell_type": "code",
   "execution_count": null,
   "id": "67a96804-0133-4676-ae25-ebfe9e3e706a",
   "metadata": {},
   "outputs": [],
   "source": [
    "file_name = 'data/lego-sales.csv'"
   ]
  }
 ],
 "metadata": {
  "kernelspec": {
   "display_name": "Python 3 (ipykernel)",
   "language": "python",
   "name": "python3"
  },
  "language_info": {
   "codemirror_mode": {
    "name": "ipython",
    "version": 3
   },
   "file_extension": ".py",
   "mimetype": "text/x-python",
   "name": "python",
   "nbconvert_exporter": "python",
   "pygments_lexer": "ipython3",
   "version": "3.13.5"
  }
 },
 "nbformat": 4,
 "nbformat_minor": 5
}
