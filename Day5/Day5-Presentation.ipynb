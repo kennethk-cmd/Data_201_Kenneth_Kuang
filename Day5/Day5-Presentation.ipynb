{
 "cells": [
  {
   "cell_type": "raw",
   "id": "6d35f17b-9198-46d0-817e-73ef34eea956",
   "metadata": {},
   "source": [
    "---\n",
    "format: \n",
    "    beamer: \n",
    "        aspectratio: 32\n",
    "        navigation: frame\n",
    "        theme: Singapore\n",
    "        colortheme: seagull\n",
    "        innertheme: circles\n",
    "\n",
    "editor: visual\n",
    "warning: false\n",
    "error: false\n",
    "code-overflow: wrap\n",
    "eval: true\n",
    "\n",
    "title: \"Intermediate Data Science\"\n",
    "subtitle: \"Data Wrangling: Join, Combine, Reshape\"\n",
    "author: \"Joanna Bieri <br> DATA201\"\n",
    "---"
   ]
  },
  {
   "cell_type": "markdown",
   "id": "393c8ad4-4b58-43a8-91b7-f5c0ae5b7386",
   "metadata": {},
   "source": [
    "## Important Information\n",
    "\n",
    "- Email: [joanna_bieri@redlands.edu](mailto:joanna_bieri@redlands.edu)\n",
    "- Office Hours take place in Duke 209 -- [Office Hours Schedule](https://joannabieri.com/schedule.html)\n",
    "- [Class Website](https://joannabieri.com/data201.html)\n",
    "- [Syllabus](https://joannabieri.com/data201/IntermediateDataScience.pdf)\n",
    "\n",
    "## Data Wrangling\n",
    "\n",
    "Data Wrangling is the art of managing data that might be spread across many files or databases. It also involved organizing data that comes to you in an inconvenient format. We are going to explore some ways that Pandas can help us in organizing our data!"
   ]
  },
  {
   "cell_type": "code",
   "execution_count": 1,
   "id": "cf096b4a-cb9c-4f53-83e9-2a27e9604776",
   "metadata": {},
   "outputs": [],
   "source": [
    "# Some basic package imports\n",
    "import os\n",
    "import numpy as np\n",
    "import pandas as pd\n",
    "\n",
    "import matplotlib.pyplot as plt\n",
    "import plotly.express as px\n",
    "from plotly.subplots import make_subplots\n",
    "import plotly.io as pio\n",
    "pio.renderers.defaule = 'colab'"
   ]
  },
  {
   "cell_type": "markdown",
   "id": "6a1af5b0-90f2-4cc4-8697-a2b69bf34962",
   "metadata": {},
   "source": [
    "## Hierarchical Indexing\n",
    "\n",
    "Hierarchical indexing is a feature of pandas that allows you to have more than one index on a single axis in a DataFrame. This is like working with data in a table but allowing it to be higher dimensional. Here is the example from our book:"
   ]
  },
  {
   "cell_type": "code",
   "execution_count": 2,
   "id": "9d9d1baf-691d-411b-bf34-5cd4f2596b1f",
   "metadata": {},
   "outputs": [
    {
     "data": {
      "text/plain": [
       "a  1    0.298598\n",
       "   2    0.303884\n",
       "   3    0.530289\n",
       "b  1    0.966484\n",
       "   3    0.321590\n",
       "c  1    0.933737\n",
       "   2    0.079616\n",
       "d  2    0.744500\n",
       "   3    0.033183\n",
       "dtype: float64"
      ]
     },
     "execution_count": 2,
     "metadata": {},
     "output_type": "execute_result"
    }
   ],
   "source": [
    "# This series is a list of lists\n",
    "data = pd.Series(np.random.uniform(size=9),\n",
    "                 index=[[\"a\", \"a\", \"a\", \"b\", \"b\", \"c\", \"c\", \"d\", \"d\"],\n",
    "                        [1, 2, 3, 1, 3, 1, 2, 2, 3]])\n",
    "data"
   ]
  },
  {
   "cell_type": "markdown",
   "id": "4c8d1d83-b86f-4e3e-978c-12780c437daa",
   "metadata": {},
   "source": [
    "## Hierarchical Indexing\n",
    "\n",
    "    data.index"
   ]
  },
  {
   "cell_type": "code",
   "execution_count": 3,
   "id": "8d59ee49-a8c9-4ba5-abce-b105e98f697f",
   "metadata": {},
   "outputs": [
    {
     "data": {
      "text/plain": [
       "MultiIndex([('a', 1),\n",
       "            ('a', 2),\n",
       "            ('a', 3),\n",
       "            ('b', 1),\n",
       "            ('b', 3),\n",
       "            ('c', 1),\n",
       "            ('c', 2),\n",
       "            ('d', 2),\n",
       "            ('d', 3)],\n",
       "           )"
      ]
     },
     "execution_count": 3,
     "metadata": {},
     "output_type": "execute_result"
    }
   ],
   "source": [
    "data.index"
   ]
  },
  {
   "cell_type": "markdown",
   "id": "6ae39566-cb3f-4724-99a9-410ce2ca2310",
   "metadata": {},
   "source": [
    "Notice here that the index now has two dimensions. You can reach in a grab the stuff inside the 'a' grouping and then within that choose 1,2,3. We can use partial indexing to grab different parts of the data.\n",
    "\n"
   ]
  },
  {
   "cell_type": "markdown",
   "id": "06281e71-0ca9-4f1f-b63f-d686ce4f65cb",
   "metadata": {},
   "source": [
    "## Hierarchical Indexing\n",
    "\n",
    "We can use the `.unstack()` function to send this data into a one dimensional data frame. Unstack takes the inner index and sends it to to separate columns, which keeping the outer index as the DataFrame index."
   ]
  },
  {
   "cell_type": "code",
   "execution_count": 5,
   "id": "07aa9502-e342-487e-9783-1a83803ef2f1",
   "metadata": {},
   "outputs": [
    {
     "data": {
      "text/html": [
       "<div>\n",
       "<style scoped>\n",
       "    .dataframe tbody tr th:only-of-type {\n",
       "        vertical-align: middle;\n",
       "    }\n",
       "\n",
       "    .dataframe tbody tr th {\n",
       "        vertical-align: top;\n",
       "    }\n",
       "\n",
       "    .dataframe thead th {\n",
       "        text-align: right;\n",
       "    }\n",
       "</style>\n",
       "<table border=\"1\" class=\"dataframe\">\n",
       "  <thead>\n",
       "    <tr style=\"text-align: right;\">\n",
       "      <th></th>\n",
       "      <th>1</th>\n",
       "      <th>2</th>\n",
       "      <th>3</th>\n",
       "    </tr>\n",
       "  </thead>\n",
       "  <tbody>\n",
       "    <tr>\n",
       "      <th>a</th>\n",
       "      <td>0.298598</td>\n",
       "      <td>0.303884</td>\n",
       "      <td>0.530289</td>\n",
       "    </tr>\n",
       "    <tr>\n",
       "      <th>b</th>\n",
       "      <td>0.966484</td>\n",
       "      <td>NaN</td>\n",
       "      <td>0.321590</td>\n",
       "    </tr>\n",
       "    <tr>\n",
       "      <th>c</th>\n",
       "      <td>0.933737</td>\n",
       "      <td>0.079616</td>\n",
       "      <td>NaN</td>\n",
       "    </tr>\n",
       "    <tr>\n",
       "      <th>d</th>\n",
       "      <td>NaN</td>\n",
       "      <td>0.744500</td>\n",
       "      <td>0.033183</td>\n",
       "    </tr>\n",
       "  </tbody>\n",
       "</table>\n",
       "</div>"
      ],
      "text/plain": [
       "          1         2         3\n",
       "a  0.298598  0.303884  0.530289\n",
       "b  0.966484       NaN  0.321590\n",
       "c  0.933737  0.079616       NaN\n",
       "d       NaN  0.744500  0.033183"
      ]
     },
     "metadata": {},
     "output_type": "display_data"
    }
   ],
   "source": [
    "display(data.unstack())"
   ]
  },
  {
   "cell_type": "markdown",
   "id": "ad4f7cae-7b62-4d75-ae05-0aa0a787dd4a",
   "metadata": {},
   "source": [
    "## Hierarchical Indexing\n",
    "\n",
    "You can also `.stack()` data in a one dimensional data frame."
   ]
  },
  {
   "cell_type": "code",
   "execution_count": 6,
   "id": "f7aaa90b-db94-48ed-8bfb-cd9a241bf11b",
   "metadata": {},
   "outputs": [
    {
     "data": {
      "text/plain": [
       "a  1    0.298598\n",
       "   2    0.303884\n",
       "   3    0.530289\n",
       "b  1    0.966484\n",
       "   3    0.321590\n",
       "c  1    0.933737\n",
       "   2    0.079616\n",
       "d  2    0.744500\n",
       "   3    0.033183\n",
       "dtype: float64"
      ]
     },
     "metadata": {},
     "output_type": "display_data"
    }
   ],
   "source": [
    "display(data.unstack().stack())"
   ]
  },
  {
   "attachments": {},
   "cell_type": "markdown",
   "id": "11dad285-8ca2-45ec-8450-16c6e101bc6d",
   "metadata": {},
   "source": [
    "## Hierarchical Indexing\n",
    "\n",
    "In a DataFrame either the columns or the rows can have hierarchical levels.\n",
    "\n",
    "![image.png](images/DF1.png){ width=200 }"
   ]
  },
  {
   "cell_type": "code",
   "execution_count": 50,
   "id": "b7263526-f0c9-472b-aba3-4794ba00799b",
   "metadata": {},
   "outputs": [],
   "source": [
    "#!conda install -y tabulate"
   ]
  },
  {
   "cell_type": "code",
   "execution_count": 60,
   "id": "c2306136-28ef-4f36-9bd6-cddfcd761f10",
   "metadata": {},
   "outputs": [],
   "source": [
    "from IPython.display import Markdown\n",
    "frame = pd.DataFrame(np.arange(12).reshape((4, 3)),\n",
    "                     index=[[\"a\", \"a\", \"b\", \"b\"], [1, 2, 1, 2]],\n",
    "                     columns=[[\"Ohio\", \"Ohio\", \"Colorado\"],\n",
    "                              [\"Green\", \"Red\", \"Green\"]])\n",
    "# Convert the DataFrame to Markdown and display it\n",
    "# pd.set_option('styler.sparse.index', False)\n",
    "# Markdown(frame.to_markdown(index=True))\n",
    "\n",
    "#frame"
   ]
  },
  {
   "cell_type": "markdown",
   "id": "c870899e-92f5-48c4-9d3e-cfbc60d9630d",
   "metadata": {},
   "source": [
    "## Hierarchical Indexing\n",
    "\n",
    "The keys are two dimensional"
   ]
  },
  {
   "cell_type": "code",
   "execution_count": 8,
   "id": "d9627fb3-ac6b-4263-a906-b757ea3a85d7",
   "metadata": {},
   "outputs": [
    {
     "data": {
      "text/plain": [
       "MultiIndex([(    'Ohio', 'Green'),\n",
       "            (    'Ohio',   'Red'),\n",
       "            ('Colorado', 'Green')],\n",
       "           )"
      ]
     },
     "metadata": {},
     "output_type": "display_data"
    }
   ],
   "source": [
    "# The keys are two dimensional\n",
    "display(frame.keys())"
   ]
  },
  {
   "cell_type": "markdown",
   "id": "e1b1a03e-d3a7-410c-b2a9-c698027df629",
   "metadata": {},
   "source": [
    "## Hierarchical Indexing\n",
    "\n",
    "The indexes are two dimensional"
   ]
  },
  {
   "cell_type": "code",
   "execution_count": 9,
   "id": "9442ce80-c4d5-4278-aba8-f79049e6e250",
   "metadata": {},
   "outputs": [
    {
     "data": {
      "text/plain": [
       "MultiIndex([('a', 1),\n",
       "            ('a', 2),\n",
       "            ('b', 1),\n",
       "            ('b', 2)],\n",
       "           )"
      ]
     },
     "metadata": {},
     "output_type": "display_data"
    }
   ],
   "source": [
    "# The indices are two dimensional\n",
    "display(frame.index)"
   ]
  },
  {
   "cell_type": "markdown",
   "id": "53bd95b2-6d35-4778-a751-27bafda89771",
   "metadata": {},
   "source": [
    "## Hierarchical Indexing\n",
    "\n",
    "I can choose to name the levels of index and column data\n",
    "\n",
    "    frame.index.names = [\"key1\", \"key2\"]\n",
    "    frame.columns.names = [\"state\", \"color\"]\n",
    "\n",
    "![image.png](images/DF2.png){ width=200 }"
   ]
  },
  {
   "cell_type": "code",
   "execution_count": 61,
   "id": "08582a1f-1da3-4c24-ae4b-744626e018d7",
   "metadata": {},
   "outputs": [],
   "source": [
    "# Lets add some names\n",
    "frame.index.names = [\"key1\", \"key2\"]\n",
    "frame.columns.names = [\"state\", \"color\"]"
   ]
  },
  {
   "cell_type": "markdown",
   "id": "e09326b8-ccc7-4900-9274-49824638684c",
   "metadata": {},
   "source": [
    "## Reordering and Sorting Levels\n",
    "\n",
    "In the example above the levels were state then color and a/b then number. So it is easy to select by the outer level, and a bit harder to get the inside levels.\n",
    "\n",
    "    frame['Ohio']\n",
    "\n",
    "![image.png](images/DF3.png){ width=200 }"
   ]
  },
  {
   "cell_type": "code",
   "execution_count": 62,
   "id": "a371fd96-49a3-4b77-b51f-9f8db825cd3e",
   "metadata": {},
   "outputs": [],
   "source": [
    "#display(frame['Ohio'])"
   ]
  },
  {
   "cell_type": "markdown",
   "id": "192afe20-9198-4adc-af93-ff75f58299a1",
   "metadata": {},
   "source": [
    "    frame['Green\"\n",
    "\n",
    "would give an error!"
   ]
  },
  {
   "cell_type": "markdown",
   "id": "746a05dd-689a-4f4e-a79b-bb82dfd029e3",
   "metadata": {},
   "source": [
    "## Reordering and Sorting Levels\n",
    "\n",
    "So if we wanted to look at just the green data, we would need to reorder the levels, making color outer and state inner.\n",
    "\n",
    "    new_frame = frame.swaplevel('state','color', axis=1)\n",
    "\n",
    "![image.png](images/DF4.png){ width=200 }"
   ]
  },
  {
   "cell_type": "code",
   "execution_count": 63,
   "id": "c788c818-fb8d-4f49-960a-95f651b84156",
   "metadata": {},
   "outputs": [],
   "source": [
    "new_frame = frame.swaplevel('state','color', axis=1)\n",
    "#display(new_frame)"
   ]
  },
  {
   "cell_type": "markdown",
   "id": "2930cdc8-feb5-4575-a7d3-67c7734df2f7",
   "metadata": {},
   "source": [
    "## Summary Statistics by Level\n",
    "\n",
    "If we run statistics on the DataFrame as a whole, it ignores the leves and does the operation to the whole thing. This might be okay in some instances, but in the data frame above maybe we want to sum the \"a\" and \"b\" groupings separately.\n",
    "\n",
    "    # Good old fashioned sum\n",
    "    frame.sum()"
   ]
  },
  {
   "cell_type": "code",
   "execution_count": 66,
   "id": "1aef5a3b-56be-4211-96c6-5ba2b69dc2e0",
   "metadata": {},
   "outputs": [
    {
     "data": {
      "text/plain": [
       "state     color\n",
       "Ohio      Green    18\n",
       "          Red      22\n",
       "Colorado  Green    26\n",
       "dtype: int64"
      ]
     },
     "metadata": {},
     "output_type": "display_data"
    }
   ],
   "source": [
    "# Good old fashioned sum\n",
    "display(frame.sum())"
   ]
  },
  {
   "cell_type": "markdown",
   "id": "5f47fb67-5969-4c77-8d77-5e690d220092",
   "metadata": {},
   "source": [
    "## Summary Statistics by Level\n",
    "    \n",
    "    # Grouped sum\n",
    "    frame.groupby(level='key1').sum()\n",
    "\n",
    "![image.png](images/DF5.png){ width=200 }"
   ]
  },
  {
   "cell_type": "code",
   "execution_count": 68,
   "id": "e536c9fe-eb56-4a67-ab4f-b8cff38973b2",
   "metadata": {},
   "outputs": [],
   "source": [
    "# Grouped sum\n",
    "#display(frame.groupby(level='key1').sum())"
   ]
  },
  {
   "cell_type": "markdown",
   "id": "0051bfa8-1b57-488a-a6db-21a033d1ffb6",
   "metadata": {},
   "source": [
    "## Summary Statistics by Level\n",
    "\n",
    "The grouped sum lets us look at the sums of the specific index levels. We could also group by the columns! If we just transpose the data frame then the column names become the index names!\n",
    "\n",
    "    frame.T\n",
    "\n",
    "![image.png](images/DF6.png){ width=200 }"
   ]
  },
  {
   "cell_type": "code",
   "execution_count": 69,
   "id": "a201bc57-5215-4f7a-8734-7278a604642b",
   "metadata": {},
   "outputs": [],
   "source": [
    "#display(frame.T)"
   ]
  },
  {
   "cell_type": "markdown",
   "id": "d49ba49e-58d1-41dd-8388-2a077e7e1eed",
   "metadata": {},
   "source": [
    "## Combining and Merging Datasets\n",
    "\n",
    "Sometimes in your analysis you will want to grab data from more than one file, or maybe you scrape data from more that one website. In these cases you need to be able to merge the data into a single dataset for analysis. There are a few great Pandas commands for this:\n",
    "\n",
    "## Combining and Merging Datasets\n",
    "\n",
    "\n",
    "- pd.merge() - connects the rows in separate DataFrames based on one or more keys. It implements the database join operations.\n",
    "- pd.concat() - this is short of concatenate. Concatenate stacks objects along an access. For example stacking rows to add more observations or stacking columns to add more variables to the existing observations.\n",
    "- combine_first() - splices together overlapping data to fill in missing values in one object with values from another.\n",
    "\n",
    "\n",
    "## Pandas Merge\n",
    "\n",
    "Merge connects separate DataFrames based on comparing keys (or column labels). There are different merge types available:\n",
    "\n",
    "- `inner` is the most restrictive and only includes cases where the keys match across both datasets.\n",
    "- `left` includes all entries in the left dataset and only those that match from the right dataset.\n",
    "- `right` includes all entries in the right dataset and only those that match from the left dataset.\n",
    "- `outer` includes all entries in both datasets.\n",
    "\n",
    "## Pandas Merge\n",
    "\n",
    "We will start with two example DataFrames and explore the results for the different merge types.\n",
    "\n",
    "## Pandas Merge"
   ]
  },
  {
   "cell_type": "code",
   "execution_count": 16,
   "id": "47852c78-f838-4e08-aad3-356471c1e7f2",
   "metadata": {},
   "outputs": [
    {
     "data": {
      "text/html": [
       "<div>\n",
       "<style scoped>\n",
       "    .dataframe tbody tr th:only-of-type {\n",
       "        vertical-align: middle;\n",
       "    }\n",
       "\n",
       "    .dataframe tbody tr th {\n",
       "        vertical-align: top;\n",
       "    }\n",
       "\n",
       "    .dataframe thead th {\n",
       "        text-align: right;\n",
       "    }\n",
       "</style>\n",
       "<table border=\"1\" class=\"dataframe\">\n",
       "  <thead>\n",
       "    <tr style=\"text-align: right;\">\n",
       "      <th></th>\n",
       "      <th>employee_id</th>\n",
       "      <th>name</th>\n",
       "      <th>department_id</th>\n",
       "    </tr>\n",
       "  </thead>\n",
       "  <tbody>\n",
       "    <tr>\n",
       "      <th>0</th>\n",
       "      <td>1</td>\n",
       "      <td>Alice</td>\n",
       "      <td>10</td>\n",
       "    </tr>\n",
       "    <tr>\n",
       "      <th>1</th>\n",
       "      <td>2</td>\n",
       "      <td>Bob</td>\n",
       "      <td>20</td>\n",
       "    </tr>\n",
       "    <tr>\n",
       "      <th>2</th>\n",
       "      <td>3</td>\n",
       "      <td>Charlie</td>\n",
       "      <td>10</td>\n",
       "    </tr>\n",
       "    <tr>\n",
       "      <th>3</th>\n",
       "      <td>4</td>\n",
       "      <td>Diana</td>\n",
       "      <td>30</td>\n",
       "    </tr>\n",
       "    <tr>\n",
       "      <th>4</th>\n",
       "      <td>5</td>\n",
       "      <td>Eve</td>\n",
       "      <td>99</td>\n",
       "    </tr>\n",
       "  </tbody>\n",
       "</table>\n",
       "</div>"
      ],
      "text/plain": [
       "   employee_id     name  department_id\n",
       "0            1    Alice             10\n",
       "1            2      Bob             20\n",
       "2            3  Charlie             10\n",
       "3            4    Diana             30\n",
       "4            5      Eve             99"
      ]
     },
     "metadata": {},
     "output_type": "display_data"
    },
    {
     "data": {
      "text/html": [
       "<div>\n",
       "<style scoped>\n",
       "    .dataframe tbody tr th:only-of-type {\n",
       "        vertical-align: middle;\n",
       "    }\n",
       "\n",
       "    .dataframe tbody tr th {\n",
       "        vertical-align: top;\n",
       "    }\n",
       "\n",
       "    .dataframe thead th {\n",
       "        text-align: right;\n",
       "    }\n",
       "</style>\n",
       "<table border=\"1\" class=\"dataframe\">\n",
       "  <thead>\n",
       "    <tr style=\"text-align: right;\">\n",
       "      <th></th>\n",
       "      <th>department_id</th>\n",
       "      <th>department_name</th>\n",
       "    </tr>\n",
       "  </thead>\n",
       "  <tbody>\n",
       "    <tr>\n",
       "      <th>0</th>\n",
       "      <td>10</td>\n",
       "      <td>Engineering</td>\n",
       "    </tr>\n",
       "    <tr>\n",
       "      <th>1</th>\n",
       "      <td>20</td>\n",
       "      <td>HR</td>\n",
       "    </tr>\n",
       "    <tr>\n",
       "      <th>2</th>\n",
       "      <td>30</td>\n",
       "      <td>Marketing</td>\n",
       "    </tr>\n",
       "    <tr>\n",
       "      <th>3</th>\n",
       "      <td>40</td>\n",
       "      <td>Sales</td>\n",
       "    </tr>\n",
       "  </tbody>\n",
       "</table>\n",
       "</div>"
      ],
      "text/plain": [
       "   department_id department_name\n",
       "0             10     Engineering\n",
       "1             20              HR\n",
       "2             30       Marketing\n",
       "3             40           Sales"
      ]
     },
     "metadata": {},
     "output_type": "display_data"
    }
   ],
   "source": [
    "employees = pd.DataFrame({\n",
    "    'employee_id': [1, 2, 3, 4, 5],\n",
    "    'name': ['Alice', 'Bob', 'Charlie', 'Diana', 'Eve'],\n",
    "    'department_id': [10, 20, 10, 30, 99]  # Eve is in unknown dept 99\n",
    "})\n",
    "\n",
    "# Departments DataFrame (has an extra dept with no employees)\n",
    "departments = pd.DataFrame({\n",
    "    'department_id': [10, 20, 30, 40],\n",
    "    'department_name': ['Engineering', 'HR', 'Marketing', 'Sales']  # Dept 40 has no employees\n",
    "})\n",
    "\n",
    "display(employees)\n",
    "display(departments)"
   ]
  },
  {
   "cell_type": "markdown",
   "id": "f0c01c14-b14a-417c-972c-b2b082c8bc52",
   "metadata": {},
   "source": [
    "## Pandas Merge\n",
    "\n",
    "Looking at these two data sets we see that there are 5 employees and 4 departments. The two DataFrames share the key department_id. **You need a shared key or shared data to merge!** You will also notice some missmatch between the datasets. For example none of our employees have the department_id 40=Sales, and one of our employees has a department_id 99, which does not appear in our departments data frame. \n",
    "\n",
    "## Pandas Merge\n",
    "\n",
    "Lets look at the merges below. Note: we are using employees and the left and departments as the right dataset. This could be switched. Both datasets have the department_id key!\n",
    "\n",
    "## Pandas Merge\n",
    "\n",
    "    pd.merge(employees, departments, \n",
    "            on='department_id', how='inner')"
   ]
  },
  {
   "cell_type": "code",
   "execution_count": 17,
   "id": "3d89edd0-16a6-4b92-9955-338fabd386da",
   "metadata": {},
   "outputs": [
    {
     "data": {
      "text/html": [
       "<div>\n",
       "<style scoped>\n",
       "    .dataframe tbody tr th:only-of-type {\n",
       "        vertical-align: middle;\n",
       "    }\n",
       "\n",
       "    .dataframe tbody tr th {\n",
       "        vertical-align: top;\n",
       "    }\n",
       "\n",
       "    .dataframe thead th {\n",
       "        text-align: right;\n",
       "    }\n",
       "</style>\n",
       "<table border=\"1\" class=\"dataframe\">\n",
       "  <thead>\n",
       "    <tr style=\"text-align: right;\">\n",
       "      <th></th>\n",
       "      <th>employee_id</th>\n",
       "      <th>name</th>\n",
       "      <th>department_id</th>\n",
       "      <th>department_name</th>\n",
       "    </tr>\n",
       "  </thead>\n",
       "  <tbody>\n",
       "    <tr>\n",
       "      <th>0</th>\n",
       "      <td>1</td>\n",
       "      <td>Alice</td>\n",
       "      <td>10</td>\n",
       "      <td>Engineering</td>\n",
       "    </tr>\n",
       "    <tr>\n",
       "      <th>1</th>\n",
       "      <td>2</td>\n",
       "      <td>Bob</td>\n",
       "      <td>20</td>\n",
       "      <td>HR</td>\n",
       "    </tr>\n",
       "    <tr>\n",
       "      <th>2</th>\n",
       "      <td>3</td>\n",
       "      <td>Charlie</td>\n",
       "      <td>10</td>\n",
       "      <td>Engineering</td>\n",
       "    </tr>\n",
       "    <tr>\n",
       "      <th>3</th>\n",
       "      <td>4</td>\n",
       "      <td>Diana</td>\n",
       "      <td>30</td>\n",
       "      <td>Marketing</td>\n",
       "    </tr>\n",
       "  </tbody>\n",
       "</table>\n",
       "</div>"
      ],
      "text/plain": [
       "   employee_id     name  department_id department_name\n",
       "0            1    Alice             10     Engineering\n",
       "1            2      Bob             20              HR\n",
       "2            3  Charlie             10     Engineering\n",
       "3            4    Diana             30       Marketing"
      ]
     },
     "metadata": {},
     "output_type": "display_data"
    }
   ],
   "source": [
    "# Inner - THIS IS DEFAULT if you don't choose how\n",
    "# What data is missing? Do you see any Nan?\n",
    "display(pd.merge(employees, departments, on='department_id', how='inner'))"
   ]
  },
  {
   "cell_type": "markdown",
   "id": "f9148883-9359-44c9-b394-0d3cea4d3962",
   "metadata": {},
   "source": [
    "## Pandas Merge\n",
    "\n",
    "    pd.merge(employees, departments, \n",
    "            on='department_id', how='left')"
   ]
  },
  {
   "cell_type": "code",
   "execution_count": 18,
   "id": "91e54f3f-98ae-4d86-950b-32c44c15b4ba",
   "metadata": {},
   "outputs": [
    {
     "data": {
      "text/html": [
       "<div>\n",
       "<style scoped>\n",
       "    .dataframe tbody tr th:only-of-type {\n",
       "        vertical-align: middle;\n",
       "    }\n",
       "\n",
       "    .dataframe tbody tr th {\n",
       "        vertical-align: top;\n",
       "    }\n",
       "\n",
       "    .dataframe thead th {\n",
       "        text-align: right;\n",
       "    }\n",
       "</style>\n",
       "<table border=\"1\" class=\"dataframe\">\n",
       "  <thead>\n",
       "    <tr style=\"text-align: right;\">\n",
       "      <th></th>\n",
       "      <th>employee_id</th>\n",
       "      <th>name</th>\n",
       "      <th>department_id</th>\n",
       "      <th>department_name</th>\n",
       "    </tr>\n",
       "  </thead>\n",
       "  <tbody>\n",
       "    <tr>\n",
       "      <th>0</th>\n",
       "      <td>1</td>\n",
       "      <td>Alice</td>\n",
       "      <td>10</td>\n",
       "      <td>Engineering</td>\n",
       "    </tr>\n",
       "    <tr>\n",
       "      <th>1</th>\n",
       "      <td>2</td>\n",
       "      <td>Bob</td>\n",
       "      <td>20</td>\n",
       "      <td>HR</td>\n",
       "    </tr>\n",
       "    <tr>\n",
       "      <th>2</th>\n",
       "      <td>3</td>\n",
       "      <td>Charlie</td>\n",
       "      <td>10</td>\n",
       "      <td>Engineering</td>\n",
       "    </tr>\n",
       "    <tr>\n",
       "      <th>3</th>\n",
       "      <td>4</td>\n",
       "      <td>Diana</td>\n",
       "      <td>30</td>\n",
       "      <td>Marketing</td>\n",
       "    </tr>\n",
       "    <tr>\n",
       "      <th>4</th>\n",
       "      <td>5</td>\n",
       "      <td>Eve</td>\n",
       "      <td>99</td>\n",
       "      <td>NaN</td>\n",
       "    </tr>\n",
       "  </tbody>\n",
       "</table>\n",
       "</div>"
      ],
      "text/plain": [
       "   employee_id     name  department_id department_name\n",
       "0            1    Alice             10     Engineering\n",
       "1            2      Bob             20              HR\n",
       "2            3  Charlie             10     Engineering\n",
       "3            4    Diana             30       Marketing\n",
       "4            5      Eve             99             NaN"
      ]
     },
     "metadata": {},
     "output_type": "display_data"
    }
   ],
   "source": [
    "# Left\n",
    "# What data is missing? Do you see any Nan?\n",
    "display(pd.merge(employees, departments, on='department_id', how='left'))"
   ]
  },
  {
   "cell_type": "markdown",
   "id": "18baf4e0-3aa7-4b1e-9ed1-906a101ef8ab",
   "metadata": {},
   "source": [
    "## Pandas Merge\n",
    "\n",
    "    pd.merge(employees, departments, \n",
    "            on='department_id', how='right')"
   ]
  },
  {
   "cell_type": "code",
   "execution_count": 19,
   "id": "3cae5d7c-1a5e-4eb8-a3f6-71970196e286",
   "metadata": {},
   "outputs": [
    {
     "data": {
      "text/html": [
       "<div>\n",
       "<style scoped>\n",
       "    .dataframe tbody tr th:only-of-type {\n",
       "        vertical-align: middle;\n",
       "    }\n",
       "\n",
       "    .dataframe tbody tr th {\n",
       "        vertical-align: top;\n",
       "    }\n",
       "\n",
       "    .dataframe thead th {\n",
       "        text-align: right;\n",
       "    }\n",
       "</style>\n",
       "<table border=\"1\" class=\"dataframe\">\n",
       "  <thead>\n",
       "    <tr style=\"text-align: right;\">\n",
       "      <th></th>\n",
       "      <th>employee_id</th>\n",
       "      <th>name</th>\n",
       "      <th>department_id</th>\n",
       "      <th>department_name</th>\n",
       "    </tr>\n",
       "  </thead>\n",
       "  <tbody>\n",
       "    <tr>\n",
       "      <th>0</th>\n",
       "      <td>1.0</td>\n",
       "      <td>Alice</td>\n",
       "      <td>10</td>\n",
       "      <td>Engineering</td>\n",
       "    </tr>\n",
       "    <tr>\n",
       "      <th>1</th>\n",
       "      <td>3.0</td>\n",
       "      <td>Charlie</td>\n",
       "      <td>10</td>\n",
       "      <td>Engineering</td>\n",
       "    </tr>\n",
       "    <tr>\n",
       "      <th>2</th>\n",
       "      <td>2.0</td>\n",
       "      <td>Bob</td>\n",
       "      <td>20</td>\n",
       "      <td>HR</td>\n",
       "    </tr>\n",
       "    <tr>\n",
       "      <th>3</th>\n",
       "      <td>4.0</td>\n",
       "      <td>Diana</td>\n",
       "      <td>30</td>\n",
       "      <td>Marketing</td>\n",
       "    </tr>\n",
       "    <tr>\n",
       "      <th>4</th>\n",
       "      <td>NaN</td>\n",
       "      <td>NaN</td>\n",
       "      <td>40</td>\n",
       "      <td>Sales</td>\n",
       "    </tr>\n",
       "  </tbody>\n",
       "</table>\n",
       "</div>"
      ],
      "text/plain": [
       "   employee_id     name  department_id department_name\n",
       "0          1.0    Alice             10     Engineering\n",
       "1          3.0  Charlie             10     Engineering\n",
       "2          2.0      Bob             20              HR\n",
       "3          4.0    Diana             30       Marketing\n",
       "4          NaN      NaN             40           Sales"
      ]
     },
     "metadata": {},
     "output_type": "display_data"
    }
   ],
   "source": [
    "# Right\n",
    "# What data is missing? Do you see any Nan?\n",
    "display(pd.merge(employees, departments, on='department_id', how='right'))"
   ]
  },
  {
   "cell_type": "markdown",
   "id": "e890fed5-f250-4238-a4f3-44fcc602244a",
   "metadata": {},
   "source": [
    "## Pandas Merge\n",
    "\n",
    "    pd.merge(employees, departments, \n",
    "            on='department_id', how='outer')"
   ]
  },
  {
   "cell_type": "code",
   "execution_count": 20,
   "id": "191e8cdc-7257-47ce-b91d-2e43adbf6b19",
   "metadata": {},
   "outputs": [
    {
     "data": {
      "text/html": [
       "<div>\n",
       "<style scoped>\n",
       "    .dataframe tbody tr th:only-of-type {\n",
       "        vertical-align: middle;\n",
       "    }\n",
       "\n",
       "    .dataframe tbody tr th {\n",
       "        vertical-align: top;\n",
       "    }\n",
       "\n",
       "    .dataframe thead th {\n",
       "        text-align: right;\n",
       "    }\n",
       "</style>\n",
       "<table border=\"1\" class=\"dataframe\">\n",
       "  <thead>\n",
       "    <tr style=\"text-align: right;\">\n",
       "      <th></th>\n",
       "      <th>employee_id</th>\n",
       "      <th>name</th>\n",
       "      <th>department_id</th>\n",
       "      <th>department_name</th>\n",
       "    </tr>\n",
       "  </thead>\n",
       "  <tbody>\n",
       "    <tr>\n",
       "      <th>0</th>\n",
       "      <td>1.0</td>\n",
       "      <td>Alice</td>\n",
       "      <td>10</td>\n",
       "      <td>Engineering</td>\n",
       "    </tr>\n",
       "    <tr>\n",
       "      <th>1</th>\n",
       "      <td>3.0</td>\n",
       "      <td>Charlie</td>\n",
       "      <td>10</td>\n",
       "      <td>Engineering</td>\n",
       "    </tr>\n",
       "    <tr>\n",
       "      <th>2</th>\n",
       "      <td>2.0</td>\n",
       "      <td>Bob</td>\n",
       "      <td>20</td>\n",
       "      <td>HR</td>\n",
       "    </tr>\n",
       "    <tr>\n",
       "      <th>3</th>\n",
       "      <td>4.0</td>\n",
       "      <td>Diana</td>\n",
       "      <td>30</td>\n",
       "      <td>Marketing</td>\n",
       "    </tr>\n",
       "    <tr>\n",
       "      <th>4</th>\n",
       "      <td>NaN</td>\n",
       "      <td>NaN</td>\n",
       "      <td>40</td>\n",
       "      <td>Sales</td>\n",
       "    </tr>\n",
       "    <tr>\n",
       "      <th>5</th>\n",
       "      <td>5.0</td>\n",
       "      <td>Eve</td>\n",
       "      <td>99</td>\n",
       "      <td>NaN</td>\n",
       "    </tr>\n",
       "  </tbody>\n",
       "</table>\n",
       "</div>"
      ],
      "text/plain": [
       "   employee_id     name  department_id department_name\n",
       "0          1.0    Alice             10     Engineering\n",
       "1          3.0  Charlie             10     Engineering\n",
       "2          2.0      Bob             20              HR\n",
       "3          4.0    Diana             30       Marketing\n",
       "4          NaN      NaN             40           Sales\n",
       "5          5.0      Eve             99             NaN"
      ]
     },
     "metadata": {},
     "output_type": "display_data"
    }
   ],
   "source": [
    "# Outer\n",
    "# What data is missing? Do you see any Nan?\n",
    "display(pd.merge(employees, departments, on='department_id', how='outer'))"
   ]
  },
  {
   "cell_type": "markdown",
   "id": "a6cba10e-4794-40f6-9cd2-af5ec41ba65e",
   "metadata": {},
   "source": [
    "## Pandas Merge\n",
    "\n",
    "\n",
    "| Merge Type | Includes All Employees | Includes All Departments | Notes               |\n",
    "|------------|------------------------|---------------------------|---------------------|\n",
    "| Inner      | ❌ Only matched         | ❌ Only matched           | Most restrictive    |\n",
    "| Left       | ✅ Yes                 | ❌ Only matched           | Focus on employees  |\n",
    "| Right      | ❌ Only matched         | ✅ Yes                   | Focus on departments|\n",
    "| Outer      | ✅ Yes                 | ✅ Yes                   | Full outer view     |\n",
    "\n",
    "## Pandas Merge\n",
    "\n",
    "How would you merge data sets if one had the correct data, but did not have the correct key? Well, one option would be to change the column labels to match, but you could also tell pandas.merge() two different keys.\n",
    "\n",
    "    pd.merge(employees, departments, \n",
    "            left_on='department_id', right_on='dept_code')\n",
    "\n",
    "## Pandas Merge\n",
    "\n",
    "You can also specify that you want to use the indexes as the merge values.\n",
    "\n",
    "    pd.merge(employees,departments, \n",
    "            left_on='department_id', right_index=True)\n"
   ]
  },
  {
   "cell_type": "markdown",
   "id": "55e1a515-159e-4026-bb94-4260d800ae30",
   "metadata": {},
   "source": [
    "### Hirearchical index values:\n",
    "\n",
    "When you have hierarchical index values or columns, things get more confusing my merges are still possible!"
   ]
  },
  {
   "cell_type": "markdown",
   "id": "abca8ef1-7e19-46ba-a8ea-7b5aaaed2b18",
   "metadata": {},
   "source": [
    "## Concatenate\n",
    "\n",
    "When you need to stack new rows or columns onto an existing data set pd.concat() is a great way to do that. \n",
    "\n",
    "## Concatenate\n",
    "\n",
    "Let's imagine that we are working with the employee and department information above. Now suddenly HR sends us information about two new employees and data that contains all the salaries. They have confirmed that the salaries are in increasing order of the employee id. How do we get all this data into a single dataframe?\n",
    "\n",
    "## Concatenate\n",
    "\n",
    "When using concat the dimensions must match!\n",
    "\n",
    "- `axis=0` must have the same number of columns - you are adding rows\n",
    "- `axis=1` must have the same number of rows - you are adding columns\n",
    "\n",
    "## Concatenate"
   ]
  },
  {
   "cell_type": "code",
   "execution_count": 70,
   "id": "8147b9e0-4450-428e-88f1-0d9838a0ae93",
   "metadata": {},
   "outputs": [
    {
     "data": {
      "text/html": [
       "<div>\n",
       "<style scoped>\n",
       "    .dataframe tbody tr th:only-of-type {\n",
       "        vertical-align: middle;\n",
       "    }\n",
       "\n",
       "    .dataframe tbody tr th {\n",
       "        vertical-align: top;\n",
       "    }\n",
       "\n",
       "    .dataframe thead th {\n",
       "        text-align: right;\n",
       "    }\n",
       "</style>\n",
       "<table border=\"1\" class=\"dataframe\">\n",
       "  <thead>\n",
       "    <tr style=\"text-align: right;\">\n",
       "      <th></th>\n",
       "      <th>employee_id</th>\n",
       "      <th>name</th>\n",
       "      <th>department_id</th>\n",
       "    </tr>\n",
       "  </thead>\n",
       "  <tbody>\n",
       "    <tr>\n",
       "      <th>0</th>\n",
       "      <td>6</td>\n",
       "      <td>Joanna</td>\n",
       "      <td>30</td>\n",
       "    </tr>\n",
       "    <tr>\n",
       "      <th>1</th>\n",
       "      <td>7</td>\n",
       "      <td>Bella</td>\n",
       "      <td>20</td>\n",
       "    </tr>\n",
       "  </tbody>\n",
       "</table>\n",
       "</div>"
      ],
      "text/plain": [
       "   employee_id    name  department_id\n",
       "0  6            Joanna  30           \n",
       "1  7            Bella   20           "
      ]
     },
     "metadata": {},
     "output_type": "display_data"
    },
    {
     "data": {
      "text/html": [
       "<div>\n",
       "<style scoped>\n",
       "    .dataframe tbody tr th:only-of-type {\n",
       "        vertical-align: middle;\n",
       "    }\n",
       "\n",
       "    .dataframe tbody tr th {\n",
       "        vertical-align: top;\n",
       "    }\n",
       "\n",
       "    .dataframe thead th {\n",
       "        text-align: right;\n",
       "    }\n",
       "</style>\n",
       "<table border=\"1\" class=\"dataframe\">\n",
       "  <thead>\n",
       "    <tr style=\"text-align: right;\">\n",
       "      <th></th>\n",
       "      <th>emp_num</th>\n",
       "      <th>salary</th>\n",
       "    </tr>\n",
       "  </thead>\n",
       "  <tbody>\n",
       "    <tr>\n",
       "      <th>0</th>\n",
       "      <td>emp_1</td>\n",
       "      <td>60000</td>\n",
       "    </tr>\n",
       "    <tr>\n",
       "      <th>1</th>\n",
       "      <td>emp_2</td>\n",
       "      <td>55000</td>\n",
       "    </tr>\n",
       "    <tr>\n",
       "      <th>2</th>\n",
       "      <td>emp_3</td>\n",
       "      <td>62000</td>\n",
       "    </tr>\n",
       "    <tr>\n",
       "      <th>3</th>\n",
       "      <td>emp_4</td>\n",
       "      <td>58000</td>\n",
       "    </tr>\n",
       "    <tr>\n",
       "      <th>4</th>\n",
       "      <td>emp_5</td>\n",
       "      <td>500000</td>\n",
       "    </tr>\n",
       "    <tr>\n",
       "      <th>5</th>\n",
       "      <td>emp_6</td>\n",
       "      <td>40000</td>\n",
       "    </tr>\n",
       "    <tr>\n",
       "      <th>6</th>\n",
       "      <td>emp_7</td>\n",
       "      <td>40000</td>\n",
       "    </tr>\n",
       "  </tbody>\n",
       "</table>\n",
       "</div>"
      ],
      "text/plain": [
       "  emp_num  salary\n",
       "0  emp_1   60000 \n",
       "1  emp_2   55000 \n",
       "2  emp_3   62000 \n",
       "3  emp_4   58000 \n",
       "4  emp_5   500000\n",
       "5  emp_6   40000 \n",
       "6  emp_7   40000 "
      ]
     },
     "metadata": {},
     "output_type": "display_data"
    }
   ],
   "source": [
    "new_hires = pd.DataFrame({\n",
    "    'employee_id': [6, 7],\n",
    "    'name': ['Joanna', 'Bella'],\n",
    "    'department_id': [30, 20]\n",
    "})\n",
    "\n",
    "salaries = pd.DataFrame({\n",
    "    'emp_num': ['emp_'+str(i+1) for i in range(7)],\n",
    "    'salary': [60_000, 55_000, 62_000, 58_000, 500_000, 40_000, 40_000]\n",
    "})\n",
    "\n",
    "display(new_hires)\n",
    "display(salaries)"
   ]
  },
  {
   "cell_type": "markdown",
   "id": "a9b123e3-7a41-41a1-97a0-40ab2dc4ad7d",
   "metadata": {},
   "source": [
    "## Concatenate\n",
    "\n",
    "1. Concat the new_hires onto the employees data\n",
    "\n",
    "    all_employees = pd.concat([employees, new_hires],ignore_index=True)"
   ]
  },
  {
   "cell_type": "code",
   "execution_count": 75,
   "id": "ab3cce8b-21c5-47a0-b182-201d7d488a55",
   "metadata": {},
   "outputs": [
    {
     "data": {
      "text/html": [
       "<div>\n",
       "<style scoped>\n",
       "    .dataframe tbody tr th:only-of-type {\n",
       "        vertical-align: middle;\n",
       "    }\n",
       "\n",
       "    .dataframe tbody tr th {\n",
       "        vertical-align: top;\n",
       "    }\n",
       "\n",
       "    .dataframe thead th {\n",
       "        text-align: right;\n",
       "    }\n",
       "</style>\n",
       "<table border=\"1\" class=\"dataframe\">\n",
       "  <thead>\n",
       "    <tr style=\"text-align: right;\">\n",
       "      <th></th>\n",
       "      <th>employee_id</th>\n",
       "      <th>name</th>\n",
       "      <th>department_id</th>\n",
       "    </tr>\n",
       "  </thead>\n",
       "  <tbody>\n",
       "    <tr>\n",
       "      <th>0</th>\n",
       "      <td>1</td>\n",
       "      <td>Alice</td>\n",
       "      <td>10</td>\n",
       "    </tr>\n",
       "    <tr>\n",
       "      <th>1</th>\n",
       "      <td>2</td>\n",
       "      <td>Bob</td>\n",
       "      <td>20</td>\n",
       "    </tr>\n",
       "    <tr>\n",
       "      <th>2</th>\n",
       "      <td>3</td>\n",
       "      <td>Charlie</td>\n",
       "      <td>10</td>\n",
       "    </tr>\n",
       "    <tr>\n",
       "      <th>3</th>\n",
       "      <td>4</td>\n",
       "      <td>Diana</td>\n",
       "      <td>30</td>\n",
       "    </tr>\n",
       "    <tr>\n",
       "      <th>4</th>\n",
       "      <td>5</td>\n",
       "      <td>Eve</td>\n",
       "      <td>99</td>\n",
       "    </tr>\n",
       "    <tr>\n",
       "      <th>5</th>\n",
       "      <td>6</td>\n",
       "      <td>Joanna</td>\n",
       "      <td>30</td>\n",
       "    </tr>\n",
       "    <tr>\n",
       "      <th>6</th>\n",
       "      <td>7</td>\n",
       "      <td>Bella</td>\n",
       "      <td>20</td>\n",
       "    </tr>\n",
       "  </tbody>\n",
       "</table>\n",
       "</div>"
      ],
      "text/plain": [
       "   employee_id     name  department_id\n",
       "0  1            Alice    10           \n",
       "1  2            Bob      20           \n",
       "2  3            Charlie  10           \n",
       "3  4            Diana    30           \n",
       "4  5            Eve      99           \n",
       "5  6            Joanna   30           \n",
       "6  7            Bella    20           "
      ]
     },
     "metadata": {},
     "output_type": "display_data"
    }
   ],
   "source": [
    "# Concat the new hires\n",
    "# Here we ignore the old index values and reindex so the rows are 0-6\n",
    "all_employees = pd.concat([employees, new_hires],ignore_index=True)\n",
    "display(all_employees)"
   ]
  },
  {
   "cell_type": "code",
   "execution_count": 76,
   "id": "9264bb15-2b98-4b15-b949-d6cfde19b8b7",
   "metadata": {},
   "outputs": [
    {
     "data": {
      "text/html": [
       "<div>\n",
       "<style scoped>\n",
       "    .dataframe tbody tr th:only-of-type {\n",
       "        vertical-align: middle;\n",
       "    }\n",
       "\n",
       "    .dataframe tbody tr th {\n",
       "        vertical-align: top;\n",
       "    }\n",
       "\n",
       "    .dataframe thead th {\n",
       "        text-align: right;\n",
       "    }\n",
       "</style>\n",
       "<table border=\"1\" class=\"dataframe\">\n",
       "  <thead>\n",
       "    <tr style=\"text-align: right;\">\n",
       "      <th></th>\n",
       "      <th>department_id</th>\n",
       "      <th>department_name</th>\n",
       "    </tr>\n",
       "  </thead>\n",
       "  <tbody>\n",
       "    <tr>\n",
       "      <th>0</th>\n",
       "      <td>10</td>\n",
       "      <td>Engineering</td>\n",
       "    </tr>\n",
       "    <tr>\n",
       "      <th>1</th>\n",
       "      <td>20</td>\n",
       "      <td>HR</td>\n",
       "    </tr>\n",
       "    <tr>\n",
       "      <th>2</th>\n",
       "      <td>30</td>\n",
       "      <td>Marketing</td>\n",
       "    </tr>\n",
       "    <tr>\n",
       "      <th>3</th>\n",
       "      <td>40</td>\n",
       "      <td>Sales</td>\n",
       "    </tr>\n",
       "  </tbody>\n",
       "</table>\n",
       "</div>"
      ],
      "text/plain": [
       "   department_id department_name\n",
       "0  10             Engineering   \n",
       "1  20             HR            \n",
       "2  30             Marketing     \n",
       "3  40             Sales         "
      ]
     },
     "execution_count": 76,
     "metadata": {},
     "output_type": "execute_result"
    }
   ],
   "source": [
    "departments"
   ]
  },
  {
   "cell_type": "markdown",
   "id": "d9e95360-7297-4205-a485-a1d5d881fc30",
   "metadata": {},
   "source": [
    "## Concatenate\n",
    "\n",
    "2. Merge the employees and department data - keeping all information\n",
    "\n",
    "    all_employees = pd.merge(all_employees,departments,\n",
    "           on='department_id',how='outer')"
   ]
  },
  {
   "cell_type": "code",
   "execution_count": 78,
   "id": "c9ccbe08-5e12-427c-a7e2-ab3f00a85eb3",
   "metadata": {},
   "outputs": [
    {
     "data": {
      "text/html": [
       "<div>\n",
       "<style scoped>\n",
       "    .dataframe tbody tr th:only-of-type {\n",
       "        vertical-align: middle;\n",
       "    }\n",
       "\n",
       "    .dataframe tbody tr th {\n",
       "        vertical-align: top;\n",
       "    }\n",
       "\n",
       "    .dataframe thead th {\n",
       "        text-align: right;\n",
       "    }\n",
       "</style>\n",
       "<table border=\"1\" class=\"dataframe\">\n",
       "  <thead>\n",
       "    <tr style=\"text-align: right;\">\n",
       "      <th></th>\n",
       "      <th>employee_id</th>\n",
       "      <th>name</th>\n",
       "      <th>department_id</th>\n",
       "      <th>department_name_x</th>\n",
       "      <th>department_name_y</th>\n",
       "    </tr>\n",
       "  </thead>\n",
       "  <tbody>\n",
       "    <tr>\n",
       "      <th>0</th>\n",
       "      <td>1.0</td>\n",
       "      <td>Alice</td>\n",
       "      <td>10</td>\n",
       "      <td>Engineering</td>\n",
       "      <td>Engineering</td>\n",
       "    </tr>\n",
       "    <tr>\n",
       "      <th>1</th>\n",
       "      <td>3.0</td>\n",
       "      <td>Charlie</td>\n",
       "      <td>10</td>\n",
       "      <td>Engineering</td>\n",
       "      <td>Engineering</td>\n",
       "    </tr>\n",
       "    <tr>\n",
       "      <th>2</th>\n",
       "      <td>2.0</td>\n",
       "      <td>Bob</td>\n",
       "      <td>20</td>\n",
       "      <td>HR</td>\n",
       "      <td>HR</td>\n",
       "    </tr>\n",
       "    <tr>\n",
       "      <th>3</th>\n",
       "      <td>7.0</td>\n",
       "      <td>Bella</td>\n",
       "      <td>20</td>\n",
       "      <td>HR</td>\n",
       "      <td>HR</td>\n",
       "    </tr>\n",
       "    <tr>\n",
       "      <th>4</th>\n",
       "      <td>4.0</td>\n",
       "      <td>Diana</td>\n",
       "      <td>30</td>\n",
       "      <td>Marketing</td>\n",
       "      <td>Marketing</td>\n",
       "    </tr>\n",
       "    <tr>\n",
       "      <th>5</th>\n",
       "      <td>6.0</td>\n",
       "      <td>Joanna</td>\n",
       "      <td>30</td>\n",
       "      <td>Marketing</td>\n",
       "      <td>Marketing</td>\n",
       "    </tr>\n",
       "    <tr>\n",
       "      <th>6</th>\n",
       "      <td>NaN</td>\n",
       "      <td>NaN</td>\n",
       "      <td>40</td>\n",
       "      <td>Sales</td>\n",
       "      <td>Sales</td>\n",
       "    </tr>\n",
       "    <tr>\n",
       "      <th>7</th>\n",
       "      <td>5.0</td>\n",
       "      <td>Eve</td>\n",
       "      <td>99</td>\n",
       "      <td>NaN</td>\n",
       "      <td>NaN</td>\n",
       "    </tr>\n",
       "  </tbody>\n",
       "</table>\n",
       "</div>"
      ],
      "text/plain": [
       "   employee_id     name  department_id department_name_x department_name_y\n",
       "0  1.0          Alice    10             Engineering       Engineering     \n",
       "1  3.0          Charlie  10             Engineering       Engineering     \n",
       "2  2.0          Bob      20             HR                HR              \n",
       "3  7.0          Bella    20             HR                HR              \n",
       "4  4.0          Diana    30             Marketing         Marketing       \n",
       "5  6.0          Joanna   30             Marketing         Marketing       \n",
       "6 NaN           NaN      40             Sales             Sales           \n",
       "7  5.0          Eve      99             NaN               NaN             "
      ]
     },
     "metadata": {},
     "output_type": "display_data"
    }
   ],
   "source": [
    "# Merge the department data\n",
    "all_employees = pd.merge(all_employees,departments,on='department_id',how='outer')\n",
    "display(all_employees)"
   ]
  },
  {
   "cell_type": "markdown",
   "id": "074668d3-9098-49c5-89d4-d27deee3c834",
   "metadata": {},
   "source": [
    "## Concatenate\n",
    "\n",
    "3. Concat the new columns onto the full data set.\n",
    "\n",
    "    full_data = pd.concat([all_employees, salaries], axis=1)   "
   ]
  },
  {
   "cell_type": "code",
   "execution_count": 79,
   "id": "a66a080d-36ed-4856-b223-8107730c7c30",
   "metadata": {},
   "outputs": [
    {
     "data": {
      "text/html": [
       "<div>\n",
       "<style scoped>\n",
       "    .dataframe tbody tr th:only-of-type {\n",
       "        vertical-align: middle;\n",
       "    }\n",
       "\n",
       "    .dataframe tbody tr th {\n",
       "        vertical-align: top;\n",
       "    }\n",
       "\n",
       "    .dataframe thead th {\n",
       "        text-align: right;\n",
       "    }\n",
       "</style>\n",
       "<table border=\"1\" class=\"dataframe\">\n",
       "  <thead>\n",
       "    <tr style=\"text-align: right;\">\n",
       "      <th></th>\n",
       "      <th>employee_id</th>\n",
       "      <th>name</th>\n",
       "      <th>department_id</th>\n",
       "      <th>department_name_x</th>\n",
       "      <th>department_name_y</th>\n",
       "      <th>emp_num</th>\n",
       "      <th>salary</th>\n",
       "    </tr>\n",
       "  </thead>\n",
       "  <tbody>\n",
       "    <tr>\n",
       "      <th>0</th>\n",
       "      <td>1.0</td>\n",
       "      <td>Alice</td>\n",
       "      <td>10</td>\n",
       "      <td>Engineering</td>\n",
       "      <td>Engineering</td>\n",
       "      <td>emp_1</td>\n",
       "      <td>60000.0</td>\n",
       "    </tr>\n",
       "    <tr>\n",
       "      <th>1</th>\n",
       "      <td>3.0</td>\n",
       "      <td>Charlie</td>\n",
       "      <td>10</td>\n",
       "      <td>Engineering</td>\n",
       "      <td>Engineering</td>\n",
       "      <td>emp_2</td>\n",
       "      <td>55000.0</td>\n",
       "    </tr>\n",
       "    <tr>\n",
       "      <th>2</th>\n",
       "      <td>2.0</td>\n",
       "      <td>Bob</td>\n",
       "      <td>20</td>\n",
       "      <td>HR</td>\n",
       "      <td>HR</td>\n",
       "      <td>emp_3</td>\n",
       "      <td>62000.0</td>\n",
       "    </tr>\n",
       "    <tr>\n",
       "      <th>3</th>\n",
       "      <td>7.0</td>\n",
       "      <td>Bella</td>\n",
       "      <td>20</td>\n",
       "      <td>HR</td>\n",
       "      <td>HR</td>\n",
       "      <td>emp_4</td>\n",
       "      <td>58000.0</td>\n",
       "    </tr>\n",
       "    <tr>\n",
       "      <th>4</th>\n",
       "      <td>4.0</td>\n",
       "      <td>Diana</td>\n",
       "      <td>30</td>\n",
       "      <td>Marketing</td>\n",
       "      <td>Marketing</td>\n",
       "      <td>emp_5</td>\n",
       "      <td>500000.0</td>\n",
       "    </tr>\n",
       "    <tr>\n",
       "      <th>5</th>\n",
       "      <td>6.0</td>\n",
       "      <td>Joanna</td>\n",
       "      <td>30</td>\n",
       "      <td>Marketing</td>\n",
       "      <td>Marketing</td>\n",
       "      <td>emp_6</td>\n",
       "      <td>40000.0</td>\n",
       "    </tr>\n",
       "    <tr>\n",
       "      <th>6</th>\n",
       "      <td>NaN</td>\n",
       "      <td>NaN</td>\n",
       "      <td>40</td>\n",
       "      <td>Sales</td>\n",
       "      <td>Sales</td>\n",
       "      <td>emp_7</td>\n",
       "      <td>40000.0</td>\n",
       "    </tr>\n",
       "    <tr>\n",
       "      <th>7</th>\n",
       "      <td>5.0</td>\n",
       "      <td>Eve</td>\n",
       "      <td>99</td>\n",
       "      <td>NaN</td>\n",
       "      <td>NaN</td>\n",
       "      <td>NaN</td>\n",
       "      <td>NaN</td>\n",
       "    </tr>\n",
       "  </tbody>\n",
       "</table>\n",
       "</div>"
      ],
      "text/plain": [
       "   employee_id     name  department_id department_name_x department_name_y  \\\n",
       "0  1.0          Alice    10             Engineering       Engineering        \n",
       "1  3.0          Charlie  10             Engineering       Engineering        \n",
       "2  2.0          Bob      20             HR                HR                 \n",
       "3  7.0          Bella    20             HR                HR                 \n",
       "4  4.0          Diana    30             Marketing         Marketing          \n",
       "5  6.0          Joanna   30             Marketing         Marketing          \n",
       "6 NaN           NaN      40             Sales             Sales              \n",
       "7  5.0          Eve      99             NaN               NaN                \n",
       "\n",
       "  emp_num    salary  \n",
       "0  emp_1   60000.0   \n",
       "1  emp_2   55000.0   \n",
       "2  emp_3   62000.0   \n",
       "3  emp_4   58000.0   \n",
       "4  emp_5   500000.0  \n",
       "5  emp_6   40000.0   \n",
       "6  emp_7   40000.0   \n",
       "7  NaN    NaN        "
      ]
     },
     "metadata": {},
     "output_type": "display_data"
    }
   ],
   "source": [
    "# Concat the salaries\n",
    "full_data = pd.concat([all_employees, salaries], axis=1)\n",
    "display(full_data)"
   ]
  },
  {
   "cell_type": "markdown",
   "id": "9b43ffae-23a2-49b4-b20d-b688ec339eff",
   "metadata": {},
   "source": [
    "## Combining Data with Overlap\n",
    "\n",
    "Sometimes you have two datasets that have an overlap, but one or both of them are incomplete and you want to use one to fill in NaNs in the other. You can think of the `comnbine_first()` operation as patching up the data. It basically does and if-else statement that inserts values if there are null values in the original dataset.\n",
    "\n",
    "## Combining Data with Overlap\n",
    "\n",
    "Here is a scenario where maybe you have incomplete employee data. However each of the datasets has missing data and you want one complete dataset.\n",
    "\n",
    "## Combining Data with Overlap"
   ]
  },
  {
   "cell_type": "code",
   "execution_count": 25,
   "id": "a5a4446c-497c-434b-b732-2727114541e9",
   "metadata": {},
   "outputs": [
    {
     "data": {
      "text/html": [
       "<div>\n",
       "<style scoped>\n",
       "    .dataframe tbody tr th:only-of-type {\n",
       "        vertical-align: middle;\n",
       "    }\n",
       "\n",
       "    .dataframe tbody tr th {\n",
       "        vertical-align: top;\n",
       "    }\n",
       "\n",
       "    .dataframe thead th {\n",
       "        text-align: right;\n",
       "    }\n",
       "</style>\n",
       "<table border=\"1\" class=\"dataframe\">\n",
       "  <thead>\n",
       "    <tr style=\"text-align: right;\">\n",
       "      <th></th>\n",
       "      <th>name</th>\n",
       "      <th>dept_code</th>\n",
       "      <th>email</th>\n",
       "    </tr>\n",
       "  </thead>\n",
       "  <tbody>\n",
       "    <tr>\n",
       "      <th>1</th>\n",
       "      <td>Alice</td>\n",
       "      <td>10.0</td>\n",
       "      <td>None</td>\n",
       "    </tr>\n",
       "    <tr>\n",
       "      <th>2</th>\n",
       "      <td>None</td>\n",
       "      <td>20.0</td>\n",
       "      <td>bob@example.com</td>\n",
       "    </tr>\n",
       "    <tr>\n",
       "      <th>3</th>\n",
       "      <td>Charlie</td>\n",
       "      <td>NaN</td>\n",
       "      <td>None</td>\n",
       "    </tr>\n",
       "  </tbody>\n",
       "</table>\n",
       "</div>"
      ],
      "text/plain": [
       "      name  dept_code            email\n",
       "1    Alice       10.0             None\n",
       "2     None       20.0  bob@example.com\n",
       "3  Charlie        NaN             None"
      ]
     },
     "metadata": {},
     "output_type": "display_data"
    },
    {
     "data": {
      "text/html": [
       "<div>\n",
       "<style scoped>\n",
       "    .dataframe tbody tr th:only-of-type {\n",
       "        vertical-align: middle;\n",
       "    }\n",
       "\n",
       "    .dataframe tbody tr th {\n",
       "        vertical-align: top;\n",
       "    }\n",
       "\n",
       "    .dataframe thead th {\n",
       "        text-align: right;\n",
       "    }\n",
       "</style>\n",
       "<table border=\"1\" class=\"dataframe\">\n",
       "  <thead>\n",
       "    <tr style=\"text-align: right;\">\n",
       "      <th></th>\n",
       "      <th>name</th>\n",
       "      <th>dept_code</th>\n",
       "      <th>email</th>\n",
       "      <th>phone</th>\n",
       "    </tr>\n",
       "  </thead>\n",
       "  <tbody>\n",
       "    <tr>\n",
       "      <th>1</th>\n",
       "      <td>Alice A.</td>\n",
       "      <td>10</td>\n",
       "      <td>alice@example.com</td>\n",
       "      <td>111-1111</td>\n",
       "    </tr>\n",
       "    <tr>\n",
       "      <th>2</th>\n",
       "      <td>Bob B.</td>\n",
       "      <td>20</td>\n",
       "      <td>None</td>\n",
       "      <td>222-2222</td>\n",
       "    </tr>\n",
       "    <tr>\n",
       "      <th>3</th>\n",
       "      <td>Charlie C.</td>\n",
       "      <td>10</td>\n",
       "      <td>charlie@example.com</td>\n",
       "      <td>333-3333</td>\n",
       "    </tr>\n",
       "    <tr>\n",
       "      <th>4</th>\n",
       "      <td>Diana D.</td>\n",
       "      <td>30</td>\n",
       "      <td>diana@example.com</td>\n",
       "      <td>444-4444</td>\n",
       "    </tr>\n",
       "  </tbody>\n",
       "</table>\n",
       "</div>"
      ],
      "text/plain": [
       "         name  dept_code                email     phone\n",
       "1    Alice A.         10    alice@example.com  111-1111\n",
       "2      Bob B.         20                 None  222-2222\n",
       "3  Charlie C.         10  charlie@example.com  333-3333\n",
       "4    Diana D.         30    diana@example.com  444-4444"
      ]
     },
     "metadata": {},
     "output_type": "display_data"
    }
   ],
   "source": [
    "employee_profiles = pd.DataFrame({\n",
    "    'name': ['Alice', None, 'Charlie'],\n",
    "    'dept_code': [10, 20, None],\n",
    "    'email': [None, 'bob@example.com', None]\n",
    "}, index=[1, 2, 3])  \n",
    "\n",
    "backup_profiles = pd.DataFrame({\n",
    "    'name': ['Alice A.', 'Bob B.', 'Charlie C.', 'Diana D.'],\n",
    "    'dept_code': [10, 20, 10, 30],\n",
    "    'email': ['alice@example.com', None, 'charlie@example.com', 'diana@example.com'],\n",
    "    'phone': ['111-1111', '222-2222', '333-3333', '444-4444']  \n",
    "}, index=[1, 2, 3, 4]) \n",
    "\n",
    "display(employee_profiles)\n",
    "display(backup_profiles)"
   ]
  },
  {
   "cell_type": "markdown",
   "id": "9e8e9300-8291-4c1c-9b9a-ff93f78bee54",
   "metadata": {},
   "source": [
    "## Combining Data with Overlap\n",
    "\n",
    "    employee_profiles.combine_first(backup_profiles)"
   ]
  },
  {
   "cell_type": "code",
   "execution_count": 26,
   "id": "f07ab1d2-0e2d-4f44-88ce-1bd104059751",
   "metadata": {},
   "outputs": [
    {
     "data": {
      "text/html": [
       "<div>\n",
       "<style scoped>\n",
       "    .dataframe tbody tr th:only-of-type {\n",
       "        vertical-align: middle;\n",
       "    }\n",
       "\n",
       "    .dataframe tbody tr th {\n",
       "        vertical-align: top;\n",
       "    }\n",
       "\n",
       "    .dataframe thead th {\n",
       "        text-align: right;\n",
       "    }\n",
       "</style>\n",
       "<table border=\"1\" class=\"dataframe\">\n",
       "  <thead>\n",
       "    <tr style=\"text-align: right;\">\n",
       "      <th></th>\n",
       "      <th>dept_code</th>\n",
       "      <th>email</th>\n",
       "      <th>name</th>\n",
       "      <th>phone</th>\n",
       "    </tr>\n",
       "  </thead>\n",
       "  <tbody>\n",
       "    <tr>\n",
       "      <th>1</th>\n",
       "      <td>10.0</td>\n",
       "      <td>alice@example.com</td>\n",
       "      <td>Alice</td>\n",
       "      <td>111-1111</td>\n",
       "    </tr>\n",
       "    <tr>\n",
       "      <th>2</th>\n",
       "      <td>20.0</td>\n",
       "      <td>bob@example.com</td>\n",
       "      <td>Bob B.</td>\n",
       "      <td>222-2222</td>\n",
       "    </tr>\n",
       "    <tr>\n",
       "      <th>3</th>\n",
       "      <td>10.0</td>\n",
       "      <td>charlie@example.com</td>\n",
       "      <td>Charlie</td>\n",
       "      <td>333-3333</td>\n",
       "    </tr>\n",
       "    <tr>\n",
       "      <th>4</th>\n",
       "      <td>30.0</td>\n",
       "      <td>diana@example.com</td>\n",
       "      <td>Diana D.</td>\n",
       "      <td>444-4444</td>\n",
       "    </tr>\n",
       "  </tbody>\n",
       "</table>\n",
       "</div>"
      ],
      "text/plain": [
       "   dept_code                email      name     phone\n",
       "1       10.0    alice@example.com     Alice  111-1111\n",
       "2       20.0      bob@example.com    Bob B.  222-2222\n",
       "3       10.0  charlie@example.com   Charlie  333-3333\n",
       "4       30.0    diana@example.com  Diana D.  444-4444"
      ]
     },
     "metadata": {},
     "output_type": "display_data"
    }
   ],
   "source": [
    "combined_profiles = employee_profiles.combine_first(backup_profiles)\n",
    "display(combined_profiles)"
   ]
  },
  {
   "cell_type": "markdown",
   "id": "2a97c15c-d3ae-4b7b-bbae-60b24d4c33f0",
   "metadata": {},
   "source": [
    "## Combining Data with Overlap\n",
    "\n",
    "combine_first() does not overwrite existing data in the first DataFrame. It aligns on both index and column names — mismatches are handled gracefully. You can think of it as a data patching tool.\n",
    "\n",
    "## Combining Data with Overlap\n",
    "\n",
    "**combine_first() is perfect when:**\n",
    "\n",
    "- You have a primary source of data that may be incomplete.\n",
    "- You have a secondary or backup source you want to use to fill in the blanks.\n",
    "- You want row-wise alignment based on index.\n",
    "\n",
    "But what happens if the indexes dont align?\n",
    "\n",
    "## Reshaping and Pivoting\n",
    "\n",
    "The goal with reshaping and pivoting is to rearrange tabular data in a way that is better for your specific analysis. We have already seen some of these commands.\n",
    "\n",
    "- `stack()` rotates or pivots from the columns in the data to the rows when provided hierarchical indexes.\n",
    "- `unstack()` rotates of pivots from the rows into the columns creating hierarchical indexes.\n",
    "- `.pivot()` reshapes the data from long(tall) format to a wide format.\n",
    "- `melt()` reshapes the data from wide to long(tall) melting the column names into the data\n",
    "\n",
    "## Reshaping and Pivoting\n",
    "\n",
    "**Long (Tall) Format** Also called \"tidy\" data in some contexts:\n",
    "\n",
    "- One row per observation.\n",
    "- Repeated categories or measurements in a single column.\n",
    "- More rows, fewer columns.\n",
    "- One row per person per test\n",
    "\n",
    "## Reshaping and Pivoting\n",
    "\n",
    "**Wide Format**\n",
    "\n",
    "- Unique values in a categorical column become column headers.\n",
    "- More columns, fewer rows.\n",
    "- Easier for humans to read, but not always ideal for statistical analysis.\n",
    "- One row per person, one column per test\n",
    "\n",
    "## Reshaping and Pivoting\n",
    "\n",
    "Below we will look at the ways we might rearrange or reshape our data!"
   ]
  },
  {
   "cell_type": "code",
   "execution_count": 27,
   "id": "ba789efd-6645-4962-8118-773dbc245a0b",
   "metadata": {},
   "outputs": [
    {
     "data": {
      "text/html": [
       "<div>\n",
       "<style scoped>\n",
       "    .dataframe tbody tr th:only-of-type {\n",
       "        vertical-align: middle;\n",
       "    }\n",
       "\n",
       "    .dataframe tbody tr th {\n",
       "        vertical-align: top;\n",
       "    }\n",
       "\n",
       "    .dataframe thead th {\n",
       "        text-align: right;\n",
       "    }\n",
       "</style>\n",
       "<table border=\"1\" class=\"dataframe\">\n",
       "  <thead>\n",
       "    <tr style=\"text-align: right;\">\n",
       "      <th></th>\n",
       "      <th>person</th>\n",
       "      <th>month</th>\n",
       "      <th>sales</th>\n",
       "      <th>expenses</th>\n",
       "    </tr>\n",
       "  </thead>\n",
       "  <tbody>\n",
       "    <tr>\n",
       "      <th>0</th>\n",
       "      <td>Alice</td>\n",
       "      <td>Jan</td>\n",
       "      <td>200</td>\n",
       "      <td>150</td>\n",
       "    </tr>\n",
       "    <tr>\n",
       "      <th>1</th>\n",
       "      <td>Alice</td>\n",
       "      <td>Feb</td>\n",
       "      <td>180</td>\n",
       "      <td>120</td>\n",
       "    </tr>\n",
       "    <tr>\n",
       "      <th>2</th>\n",
       "      <td>Bob</td>\n",
       "      <td>Jan</td>\n",
       "      <td>210</td>\n",
       "      <td>160</td>\n",
       "    </tr>\n",
       "    <tr>\n",
       "      <th>3</th>\n",
       "      <td>Bob</td>\n",
       "      <td>Feb</td>\n",
       "      <td>190</td>\n",
       "      <td>140</td>\n",
       "    </tr>\n",
       "  </tbody>\n",
       "</table>\n",
       "</div>"
      ],
      "text/plain": [
       "  person month  sales  expenses\n",
       "0  Alice   Jan    200       150\n",
       "1  Alice   Feb    180       120\n",
       "2    Bob   Jan    210       160\n",
       "3    Bob   Feb    190       140"
      ]
     },
     "metadata": {},
     "output_type": "display_data"
    }
   ],
   "source": [
    "df = pd.DataFrame({\n",
    "    'person': ['Alice', 'Alice', 'Bob', 'Bob'],\n",
    "    'month': ['Jan', 'Feb', 'Jan', 'Feb'],\n",
    "    'sales': [200, 180, 210, 190],\n",
    "    'expenses': [150, 120, 160, 140]\n",
    "})\n",
    "\n",
    "display(df)"
   ]
  },
  {
   "cell_type": "markdown",
   "id": "09c9fb12-e073-46be-b315-1564905a2551",
   "metadata": {},
   "source": [
    "## Pivot\n",
    "\n",
    "When you pivot a DataFrame you tell it which columns to use for the new data set\n",
    "\n",
    "- `index` which column should be used as the new row (index) labels.\n",
    "- `column` which column should be used as the new column labels.\n",
    "- `values` which column should be used to fill in values in the new data set.\n",
    "  \n",
    "## Pivot\n",
    "\n",
    "    df.pivot(index='person',\n",
    "            columns='month', values='sales')"
   ]
  },
  {
   "cell_type": "code",
   "execution_count": 28,
   "id": "a6b92d80-90d3-474f-9f98-a3bb9bd48409",
   "metadata": {},
   "outputs": [
    {
     "data": {
      "text/html": [
       "<div>\n",
       "<style scoped>\n",
       "    .dataframe tbody tr th:only-of-type {\n",
       "        vertical-align: middle;\n",
       "    }\n",
       "\n",
       "    .dataframe tbody tr th {\n",
       "        vertical-align: top;\n",
       "    }\n",
       "\n",
       "    .dataframe thead th {\n",
       "        text-align: right;\n",
       "    }\n",
       "</style>\n",
       "<table border=\"1\" class=\"dataframe\">\n",
       "  <thead>\n",
       "    <tr style=\"text-align: right;\">\n",
       "      <th>month</th>\n",
       "      <th>Feb</th>\n",
       "      <th>Jan</th>\n",
       "    </tr>\n",
       "    <tr>\n",
       "      <th>person</th>\n",
       "      <th></th>\n",
       "      <th></th>\n",
       "    </tr>\n",
       "  </thead>\n",
       "  <tbody>\n",
       "    <tr>\n",
       "      <th>Alice</th>\n",
       "      <td>180</td>\n",
       "      <td>200</td>\n",
       "    </tr>\n",
       "    <tr>\n",
       "      <th>Bob</th>\n",
       "      <td>190</td>\n",
       "      <td>210</td>\n",
       "    </tr>\n",
       "  </tbody>\n",
       "</table>\n",
       "</div>"
      ],
      "text/plain": [
       "month   Feb  Jan\n",
       "person          \n",
       "Alice   180  200\n",
       "Bob     190  210"
      ]
     },
     "metadata": {},
     "output_type": "display_data"
    }
   ],
   "source": [
    "pivoted = df.pivot(index='person',columns='month', values='sales')\n",
    "display(pivoted)"
   ]
  },
  {
   "cell_type": "markdown",
   "id": "907f5227-32ef-4e65-bc53-b50c3bc37b58",
   "metadata": {},
   "source": [
    "## Pivot\n",
    "\n",
    "    df.pivot(index='month',\n",
    "            columns='person', values='expenses')"
   ]
  },
  {
   "cell_type": "code",
   "execution_count": 29,
   "id": "c455de0c-3918-4eb5-8147-7af59908c44c",
   "metadata": {},
   "outputs": [
    {
     "data": {
      "text/html": [
       "<div>\n",
       "<style scoped>\n",
       "    .dataframe tbody tr th:only-of-type {\n",
       "        vertical-align: middle;\n",
       "    }\n",
       "\n",
       "    .dataframe tbody tr th {\n",
       "        vertical-align: top;\n",
       "    }\n",
       "\n",
       "    .dataframe thead th {\n",
       "        text-align: right;\n",
       "    }\n",
       "</style>\n",
       "<table border=\"1\" class=\"dataframe\">\n",
       "  <thead>\n",
       "    <tr style=\"text-align: right;\">\n",
       "      <th>person</th>\n",
       "      <th>Alice</th>\n",
       "      <th>Bob</th>\n",
       "    </tr>\n",
       "    <tr>\n",
       "      <th>month</th>\n",
       "      <th></th>\n",
       "      <th></th>\n",
       "    </tr>\n",
       "  </thead>\n",
       "  <tbody>\n",
       "    <tr>\n",
       "      <th>Feb</th>\n",
       "      <td>120</td>\n",
       "      <td>140</td>\n",
       "    </tr>\n",
       "    <tr>\n",
       "      <th>Jan</th>\n",
       "      <td>150</td>\n",
       "      <td>160</td>\n",
       "    </tr>\n",
       "  </tbody>\n",
       "</table>\n",
       "</div>"
      ],
      "text/plain": [
       "person  Alice  Bob\n",
       "month             \n",
       "Feb       120  140\n",
       "Jan       150  160"
      ]
     },
     "metadata": {},
     "output_type": "display_data"
    }
   ],
   "source": [
    "pivoted = df.pivot(index='month',columns='person', values='expenses')\n",
    "display(pivoted)"
   ]
  },
  {
   "cell_type": "markdown",
   "id": "7e4aee19-6579-4656-86ca-474ce257f588",
   "metadata": {},
   "source": [
    "## Pivot\n",
    "\n",
    "    df.pivot(index='person',\n",
    "            columns='month', values=['sales','expenses'])"
   ]
  },
  {
   "cell_type": "code",
   "execution_count": 30,
   "id": "67a5c7a3-9d2c-4bcc-be7d-81dfb645bdd7",
   "metadata": {},
   "outputs": [
    {
     "data": {
      "text/html": [
       "<div>\n",
       "<style scoped>\n",
       "    .dataframe tbody tr th:only-of-type {\n",
       "        vertical-align: middle;\n",
       "    }\n",
       "\n",
       "    .dataframe tbody tr th {\n",
       "        vertical-align: top;\n",
       "    }\n",
       "\n",
       "    .dataframe thead tr th {\n",
       "        text-align: left;\n",
       "    }\n",
       "\n",
       "    .dataframe thead tr:last-of-type th {\n",
       "        text-align: right;\n",
       "    }\n",
       "</style>\n",
       "<table border=\"1\" class=\"dataframe\">\n",
       "  <thead>\n",
       "    <tr>\n",
       "      <th></th>\n",
       "      <th colspan=\"2\" halign=\"left\">sales</th>\n",
       "      <th colspan=\"2\" halign=\"left\">expenses</th>\n",
       "    </tr>\n",
       "    <tr>\n",
       "      <th>month</th>\n",
       "      <th>Feb</th>\n",
       "      <th>Jan</th>\n",
       "      <th>Feb</th>\n",
       "      <th>Jan</th>\n",
       "    </tr>\n",
       "    <tr>\n",
       "      <th>person</th>\n",
       "      <th></th>\n",
       "      <th></th>\n",
       "      <th></th>\n",
       "      <th></th>\n",
       "    </tr>\n",
       "  </thead>\n",
       "  <tbody>\n",
       "    <tr>\n",
       "      <th>Alice</th>\n",
       "      <td>180</td>\n",
       "      <td>200</td>\n",
       "      <td>120</td>\n",
       "      <td>150</td>\n",
       "    </tr>\n",
       "    <tr>\n",
       "      <th>Bob</th>\n",
       "      <td>190</td>\n",
       "      <td>210</td>\n",
       "      <td>140</td>\n",
       "      <td>160</td>\n",
       "    </tr>\n",
       "  </tbody>\n",
       "</table>\n",
       "</div>"
      ],
      "text/plain": [
       "       sales      expenses     \n",
       "month    Feb  Jan      Feb  Jan\n",
       "person                         \n",
       "Alice    180  200      120  150\n",
       "Bob      190  210      140  160"
      ]
     },
     "metadata": {},
     "output_type": "display_data"
    }
   ],
   "source": [
    "# You can specify more that one value to be added as hierarchical columns\n",
    "pivoted = df.pivot(index='person',columns='month', values=['sales','expenses'])\n",
    "display(pivoted)"
   ]
  },
  {
   "cell_type": "markdown",
   "id": "5be7fd4d-7683-4c23-a7dd-500a48849e94",
   "metadata": {},
   "source": [
    "## Stack\n",
    "\n",
    "Stack takes the index values and shifts from wide to tall format. You will see one grouping of data for each index. In many cases you might want to set the index values to be more interesting to get a better breakdown of the data.\n",
    "\n",
    "## Stack\n",
    "\n",
    "We go from wide data to tall data, meaning one observation per index per column.\n",
    "\n",
    "    df.stack()"
   ]
  },
  {
   "cell_type": "code",
   "execution_count": 31,
   "id": "f702dcf8-f240-4326-ada9-34097beb9bc7",
   "metadata": {},
   "outputs": [
    {
     "data": {
      "text/plain": [
       "0  person      Alice\n",
       "   month         Jan\n",
       "   sales         200\n",
       "   expenses      150\n",
       "1  person      Alice\n",
       "   month         Feb\n",
       "   sales         180\n",
       "   expenses      120\n",
       "2  person        Bob\n",
       "   month         Jan\n",
       "   sales         210\n",
       "   expenses      160\n",
       "3  person        Bob\n",
       "   month         Feb\n",
       "   sales         190\n",
       "   expenses      140\n",
       "dtype: object"
      ]
     },
     "metadata": {},
     "output_type": "display_data"
    }
   ],
   "source": [
    "# Stack without setting the index\n",
    "stacked = df.stack()\n",
    "display(stacked)"
   ]
  },
  {
   "cell_type": "markdown",
   "id": "36d3d8f9-e68f-442a-995c-2100b02f6dab",
   "metadata": {},
   "source": [
    "## Stack\n",
    "\n",
    "Stack with index_set\n",
    "\n",
    "    df.set_index(['person', 'month']).stack()\n",
    "    "
   ]
  },
  {
   "cell_type": "code",
   "execution_count": 32,
   "id": "5fcb597d-b9f9-4b53-b6c6-3f4258dbaf54",
   "metadata": {},
   "outputs": [
    {
     "data": {
      "text/plain": [
       "person  month          \n",
       "Alice   Jan    sales       200\n",
       "               expenses    150\n",
       "        Feb    sales       180\n",
       "               expenses    120\n",
       "Bob     Jan    sales       210\n",
       "               expenses    160\n",
       "        Feb    sales       190\n",
       "               expenses    140\n",
       "dtype: int64"
      ]
     },
     "metadata": {},
     "output_type": "display_data"
    }
   ],
   "source": [
    "# Stack with index set\n",
    "stacked = df.set_index(['person', 'month']).stack()\n",
    "display(stacked)"
   ]
  },
  {
   "cell_type": "markdown",
   "id": "2e47ac80-0081-40f0-9c6b-206379df83fb",
   "metadata": {},
   "source": [
    "## Unstack\n",
    "\n",
    "Lets say you are given data with observations for each person. But what you want is a wide data frame, with fewer rows and more categorical columns. This is what unstack can do!\n",
    "\n",
    "## Unstack\n",
    "Let's start with some stacked data - hierarchical indexes:"
   ]
  },
  {
   "cell_type": "code",
   "execution_count": 33,
   "id": "a173b230-08c0-424a-9739-e2aa84b314ab",
   "metadata": {},
   "outputs": [
    {
     "data": {
      "text/plain": [
       "person  month          \n",
       "Alice   Jan    sales       200\n",
       "               expenses    150\n",
       "        Feb    sales       180\n",
       "               expenses    120\n",
       "Bob     Jan    sales       210\n",
       "               expenses    160\n",
       "        Feb    sales       190\n",
       "               expenses    140\n",
       "dtype: int64"
      ]
     },
     "metadata": {},
     "output_type": "display_data"
    }
   ],
   "source": [
    "stacked = df.set_index(['person','month']).stack()\n",
    "display(stacked)"
   ]
  },
  {
   "cell_type": "markdown",
   "id": "6dcd898c-1014-48c4-ad0b-888e590e55ff",
   "metadata": {},
   "source": [
    "## Unstack\n",
    "\n",
    "    data.unstack()\n",
    "\n",
    "![image.png](images/DF8.png){ width=200 }"
   ]
  },
  {
   "cell_type": "code",
   "execution_count": 80,
   "id": "7640bd00-7485-4cce-a2c0-3a1655341fc5",
   "metadata": {},
   "outputs": [],
   "source": [
    "# This will compress the month data (inner index) into a categorical column.\n",
    "# display(stacked.unstack())"
   ]
  },
  {
   "cell_type": "markdown",
   "id": "858852f3-7254-4817-9feb-52996688dc89",
   "metadata": {},
   "source": [
    "## Unstack\n",
    "\n",
    "Here use the Person level index as the columns\n",
    "\n",
    "    unstack(level=0)\n",
    "\n",
    "![image.png](images/DF9.png){ width=200 }"
   ]
  },
  {
   "cell_type": "code",
   "execution_count": 81,
   "id": "3b847e5f-8988-41bc-95f9-fbaf7bcddff9",
   "metadata": {},
   "outputs": [],
   "source": [
    "# We can specify which level to use\n",
    "# Here use the Person level index as the columns\n",
    "# display(stacked.unstack(level=0))"
   ]
  },
  {
   "cell_type": "markdown",
   "id": "98a26242-9895-4ec5-9ed8-7be8f2ef1335",
   "metadata": {},
   "source": [
    "## Unstack\n",
    "\n",
    "Here use the month level index as the columns\n",
    "\n",
    "    unstack(level=1)\n",
    "\n",
    "![image.png](images/DF10.png){ width=200 }"
   ]
  },
  {
   "cell_type": "code",
   "execution_count": 82,
   "id": "2fdddead-8f65-4dcf-b6b0-514dba41f71e",
   "metadata": {},
   "outputs": [],
   "source": [
    "# Here use the month level index as the columns\n",
    "#display(stacked.unstack(level=1))"
   ]
  },
  {
   "cell_type": "markdown",
   "id": "49457f33-67fa-44cc-96e1-645b287645b1",
   "metadata": {},
   "source": [
    "## Unstack\n",
    "\n",
    "Here use the innermost values as the columns\n",
    "\n",
    "    unstack(level=2)\n",
    "\n",
    "![image.png](images/DF12.png){ width=200 }"
   ]
  },
  {
   "cell_type": "code",
   "execution_count": 83,
   "id": "e6f3deed-adf9-4b80-9dba-e5265b9bd1df",
   "metadata": {},
   "outputs": [],
   "source": [
    "# Here use the innermost values as the columns\n",
    "#display(stacked.unstack(level=2))"
   ]
  },
  {
   "cell_type": "markdown",
   "id": "5cc26dbd-f7c7-4138-a53b-7d4a82efd283",
   "metadata": {},
   "source": [
    "## Melt\n",
    "\n",
    "The melt command lets you choose a column (or use all columns) to be used as an additional row in the data. Here is some data:"
   ]
  },
  {
   "cell_type": "code",
   "execution_count": 39,
   "id": "2a3b8ac9-d721-4eaf-b6db-c448c374ebb8",
   "metadata": {},
   "outputs": [
    {
     "data": {
      "text/html": [
       "<div>\n",
       "<style scoped>\n",
       "    .dataframe tbody tr th:only-of-type {\n",
       "        vertical-align: middle;\n",
       "    }\n",
       "\n",
       "    .dataframe tbody tr th {\n",
       "        vertical-align: top;\n",
       "    }\n",
       "\n",
       "    .dataframe thead th {\n",
       "        text-align: right;\n",
       "    }\n",
       "</style>\n",
       "<table border=\"1\" class=\"dataframe\">\n",
       "  <thead>\n",
       "    <tr style=\"text-align: right;\">\n",
       "      <th></th>\n",
       "      <th>person</th>\n",
       "      <th>month</th>\n",
       "      <th>sales</th>\n",
       "      <th>expenses</th>\n",
       "    </tr>\n",
       "  </thead>\n",
       "  <tbody>\n",
       "    <tr>\n",
       "      <th>0</th>\n",
       "      <td>Alice</td>\n",
       "      <td>Jan</td>\n",
       "      <td>200</td>\n",
       "      <td>150</td>\n",
       "    </tr>\n",
       "    <tr>\n",
       "      <th>1</th>\n",
       "      <td>Alice</td>\n",
       "      <td>Feb</td>\n",
       "      <td>180</td>\n",
       "      <td>120</td>\n",
       "    </tr>\n",
       "    <tr>\n",
       "      <th>2</th>\n",
       "      <td>Bob</td>\n",
       "      <td>Jan</td>\n",
       "      <td>210</td>\n",
       "      <td>160</td>\n",
       "    </tr>\n",
       "    <tr>\n",
       "      <th>3</th>\n",
       "      <td>Bob</td>\n",
       "      <td>Feb</td>\n",
       "      <td>190</td>\n",
       "      <td>140</td>\n",
       "    </tr>\n",
       "  </tbody>\n",
       "</table>\n",
       "</div>"
      ],
      "text/plain": [
       "  person month  sales  expenses\n",
       "0  Alice   Jan    200       150\n",
       "1  Alice   Feb    180       120\n",
       "2    Bob   Jan    210       160\n",
       "3    Bob   Feb    190       140"
      ]
     },
     "metadata": {},
     "output_type": "display_data"
    }
   ],
   "source": [
    "display(df)"
   ]
  },
  {
   "cell_type": "markdown",
   "id": "c962dfca-6df7-461e-a7cd-8290fa3e5069",
   "metadata": {},
   "source": [
    "## Melt\n",
    "\n",
    "    pd.melt(df)\n",
    "\n",
    "this is a bit drastic in this case!"
   ]
  },
  {
   "cell_type": "code",
   "execution_count": 40,
   "id": "8bf38749-425d-425d-a82d-386d5f4f2091",
   "metadata": {},
   "outputs": [
    {
     "data": {
      "text/html": [
       "<div>\n",
       "<style scoped>\n",
       "    .dataframe tbody tr th:only-of-type {\n",
       "        vertical-align: middle;\n",
       "    }\n",
       "\n",
       "    .dataframe tbody tr th {\n",
       "        vertical-align: top;\n",
       "    }\n",
       "\n",
       "    .dataframe thead th {\n",
       "        text-align: right;\n",
       "    }\n",
       "</style>\n",
       "<table border=\"1\" class=\"dataframe\">\n",
       "  <thead>\n",
       "    <tr style=\"text-align: right;\">\n",
       "      <th></th>\n",
       "      <th>variable</th>\n",
       "      <th>value</th>\n",
       "    </tr>\n",
       "  </thead>\n",
       "  <tbody>\n",
       "    <tr>\n",
       "      <th>0</th>\n",
       "      <td>person</td>\n",
       "      <td>Alice</td>\n",
       "    </tr>\n",
       "    <tr>\n",
       "      <th>1</th>\n",
       "      <td>person</td>\n",
       "      <td>Alice</td>\n",
       "    </tr>\n",
       "    <tr>\n",
       "      <th>2</th>\n",
       "      <td>person</td>\n",
       "      <td>Bob</td>\n",
       "    </tr>\n",
       "    <tr>\n",
       "      <th>3</th>\n",
       "      <td>person</td>\n",
       "      <td>Bob</td>\n",
       "    </tr>\n",
       "    <tr>\n",
       "      <th>4</th>\n",
       "      <td>month</td>\n",
       "      <td>Jan</td>\n",
       "    </tr>\n",
       "    <tr>\n",
       "      <th>5</th>\n",
       "      <td>month</td>\n",
       "      <td>Feb</td>\n",
       "    </tr>\n",
       "    <tr>\n",
       "      <th>6</th>\n",
       "      <td>month</td>\n",
       "      <td>Jan</td>\n",
       "    </tr>\n",
       "    <tr>\n",
       "      <th>7</th>\n",
       "      <td>month</td>\n",
       "      <td>Feb</td>\n",
       "    </tr>\n",
       "    <tr>\n",
       "      <th>8</th>\n",
       "      <td>sales</td>\n",
       "      <td>200</td>\n",
       "    </tr>\n",
       "    <tr>\n",
       "      <th>9</th>\n",
       "      <td>sales</td>\n",
       "      <td>180</td>\n",
       "    </tr>\n",
       "    <tr>\n",
       "      <th>10</th>\n",
       "      <td>sales</td>\n",
       "      <td>210</td>\n",
       "    </tr>\n",
       "    <tr>\n",
       "      <th>11</th>\n",
       "      <td>sales</td>\n",
       "      <td>190</td>\n",
       "    </tr>\n",
       "    <tr>\n",
       "      <th>12</th>\n",
       "      <td>expenses</td>\n",
       "      <td>150</td>\n",
       "    </tr>\n",
       "    <tr>\n",
       "      <th>13</th>\n",
       "      <td>expenses</td>\n",
       "      <td>120</td>\n",
       "    </tr>\n",
       "    <tr>\n",
       "      <th>14</th>\n",
       "      <td>expenses</td>\n",
       "      <td>160</td>\n",
       "    </tr>\n",
       "    <tr>\n",
       "      <th>15</th>\n",
       "      <td>expenses</td>\n",
       "      <td>140</td>\n",
       "    </tr>\n",
       "  </tbody>\n",
       "</table>\n",
       "</div>"
      ],
      "text/plain": [
       "    variable  value\n",
       "0     person  Alice\n",
       "1     person  Alice\n",
       "2     person    Bob\n",
       "3     person    Bob\n",
       "4      month    Jan\n",
       "5      month    Feb\n",
       "6      month    Jan\n",
       "7      month    Feb\n",
       "8      sales    200\n",
       "9      sales    180\n",
       "10     sales    210\n",
       "11     sales    190\n",
       "12  expenses    150\n",
       "13  expenses    120\n",
       "14  expenses    160\n",
       "15  expenses    140"
      ]
     },
     "metadata": {},
     "output_type": "display_data"
    }
   ],
   "source": [
    "# Use all the columns - not so useful in this case!\n",
    "m = pd.melt(df)\n",
    "display(m)"
   ]
  },
  {
   "cell_type": "markdown",
   "id": "45516c57-12e3-4152-bdf4-86f868550d8d",
   "metadata": {},
   "source": [
    "## Melt\n",
    "\n",
    "You keep the columns 'person' and 'month' the rest are melted\n",
    "\n",
    "    pd.melt(df,id_vars=['person','month'])"
   ]
  },
  {
   "cell_type": "code",
   "execution_count": 41,
   "id": "3d4ce596-8e52-4d47-83e4-72387be7fe2b",
   "metadata": {},
   "outputs": [
    {
     "data": {
      "text/html": [
       "<div>\n",
       "<style scoped>\n",
       "    .dataframe tbody tr th:only-of-type {\n",
       "        vertical-align: middle;\n",
       "    }\n",
       "\n",
       "    .dataframe tbody tr th {\n",
       "        vertical-align: top;\n",
       "    }\n",
       "\n",
       "    .dataframe thead th {\n",
       "        text-align: right;\n",
       "    }\n",
       "</style>\n",
       "<table border=\"1\" class=\"dataframe\">\n",
       "  <thead>\n",
       "    <tr style=\"text-align: right;\">\n",
       "      <th></th>\n",
       "      <th>person</th>\n",
       "      <th>month</th>\n",
       "      <th>variable</th>\n",
       "      <th>value</th>\n",
       "    </tr>\n",
       "  </thead>\n",
       "  <tbody>\n",
       "    <tr>\n",
       "      <th>0</th>\n",
       "      <td>Alice</td>\n",
       "      <td>Jan</td>\n",
       "      <td>sales</td>\n",
       "      <td>200</td>\n",
       "    </tr>\n",
       "    <tr>\n",
       "      <th>1</th>\n",
       "      <td>Alice</td>\n",
       "      <td>Feb</td>\n",
       "      <td>sales</td>\n",
       "      <td>180</td>\n",
       "    </tr>\n",
       "    <tr>\n",
       "      <th>2</th>\n",
       "      <td>Bob</td>\n",
       "      <td>Jan</td>\n",
       "      <td>sales</td>\n",
       "      <td>210</td>\n",
       "    </tr>\n",
       "    <tr>\n",
       "      <th>3</th>\n",
       "      <td>Bob</td>\n",
       "      <td>Feb</td>\n",
       "      <td>sales</td>\n",
       "      <td>190</td>\n",
       "    </tr>\n",
       "    <tr>\n",
       "      <th>4</th>\n",
       "      <td>Alice</td>\n",
       "      <td>Jan</td>\n",
       "      <td>expenses</td>\n",
       "      <td>150</td>\n",
       "    </tr>\n",
       "    <tr>\n",
       "      <th>5</th>\n",
       "      <td>Alice</td>\n",
       "      <td>Feb</td>\n",
       "      <td>expenses</td>\n",
       "      <td>120</td>\n",
       "    </tr>\n",
       "    <tr>\n",
       "      <th>6</th>\n",
       "      <td>Bob</td>\n",
       "      <td>Jan</td>\n",
       "      <td>expenses</td>\n",
       "      <td>160</td>\n",
       "    </tr>\n",
       "    <tr>\n",
       "      <th>7</th>\n",
       "      <td>Bob</td>\n",
       "      <td>Feb</td>\n",
       "      <td>expenses</td>\n",
       "      <td>140</td>\n",
       "    </tr>\n",
       "  </tbody>\n",
       "</table>\n",
       "</div>"
      ],
      "text/plain": [
       "  person month  variable  value\n",
       "0  Alice   Jan     sales    200\n",
       "1  Alice   Feb     sales    180\n",
       "2    Bob   Jan     sales    210\n",
       "3    Bob   Feb     sales    190\n",
       "4  Alice   Jan  expenses    150\n",
       "5  Alice   Feb  expenses    120\n",
       "6    Bob   Jan  expenses    160\n",
       "7    Bob   Feb  expenses    140"
      ]
     },
     "metadata": {},
     "output_type": "display_data"
    }
   ],
   "source": [
    "# Melt to create new rows for each observation for each person each month\n",
    "# You keep the columns 'person' and 'month' the rest are melted\n",
    "m = pd.melt(df,id_vars=['person','month'])\n",
    "display(m)"
   ]
  },
  {
   "cell_type": "code",
   "execution_count": null,
   "id": "c6c391d3-e197-429e-81d9-ec69ab0afa6d",
   "metadata": {},
   "outputs": [],
   "source": []
  },
  {
   "cell_type": "code",
   "execution_count": null,
   "id": "554ec8c8-a2b1-407d-b381-918a764c448e",
   "metadata": {},
   "outputs": [],
   "source": []
  }
 ],
 "metadata": {
  "kernelspec": {
   "display_name": "Python 3 (ipykernel)",
   "language": "python",
   "name": "python3"
  },
  "language_info": {
   "codemirror_mode": {
    "name": "ipython",
    "version": 3
   },
   "file_extension": ".py",
   "mimetype": "text/x-python",
   "name": "python",
   "nbconvert_exporter": "python",
   "pygments_lexer": "ipython3",
   "version": "3.13.5"
  }
 },
 "nbformat": 4,
 "nbformat_minor": 5
}
