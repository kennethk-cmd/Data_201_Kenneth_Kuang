{
 "cells": [
  {
   "cell_type": "code",
   "execution_count": 17,
   "id": "40b8cd7f-29fb-4e52-80f0-2f22ca41aaab",
   "metadata": {},
   "outputs": [],
   "source": [
    "# Some basic package imports\n",
    "import os\n",
    "import numpy as np\n",
    "import pandas as pd\n",
    "\n",
    "import matplotlib.pyplot as plt\n",
    "import plotly.express as px\n",
    "from plotly.subplots import make_subplots\n",
    "import plotly.io as pio\n",
    "pio.renderers.defaule = 'colab'"
   ]
  },
  {
   "cell_type": "code",
   "execution_count": 11,
   "id": "0fce5c49-2b5f-4a3a-a2d9-f941429d000c",
   "metadata": {},
   "outputs": [],
   "source": [
    "user_usage = pd.read_csv('https://raw.githubusercontent.com/shanealynn/Pandas-Merge-Tutorial/master/user_usage.csv')\n",
    "user_device = pd.read_csv('https://raw.githubusercontent.com/shanealynn/Pandas-Merge-Tutorial/master/user_device.csv')\n",
    "devices = pd.read_csv('https://raw.githubusercontent.com/shanealynn/Pandas-Merge-Tutorial/master/android_devices.csv')"
   ]
  },
  {
   "cell_type": "code",
   "execution_count": 22,
   "id": "85eb36d4-4b10-4daa-a54e-c65ba58f72c7",
   "metadata": {},
   "outputs": [
    {
     "data": {
      "text/plain": [
       "(   outgoing_mins_per_month  outgoing_sms_per_month  monthly_mb  use_id\n",
       " 0                    21.97                    4.82     1557.33   22787\n",
       " 1                  1710.08                  136.88     7267.55   22788\n",
       " 2                  1710.08                  136.88     7267.55   22789\n",
       " 3                    94.46                   35.17      519.12   22790\n",
       " 4                    71.59                   79.26     1557.33   22792,\n",
       "    use_id  user_id platform  platform_version     device  use_type_id\n",
       " 0   22782    26980      ios              10.2  iPhone7,2            2\n",
       " 1   22783    29628  android               6.0    Nexus 5            3\n",
       " 2   22784    28473  android               5.1   SM-G903F            1\n",
       " 3   22785    15200      ios              10.2  iPhone7,2            3\n",
       " 4   22786    28239  android               6.0  ONE E1003            1,\n",
       "   retail_branding marketing_name    device                      model\n",
       " 0             NaN            NaN    AD681H  Smartfren Andromax AD681H\n",
       " 1             NaN            NaN     FJL21                      FJL21\n",
       " 2             NaN            NaN       T31              Panasonic T31\n",
       " 3             NaN            NaN  hws7721g         MediaPad 7 Youth 2\n",
       " 4              3Q        OC1020A   OC1020A                    OC1020A)"
      ]
     },
     "execution_count": 22,
     "metadata": {},
     "output_type": "execute_result"
    }
   ],
   "source": [
    "def clean_cols(df):\n",
    "    df.columns = (\n",
    "        df.columns.str.strip()\n",
    "                .str.lower()\n",
    "                .str.replace(\" \", \"_\")\n",
    "    )\n",
    "    return df\n",
    "    \n",
    "user_usage = clean_cols(user_usage)\n",
    "user_device = clean_cols(user_device)\n",
    "devices = clean_cols(devices)\n",
    "\n",
    "user_usage.head(), user_device.head(), devices.head()"
   ]
  },
  {
   "cell_type": "markdown",
   "id": "2ff202ae-e996-4503-8cc1-3aaa34385737",
   "metadata": {},
   "source": [
    "**Part 1: Merge usage and user device**"
   ]
  },
  {
   "cell_type": "code",
   "execution_count": 18,
   "id": "54d677f4-1adf-4a17-813f-7fa8e64d4a35",
   "metadata": {},
   "outputs": [
    {
     "data": {
      "text/html": [
       "<div>\n",
       "<style scoped>\n",
       "    .dataframe tbody tr th:only-of-type {\n",
       "        vertical-align: middle;\n",
       "    }\n",
       "\n",
       "    .dataframe tbody tr th {\n",
       "        vertical-align: top;\n",
       "    }\n",
       "\n",
       "    .dataframe thead th {\n",
       "        text-align: right;\n",
       "    }\n",
       "</style>\n",
       "<table border=\"1\" class=\"dataframe\">\n",
       "  <thead>\n",
       "    <tr style=\"text-align: right;\">\n",
       "      <th></th>\n",
       "      <th>outgoing_mins_per_month</th>\n",
       "      <th>outgoing_sms_per_month</th>\n",
       "      <th>monthly_mb</th>\n",
       "      <th>use_id</th>\n",
       "      <th>user_id</th>\n",
       "      <th>platform</th>\n",
       "      <th>platform_version</th>\n",
       "      <th>device</th>\n",
       "      <th>use_type_id</th>\n",
       "      <th>manufacturer</th>\n",
       "      <th>marketing_name</th>\n",
       "      <th>model</th>\n",
       "      <th>manufacturer_clean</th>\n",
       "    </tr>\n",
       "  </thead>\n",
       "  <tbody>\n",
       "    <tr>\n",
       "      <th>0</th>\n",
       "      <td>21.97</td>\n",
       "      <td>4.82</td>\n",
       "      <td>1557.33</td>\n",
       "      <td>22787</td>\n",
       "      <td>12921</td>\n",
       "      <td>android</td>\n",
       "      <td>4.3</td>\n",
       "      <td>GT-I9505</td>\n",
       "      <td>1</td>\n",
       "      <td>NaN</td>\n",
       "      <td>NaN</td>\n",
       "      <td>NaN</td>\n",
       "      <td>None</td>\n",
       "    </tr>\n",
       "    <tr>\n",
       "      <th>1</th>\n",
       "      <td>1710.08</td>\n",
       "      <td>136.88</td>\n",
       "      <td>7267.55</td>\n",
       "      <td>22788</td>\n",
       "      <td>28714</td>\n",
       "      <td>android</td>\n",
       "      <td>6.0</td>\n",
       "      <td>SM-G930F</td>\n",
       "      <td>1</td>\n",
       "      <td>NaN</td>\n",
       "      <td>NaN</td>\n",
       "      <td>NaN</td>\n",
       "      <td>None</td>\n",
       "    </tr>\n",
       "    <tr>\n",
       "      <th>2</th>\n",
       "      <td>1710.08</td>\n",
       "      <td>136.88</td>\n",
       "      <td>7267.55</td>\n",
       "      <td>22789</td>\n",
       "      <td>28714</td>\n",
       "      <td>android</td>\n",
       "      <td>6.0</td>\n",
       "      <td>SM-G930F</td>\n",
       "      <td>1</td>\n",
       "      <td>NaN</td>\n",
       "      <td>NaN</td>\n",
       "      <td>NaN</td>\n",
       "      <td>None</td>\n",
       "    </tr>\n",
       "    <tr>\n",
       "      <th>3</th>\n",
       "      <td>94.46</td>\n",
       "      <td>35.17</td>\n",
       "      <td>519.12</td>\n",
       "      <td>22790</td>\n",
       "      <td>29592</td>\n",
       "      <td>android</td>\n",
       "      <td>5.1</td>\n",
       "      <td>D2303</td>\n",
       "      <td>1</td>\n",
       "      <td>Sony</td>\n",
       "      <td>Xperia M2</td>\n",
       "      <td>D2303</td>\n",
       "      <td>Sony</td>\n",
       "    </tr>\n",
       "    <tr>\n",
       "      <th>4</th>\n",
       "      <td>71.59</td>\n",
       "      <td>79.26</td>\n",
       "      <td>1557.33</td>\n",
       "      <td>22792</td>\n",
       "      <td>28217</td>\n",
       "      <td>android</td>\n",
       "      <td>5.1</td>\n",
       "      <td>SM-G361F</td>\n",
       "      <td>1</td>\n",
       "      <td>NaN</td>\n",
       "      <td>NaN</td>\n",
       "      <td>NaN</td>\n",
       "      <td>None</td>\n",
       "    </tr>\n",
       "  </tbody>\n",
       "</table>\n",
       "</div>"
      ],
      "text/plain": [
       "   outgoing_mins_per_month  outgoing_sms_per_month  monthly_mb  use_id  \\\n",
       "0                    21.97                    4.82     1557.33   22787   \n",
       "1                  1710.08                  136.88     7267.55   22788   \n",
       "2                  1710.08                  136.88     7267.55   22789   \n",
       "3                    94.46                   35.17      519.12   22790   \n",
       "4                    71.59                   79.26     1557.33   22792   \n",
       "\n",
       "   user_id platform  platform_version    device  use_type_id manufacturer  \\\n",
       "0    12921  android               4.3  GT-I9505            1          NaN   \n",
       "1    28714  android               6.0  SM-G930F            1          NaN   \n",
       "2    28714  android               6.0  SM-G930F            1          NaN   \n",
       "3    29592  android               5.1     D2303            1         Sony   \n",
       "4    28217  android               5.1  SM-G361F            1          NaN   \n",
       "\n",
       "  marketing_name  model manufacturer_clean  \n",
       "0            NaN    NaN               None  \n",
       "1            NaN    NaN               None  \n",
       "2            NaN    NaN               None  \n",
       "3      Xperia M2  D2303               Sony  \n",
       "4            NaN    NaN               None  "
      ]
     },
     "execution_count": 18,
     "metadata": {},
     "output_type": "execute_result"
    }
   ],
   "source": [
    "usage_device = pd.merge(\n",
    "    user_usage, user_device,\n",
    "    on=\"use_id\", how=\"inner\"\n",
    ")\n",
    "\n",
    "full = pd.merge(\n",
    "    usage_device, devices,\n",
    "    on=\"device\", how=\"left\"  \n",
    ")\n",
    "\n",
    "full = full.rename(columns={\"retail_branding\":\"manufacturer\"})\n",
    "\n",
    "def manufacturer_clean_fn(x):\n",
    "    x = str(x).strip().lower()\n",
    "    if not x or x == \"nan\": return None\n",
    "    if \"samsung\" in x:      return \"Samsung\"\n",
    "    if x.startswith(\"lg\"):  return \"LGE\"\n",
    "    if x in {\"oneplus\",\"one+\",\"1+\",\"one plus\"}: return \"Oneplus\"\n",
    "    return x.capitalize()\n",
    "\n",
    "full[\"manufacturer_clean\"] = full[\"manufacturer\"].apply(manufacturer_clean_fn)\n",
    "\n",
    "full.head()"
   ]
  },
  {
   "cell_type": "markdown",
   "id": "6b21924b-39a0-4357-ae98-8ec2f3f3d7ae",
   "metadata": {},
   "source": [
    "**Q1: Does platform impact monthly MB used?**"
   ]
  },
  {
   "cell_type": "markdown",
   "id": "8f340627-69bc-48d8-ba1b-65f25cadcdff",
   "metadata": {},
   "source": [
    "Prediction: Different platforms will have different mean and median MB"
   ]
  },
  {
   "cell_type": "code",
   "execution_count": 27,
   "id": "23c67e2a-69eb-4231-bdf7-7b5826885d7d",
   "metadata": {},
   "outputs": [
    {
     "data": {
      "text/html": [
       "<div>\n",
       "<style scoped>\n",
       "    .dataframe tbody tr th:only-of-type {\n",
       "        vertical-align: middle;\n",
       "    }\n",
       "\n",
       "    .dataframe tbody tr th {\n",
       "        vertical-align: top;\n",
       "    }\n",
       "\n",
       "    .dataframe thead th {\n",
       "        text-align: right;\n",
       "    }\n",
       "</style>\n",
       "<table border=\"1\" class=\"dataframe\">\n",
       "  <thead>\n",
       "    <tr style=\"text-align: right;\">\n",
       "      <th></th>\n",
       "      <th>count</th>\n",
       "      <th>mean</th>\n",
       "      <th>median</th>\n",
       "      <th>std</th>\n",
       "    </tr>\n",
       "    <tr>\n",
       "      <th>platform</th>\n",
       "      <th></th>\n",
       "      <th></th>\n",
       "      <th></th>\n",
       "      <th></th>\n",
       "    </tr>\n",
       "  </thead>\n",
       "  <tbody>\n",
       "    <tr>\n",
       "      <th>android</th>\n",
       "      <td>159</td>\n",
       "      <td>4364.18</td>\n",
       "      <td>2076.45</td>\n",
       "      <td>5356.13</td>\n",
       "    </tr>\n",
       "    <tr>\n",
       "      <th>ios</th>\n",
       "      <td>2</td>\n",
       "      <td>961.16</td>\n",
       "      <td>961.16</td>\n",
       "      <td>438.74</td>\n",
       "    </tr>\n",
       "  </tbody>\n",
       "</table>\n",
       "</div>"
      ],
      "text/plain": [
       "          count     mean   median      std\n",
       "platform                                  \n",
       "android     159  4364.18  2076.45  5356.13\n",
       "ios           2   961.16   961.16   438.74"
      ]
     },
     "execution_count": 27,
     "metadata": {},
     "output_type": "execute_result"
    }
   ],
   "source": [
    "q1 = (\n",
    "    full.groupby(\"platform\")[\"monthly_mb\"]\n",
    "        .agg([\"count\", \"mean\", \"median\", \"std\"])\n",
    "        .sort_values(\"mean\", ascending=False)\n",
    "        .round(2)\n",
    ")\n",
    "q1"
   ]
  },
  {
   "cell_type": "markdown",
   "id": "7a358551-1161-4db8-986c-157da9a90bf9",
   "metadata": {},
   "source": [
    "**Explanation:** From what the data says, we can see that the means/medians across platforms matters for data usage."
   ]
  },
  {
   "cell_type": "markdown",
   "id": "a1c0f8bd-61fe-4ab4-a9a2-d71e0f36fa59",
   "metadata": {},
   "source": [
    "**Q2: Do Sony users have more outgoing minutes than OnePlus users?**"
   ]
  },
  {
   "cell_type": "markdown",
   "id": "f5285c4b-5170-42fa-b055-08afd856eeb7",
   "metadata": {},
   "source": [
    "**Prediction:** Sony will likely have higher averages, but OnePlus may differ in medians."
   ]
  },
  {
   "cell_type": "code",
   "execution_count": 28,
   "id": "99b07b40-b09e-4886-bf65-f9bcd24c3700",
   "metadata": {},
   "outputs": [
    {
     "data": {
      "text/html": [
       "<div>\n",
       "<style scoped>\n",
       "    .dataframe tbody tr th:only-of-type {\n",
       "        vertical-align: middle;\n",
       "    }\n",
       "\n",
       "    .dataframe tbody tr th {\n",
       "        vertical-align: top;\n",
       "    }\n",
       "\n",
       "    .dataframe thead th {\n",
       "        text-align: right;\n",
       "    }\n",
       "</style>\n",
       "<table border=\"1\" class=\"dataframe\">\n",
       "  <thead>\n",
       "    <tr style=\"text-align: right;\">\n",
       "      <th></th>\n",
       "      <th>count</th>\n",
       "      <th>mean</th>\n",
       "      <th>median</th>\n",
       "      <th>std</th>\n",
       "    </tr>\n",
       "    <tr>\n",
       "      <th>manufacturer_clean</th>\n",
       "      <th></th>\n",
       "      <th></th>\n",
       "      <th></th>\n",
       "      <th></th>\n",
       "    </tr>\n",
       "  </thead>\n",
       "  <tbody>\n",
       "    <tr>\n",
       "      <th>Oneplus</th>\n",
       "      <td>4</td>\n",
       "      <td>170.4</td>\n",
       "      <td>170.40</td>\n",
       "      <td>130.37</td>\n",
       "    </tr>\n",
       "    <tr>\n",
       "      <th>Sony</th>\n",
       "      <td>13</td>\n",
       "      <td>143.7</td>\n",
       "      <td>99.23</td>\n",
       "      <td>112.09</td>\n",
       "    </tr>\n",
       "  </tbody>\n",
       "</table>\n",
       "</div>"
      ],
      "text/plain": [
       "                    count   mean  median     std\n",
       "manufacturer_clean                              \n",
       "Oneplus                 4  170.4  170.40  130.37\n",
       "Sony                   13  143.7   99.23  112.09"
      ]
     },
     "execution_count": 28,
     "metadata": {},
     "output_type": "execute_result"
    }
   ],
   "source": [
    "q2 = ['Sony', 'Oneplus']\n",
    "\n",
    "comparison = (\n",
    "    full[full['manufacturer_clean'].isin(q2)]\n",
    "        .groupby('manufacturer_clean')['outgoing_mins_per_month']\n",
    "        .agg(['count','mean','median','std'])\n",
    "        .round(2)\n",
    ")\n",
    "comparison"
   ]
  },
  {
   "cell_type": "markdown",
   "id": "84d571e4-6b60-4705-a415-38aa239806ca",
   "metadata": {},
   "source": [
    "**Explanation:** The table compares Oneplus with Sony, and the mean and median tell us which group has more time on outgoing calls. Higher averages correlates with more users talking. "
   ]
  },
  {
   "cell_type": "markdown",
   "id": "f5ec7b80-bd06-4e1c-a52c-d1bc42d2ff30",
   "metadata": {},
   "source": [
    "**Q3: Which manufacturers use the most monthly MB?**"
   ]
  },
  {
   "cell_type": "markdown",
   "id": "b9c24eb5-de29-48a5-ab1d-7d57ac40ff05",
   "metadata": {},
   "source": [
    "**Prediction:** Larger brands will have a far larger average MB, but smaller niche brands may have some spikes and dips."
   ]
  },
  {
   "cell_type": "code",
   "execution_count": 29,
   "id": "f539eef8-134b-4782-b852-fe0097e6b25b",
   "metadata": {},
   "outputs": [
    {
     "data": {
      "text/html": [
       "<div>\n",
       "<style scoped>\n",
       "    .dataframe tbody tr th:only-of-type {\n",
       "        vertical-align: middle;\n",
       "    }\n",
       "\n",
       "    .dataframe tbody tr th {\n",
       "        vertical-align: top;\n",
       "    }\n",
       "\n",
       "    .dataframe thead th {\n",
       "        text-align: right;\n",
       "    }\n",
       "</style>\n",
       "<table border=\"1\" class=\"dataframe\">\n",
       "  <thead>\n",
       "    <tr style=\"text-align: right;\">\n",
       "      <th></th>\n",
       "      <th>n_users</th>\n",
       "      <th>avg_mb</th>\n",
       "      <th>med_mb</th>\n",
       "    </tr>\n",
       "    <tr>\n",
       "      <th>manufacturer_clean</th>\n",
       "      <th></th>\n",
       "      <th></th>\n",
       "      <th></th>\n",
       "    </tr>\n",
       "  </thead>\n",
       "  <tbody>\n",
       "    <tr>\n",
       "      <th>Oneplus</th>\n",
       "      <td>2</td>\n",
       "      <td>15573.33</td>\n",
       "      <td>15573.33</td>\n",
       "    </tr>\n",
       "    <tr>\n",
       "      <th>Lava</th>\n",
       "      <td>2</td>\n",
       "      <td>12458.67</td>\n",
       "      <td>12458.67</td>\n",
       "    </tr>\n",
       "    <tr>\n",
       "      <th>Sony</th>\n",
       "      <td>13</td>\n",
       "      <td>2715.35</td>\n",
       "      <td>2076.45</td>\n",
       "    </tr>\n",
       "  </tbody>\n",
       "</table>\n",
       "</div>"
      ],
      "text/plain": [
       "                    n_users    avg_mb    med_mb\n",
       "manufacturer_clean                             \n",
       "Oneplus                   2  15573.33  15573.33\n",
       "Lava                      2  12458.67  12458.67\n",
       "Sony                     13   2715.35   2076.45"
      ]
     },
     "execution_count": 29,
     "metadata": {},
     "output_type": "execute_result"
    }
   ],
   "source": [
    "q3 = (\n",
    "    full.groupby(\"manufacturer_clean\")\n",
    "        .agg(n_users=(\"use_id\",\"nunique\"),\n",
    "             avg_mb=(\"monthly_mb\",\"mean\"),\n",
    "             med_mb=(\"monthly_mb\",\"median\"))\n",
    "        .round(2)\n",
    "        .sort_values(\"avg_mb\", ascending=False)\n",
    ")\n",
    "q3.head(10)"
   ]
  },
  {
   "cell_type": "markdown",
   "id": "dc391809-7dcb-436a-909f-df41b51f41eb",
   "metadata": {},
   "source": [
    "**Explanation:** This ranking confirms my prediction: some manufacturers show noticeably higher average MB usage than others. The `avg_mb` column highlights which brands’ users consume the most data on average, while `med_mb` shows the typical usage per brand. "
   ]
  },
  {
   "cell_type": "markdown",
   "id": "b53493f0-d374-48c6-8410-564c5f4bf995",
   "metadata": {},
   "source": [
    "**What columns can be used for merging? Any to rename?**\n",
    "  - `use_id` — in `user_usage` and `user_device` (links usage rows to a user’s device record).\n",
    "  - `device` — in `user_device` and `devices` (links the user’s device code to the device catalog).\n",
    "  - `devices.retail_branding` - `manufacturer` (clearer name for brand).\n",
    "  - Create `manufacturer_clean` from `manufacturer` to normalize labels for grouping"
   ]
  },
  {
   "cell_type": "markdown",
   "id": "b0f0b51e-2b1e-4e63-975d-370afedbd1fe",
   "metadata": {},
   "source": [
    "**What I’m doing in the merge and why**\n",
    "1) **`user_usage`, `user_device` on `use_id` — `how='inner'`**  \n",
    "   - I start by keeping only the rows where I have both usage data and a device record. Inner join here gives me a clean cohort so platform/device fields aren’t missing later.\n",
    "\n",
    "2) **(result)**  \n",
    "   - Next I add the catalog info by device code, but I use a left join so I don’t lose users if their device isn’t in the catalog. Those rows stay, and the brand just shows up as NaN if it’s missing.\n",
    "3) **Cleanup for analysis** \n",
    "   - I rename retail_branding - manufacturer, then create manufacturer_clean to normalize brand labels so my group-bys don’t split the same brand."
   ]
  },
  {
   "cell_type": "markdown",
   "id": "3834e936-205a-4304-921e-b45f2a925f59",
   "metadata": {},
   "source": [
    "**What I’m doing and why**\n",
    "\n",
    "I group by manufacturer_clean and compute three things: the number of users, the average monthly data, and the median. Then I sort by avg_mb to see which brands use the most data on average. I also set a small minimum sample size so I’m not ranking brands based on just a couple of users. Reporting both mean and median lets me see if a high average is being driven by a few heavy users or if typical usage is also high"
   ]
  },
  {
   "cell_type": "code",
   "execution_count": null,
   "id": "2dc1bebd-05af-4ef9-af9e-4d96f6bfbfcc",
   "metadata": {},
   "outputs": [],
   "source": []
  }
 ],
 "metadata": {
  "kernelspec": {
   "display_name": "Python [conda env:base] *",
   "language": "python",
   "name": "conda-base-py"
  },
  "language_info": {
   "codemirror_mode": {
    "name": "ipython",
    "version": 3
   },
   "file_extension": ".py",
   "mimetype": "text/x-python",
   "name": "python",
   "nbconvert_exporter": "python",
   "pygments_lexer": "ipython3",
   "version": "3.13.5"
  }
 },
 "nbformat": 4,
 "nbformat_minor": 5
}
