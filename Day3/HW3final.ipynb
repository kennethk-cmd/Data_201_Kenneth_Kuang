{
 "cells": [
  {
   "cell_type": "markdown",
   "id": "cdb91042-a38e-418f-b2ec-1651deb5cfdf",
   "metadata": {},
   "source": [
    "Homework 3 NBA Stats Data"
   ]
  },
  {
   "cell_type": "markdown",
   "id": "406483ba-3ec9-4d36-b55d-756e79caab58",
   "metadata": {},
   "source": [
    "**Data Set Used:** https://www.kaggle.com/datasets/wyattowalsh/basketball"
   ]
  },
  {
   "cell_type": "code",
   "execution_count": 28,
   "id": "260f728f-8284-4010-87cb-e6b8ccdbe6ad",
   "metadata": {},
   "outputs": [],
   "source": [
    "import os\n",
    "import numpy as np\n",
    "import pandas as pd\n",
    "\n",
    "import matplotlib.pyplot as plt\n",
    "import plotly.express as px\n",
    "from plotly.subplots import make_subplots\n",
    "import plotly.io as pio"
   ]
  },
  {
   "cell_type": "code",
   "execution_count": 19,
   "id": "28fc2f94-c3ad-417b-bb48-84a99e3bdfbb",
   "metadata": {},
   "outputs": [
    {
     "name": "stdout",
     "output_type": "stream",
     "text": [
      "Downloading from https://www.kaggle.com/api/v1/datasets/download/wyattowalsh/basketball?dataset_version_number=231...\n"
     ]
    },
    {
     "name": "stderr",
     "output_type": "stream",
     "text": [
      "100%|██████████| 697M/697M [00:29<00:00, 24.8MB/s] "
     ]
    },
    {
     "name": "stdout",
     "output_type": "stream",
     "text": [
      "Extracting files...\n"
     ]
    },
    {
     "name": "stderr",
     "output_type": "stream",
     "text": [
      "\n"
     ]
    },
    {
     "name": "stdout",
     "output_type": "stream",
     "text": [
      "Path to dataset files: /Users/admin/.cache/kagglehub/datasets/wyattowalsh/basketball/versions/231\n"
     ]
    }
   ],
   "source": [
    "import kagglehub\n",
    "\n",
    "# Download latest version\n",
    "path = kagglehub.dataset_download(\"wyattowalsh/basketball\")\n",
    "\n",
    "print(\"Path to dataset files:\", path)"
   ]
  },
  {
   "cell_type": "code",
   "execution_count": 3,
   "id": "f3b2f7c1-3705-49be-8ca5-4bd386b65f83",
   "metadata": {},
   "outputs": [
    {
     "name": "stdout",
     "output_type": "stream",
     "text": [
      "\u001b[1;33mJupyter detected\u001b[0m\u001b[1;33m...\u001b[0m\n",
      "\u001b[1;32m2\u001b[0m\u001b[1;32m channel Terms of Service accepted\u001b[0m\n",
      "Channels:\n",
      " - conda-forge\n",
      " - defaults\n",
      "Platform: osx-64\n",
      "doneecting package metadata (repodata.json): - \n",
      "doneing environment: \\ \n",
      "\n",
      "## Package Plan ##\n",
      "\n",
      "  environment location: /opt/anaconda3\n",
      "\n",
      "  added / updated specs:\n",
      "    - beautifulsoup4\n",
      "    - html5lib\n",
      "    - lxml\n",
      "\n",
      "\n",
      "The following packages will be downloaded:\n",
      "\n",
      "    package                    |            build\n",
      "    ---------------------------|-----------------\n",
      "    beautifulsoup4-4.13.5      |     pyha770c72_0          86 KB  conda-forge\n",
      "    html5lib-1.1               |     pyhd8ed1ab_2          93 KB  conda-forge\n",
      "    ------------------------------------------------------------\n",
      "                                           Total:         179 KB\n",
      "\n",
      "The following NEW packages will be INSTALLED:\n",
      "\n",
      "  html5lib           conda-forge/noarch::html5lib-1.1-pyhd8ed1ab_2 \n",
      "\n",
      "The following packages will be UPDATED:\n",
      "\n",
      "  beautifulsoup4     pkgs/main/osx-64::beautifulsoup4-4.12~ --> conda-forge/noarch::beautifulsoup4-4.13.5-pyha770c72_0 \n",
      "\n",
      "\n",
      "\n",
      "Downloading and Extracting Packages:\n",
      "html5lib-1.1         | 93 KB     |                                       |   0% \n",
      "beautifulsoup4-4.13. | 86 KB     |                                       |   0% \u001b[A\n",
      "beautifulsoup4-4.13. | 86 KB     | ######8                               |  19% \u001b[A\n",
      "beautifulsoup4-4.13. | 86 KB     | ##################################### | 100% \u001b[A\n",
      "                                                                                \u001b[A\n",
      "                                                                                \u001b[A\n",
      "donearing transaction: / \n",
      "donefying transaction: \\ \n",
      "doneuting transaction: - \n",
      "Requirement already satisfied: lxml in /opt/anaconda3/lib/python3.13/site-packages (5.3.0)\n",
      "Requirement already satisfied: beautifulsoup4 in /opt/anaconda3/lib/python3.13/site-packages (4.13.5)\n",
      "Requirement already satisfied: html5lib in /opt/anaconda3/lib/python3.13/site-packages (1.1)\n",
      "Requirement already satisfied: soupsieve>1.2 in /opt/anaconda3/lib/python3.13/site-packages (from beautifulsoup4) (2.5)\n",
      "Requirement already satisfied: typing-extensions>=4.0.0 in /opt/anaconda3/lib/python3.13/site-packages (from beautifulsoup4) (4.12.2)\n",
      "Requirement already satisfied: six>=1.9 in /opt/anaconda3/lib/python3.13/site-packages (from html5lib) (1.17.0)\n",
      "Requirement already satisfied: webencodings in /opt/anaconda3/lib/python3.13/site-packages (from html5lib) (0.5.1)\n"
     ]
    }
   ],
   "source": [
    "!conda install -y lxml beautifulsoup4 html5lib\n",
    "!pip install lxml beautifulsoup4 html5lib\n"
   ]
  },
  {
   "cell_type": "code",
   "execution_count": 29,
   "id": "7b187125-5e97-4778-b4f6-c20d11ff9855",
   "metadata": {},
   "outputs": [
    {
     "name": "stdout",
     "output_type": "stream",
     "text": [
      "['nba.sqlite', 'csv']\n"
     ]
    },
    {
     "data": {
      "text/html": [
       "<div>\n",
       "<style scoped>\n",
       "    .dataframe tbody tr th:only-of-type {\n",
       "        vertical-align: middle;\n",
       "    }\n",
       "\n",
       "    .dataframe tbody tr th {\n",
       "        vertical-align: top;\n",
       "    }\n",
       "\n",
       "    .dataframe thead th {\n",
       "        text-align: right;\n",
       "    }\n",
       "</style>\n",
       "<table border=\"1\" class=\"dataframe\">\n",
       "  <thead>\n",
       "    <tr style=\"text-align: right;\">\n",
       "      <th></th>\n",
       "      <th>person_id</th>\n",
       "      <th>first_name</th>\n",
       "      <th>last_name</th>\n",
       "      <th>display_first_last</th>\n",
       "      <th>display_last_comma_first</th>\n",
       "      <th>display_fi_last</th>\n",
       "      <th>player_slug</th>\n",
       "      <th>birthdate</th>\n",
       "      <th>school</th>\n",
       "      <th>country</th>\n",
       "      <th>last_affiliation</th>\n",
       "      <th>height</th>\n",
       "      <th>weight</th>\n",
       "      <th>season_exp</th>\n",
       "      <th>jersey</th>\n",
       "      <th>position</th>\n",
       "      <th>rosterstatus</th>\n",
       "      <th>games_played_current_season_flag</th>\n",
       "      <th>team_id</th>\n",
       "      <th>team_name</th>\n",
       "      <th>team_abbreviation</th>\n",
       "      <th>team_code</th>\n",
       "      <th>team_city</th>\n",
       "      <th>playercode</th>\n",
       "      <th>from_year</th>\n",
       "      <th>to_year</th>\n",
       "      <th>dleague_flag</th>\n",
       "      <th>nba_flag</th>\n",
       "      <th>games_played_flag</th>\n",
       "      <th>draft_year</th>\n",
       "      <th>draft_round</th>\n",
       "      <th>draft_number</th>\n",
       "      <th>greatest_75_flag</th>\n",
       "    </tr>\n",
       "  </thead>\n",
       "  <tbody>\n",
       "    <tr>\n",
       "      <th>0</th>\n",
       "      <td>76001</td>\n",
       "      <td>Alaa</td>\n",
       "      <td>Abdelnaby</td>\n",
       "      <td>Alaa Abdelnaby</td>\n",
       "      <td>Abdelnaby, Alaa</td>\n",
       "      <td>A. Abdelnaby</td>\n",
       "      <td>alaa-abdelnaby</td>\n",
       "      <td>1968-06-24 00:00:00</td>\n",
       "      <td>Duke</td>\n",
       "      <td>USA</td>\n",
       "      <td>Duke/USA</td>\n",
       "      <td>6-10</td>\n",
       "      <td>240.0</td>\n",
       "      <td>5.0</td>\n",
       "      <td>30</td>\n",
       "      <td>Forward</td>\n",
       "      <td>Inactive</td>\n",
       "      <td>N</td>\n",
       "      <td>1610612757</td>\n",
       "      <td>Trail Blazers</td>\n",
       "      <td>POR</td>\n",
       "      <td>blazers</td>\n",
       "      <td>Portland</td>\n",
       "      <td>HISTADD_alaa_abdelnaby</td>\n",
       "      <td>1990.0</td>\n",
       "      <td>1994.0</td>\n",
       "      <td>N</td>\n",
       "      <td>Y</td>\n",
       "      <td>Y</td>\n",
       "      <td>1990</td>\n",
       "      <td>1</td>\n",
       "      <td>25</td>\n",
       "      <td>N</td>\n",
       "    </tr>\n",
       "    <tr>\n",
       "      <th>1</th>\n",
       "      <td>76003</td>\n",
       "      <td>Kareem</td>\n",
       "      <td>Abdul-Jabbar</td>\n",
       "      <td>Kareem Abdul-Jabbar</td>\n",
       "      <td>Abdul-Jabbar, Kareem</td>\n",
       "      <td>K. Abdul-Jabbar</td>\n",
       "      <td>kareem-abdul-jabbar</td>\n",
       "      <td>1947-04-16 00:00:00</td>\n",
       "      <td>UCLA</td>\n",
       "      <td>USA</td>\n",
       "      <td>UCLA/USA</td>\n",
       "      <td>7-2</td>\n",
       "      <td>225.0</td>\n",
       "      <td>20.0</td>\n",
       "      <td>33</td>\n",
       "      <td>Center</td>\n",
       "      <td>Inactive</td>\n",
       "      <td>N</td>\n",
       "      <td>1610612747</td>\n",
       "      <td>Lakers</td>\n",
       "      <td>LAL</td>\n",
       "      <td>lakers</td>\n",
       "      <td>Los Angeles</td>\n",
       "      <td>HISTADD_kareem_abdul-jabbar</td>\n",
       "      <td>1969.0</td>\n",
       "      <td>1988.0</td>\n",
       "      <td>N</td>\n",
       "      <td>Y</td>\n",
       "      <td>Y</td>\n",
       "      <td>1969</td>\n",
       "      <td>1</td>\n",
       "      <td>1</td>\n",
       "      <td>Y</td>\n",
       "    </tr>\n",
       "    <tr>\n",
       "      <th>2</th>\n",
       "      <td>1505</td>\n",
       "      <td>Tariq</td>\n",
       "      <td>Abdul-Wahad</td>\n",
       "      <td>Tariq Abdul-Wahad</td>\n",
       "      <td>Abdul-Wahad, Tariq</td>\n",
       "      <td>T. Abdul-Wahad</td>\n",
       "      <td>tariq-abdul-wahad</td>\n",
       "      <td>1974-11-03 00:00:00</td>\n",
       "      <td>San Jose State</td>\n",
       "      <td>France</td>\n",
       "      <td>San Jose State/France</td>\n",
       "      <td>6-6</td>\n",
       "      <td>235.0</td>\n",
       "      <td>7.0</td>\n",
       "      <td>9</td>\n",
       "      <td>Forward-Guard</td>\n",
       "      <td>Inactive</td>\n",
       "      <td>N</td>\n",
       "      <td>1610612758</td>\n",
       "      <td>Kings</td>\n",
       "      <td>SAC</td>\n",
       "      <td>kings</td>\n",
       "      <td>Sacramento</td>\n",
       "      <td>tariq_abdul-wahad</td>\n",
       "      <td>1997.0</td>\n",
       "      <td>2003.0</td>\n",
       "      <td>N</td>\n",
       "      <td>Y</td>\n",
       "      <td>Y</td>\n",
       "      <td>1997</td>\n",
       "      <td>1</td>\n",
       "      <td>11</td>\n",
       "      <td>N</td>\n",
       "    </tr>\n",
       "    <tr>\n",
       "      <th>3</th>\n",
       "      <td>949</td>\n",
       "      <td>Shareef</td>\n",
       "      <td>Abdur-Rahim</td>\n",
       "      <td>Shareef Abdur-Rahim</td>\n",
       "      <td>Abdur-Rahim, Shareef</td>\n",
       "      <td>S. Abdur-Rahim</td>\n",
       "      <td>shareef-abdur-rahim</td>\n",
       "      <td>1976-12-11 00:00:00</td>\n",
       "      <td>California</td>\n",
       "      <td>USA</td>\n",
       "      <td>California/USA</td>\n",
       "      <td>6-9</td>\n",
       "      <td>245.0</td>\n",
       "      <td>13.0</td>\n",
       "      <td>3</td>\n",
       "      <td>Forward</td>\n",
       "      <td>Inactive</td>\n",
       "      <td>N</td>\n",
       "      <td>1610612763</td>\n",
       "      <td>Grizzlies</td>\n",
       "      <td>VAN</td>\n",
       "      <td>grizzlies</td>\n",
       "      <td>Vancouver</td>\n",
       "      <td>shareef_abdur-rahim</td>\n",
       "      <td>1996.0</td>\n",
       "      <td>2007.0</td>\n",
       "      <td>N</td>\n",
       "      <td>Y</td>\n",
       "      <td>Y</td>\n",
       "      <td>1996</td>\n",
       "      <td>1</td>\n",
       "      <td>3</td>\n",
       "      <td>N</td>\n",
       "    </tr>\n",
       "    <tr>\n",
       "      <th>4</th>\n",
       "      <td>76005</td>\n",
       "      <td>Tom</td>\n",
       "      <td>Abernethy</td>\n",
       "      <td>Tom Abernethy</td>\n",
       "      <td>Abernethy, Tom</td>\n",
       "      <td>T. Abernethy</td>\n",
       "      <td>tom-abernethy</td>\n",
       "      <td>1954-05-06 00:00:00</td>\n",
       "      <td>Indiana</td>\n",
       "      <td>USA</td>\n",
       "      <td>Indiana/USA</td>\n",
       "      <td>6-7</td>\n",
       "      <td>220.0</td>\n",
       "      <td>5.0</td>\n",
       "      <td>5</td>\n",
       "      <td>Forward</td>\n",
       "      <td>Inactive</td>\n",
       "      <td>N</td>\n",
       "      <td>1610612744</td>\n",
       "      <td>Warriors</td>\n",
       "      <td>GOS</td>\n",
       "      <td>warriors</td>\n",
       "      <td>Golden State</td>\n",
       "      <td>HISTADD_tom_abernethy</td>\n",
       "      <td>1976.0</td>\n",
       "      <td>1980.0</td>\n",
       "      <td>N</td>\n",
       "      <td>Y</td>\n",
       "      <td>Y</td>\n",
       "      <td>1976</td>\n",
       "      <td>3</td>\n",
       "      <td>43</td>\n",
       "      <td>N</td>\n",
       "    </tr>\n",
       "  </tbody>\n",
       "</table>\n",
       "</div>"
      ],
      "text/plain": [
       "   person_id first_name     last_name   display_first_last display_last_comma_first  display_fi_last          player_slug            birthdate          school country       last_affiliation height  weight  season_exp jersey       position rosterstatus games_played_current_season_flag     team_id      team_name team_abbreviation  team_code     team_city                   playercode  from_year  to_year dleague_flag nba_flag games_played_flag draft_year draft_round draft_number greatest_75_flag\n",
       "0      76001       Alaa     Abdelnaby       Alaa Abdelnaby          Abdelnaby, Alaa     A. Abdelnaby       alaa-abdelnaby  1968-06-24 00:00:00            Duke     USA               Duke/USA   6-10   240.0         5.0     30        Forward     Inactive                                N  1610612757  Trail Blazers               POR    blazers      Portland       HISTADD_alaa_abdelnaby     1990.0   1994.0            N        Y                 Y       1990           1           25                N\n",
       "1      76003     Kareem  Abdul-Jabbar  Kareem Abdul-Jabbar     Abdul-Jabbar, Kareem  K. Abdul-Jabbar  kareem-abdul-jabbar  1947-04-16 00:00:00            UCLA     USA               UCLA/USA    7-2   225.0        20.0     33         Center     Inactive                                N  1610612747         Lakers               LAL     lakers   Los Angeles  HISTADD_kareem_abdul-jabbar     1969.0   1988.0            N        Y                 Y       1969           1            1                Y\n",
       "2       1505      Tariq   Abdul-Wahad    Tariq Abdul-Wahad       Abdul-Wahad, Tariq   T. Abdul-Wahad    tariq-abdul-wahad  1974-11-03 00:00:00  San Jose State  France  San Jose State/France    6-6   235.0         7.0      9  Forward-Guard     Inactive                                N  1610612758          Kings               SAC      kings    Sacramento            tariq_abdul-wahad     1997.0   2003.0            N        Y                 Y       1997           1           11                N\n",
       "3        949    Shareef   Abdur-Rahim  Shareef Abdur-Rahim     Abdur-Rahim, Shareef   S. Abdur-Rahim  shareef-abdur-rahim  1976-12-11 00:00:00      California     USA         California/USA    6-9   245.0        13.0      3        Forward     Inactive                                N  1610612763      Grizzlies               VAN  grizzlies     Vancouver          shareef_abdur-rahim     1996.0   2007.0            N        Y                 Y       1996           1            3                N\n",
       "4      76005        Tom     Abernethy        Tom Abernethy           Abernethy, Tom     T. Abernethy        tom-abernethy  1954-05-06 00:00:00         Indiana     USA            Indiana/USA    6-7   220.0         5.0      5        Forward     Inactive                                N  1610612744       Warriors               GOS   warriors  Golden State        HISTADD_tom_abernethy     1976.0   1980.0            N        Y                 Y       1976           3           43                N"
      ]
     },
     "execution_count": 29,
     "metadata": {},
     "output_type": "execute_result"
    }
   ],
   "source": [
    "os.chdir(\"/Users/admin/.cache/kagglehub/datasets/wyattowalsh/basketball/versions/231\")\n",
    "print(os.listdir())\n",
    "os.chdir(\"csv\")\n",
    "df = pd.read_csv(\"common_player_info.csv\")\n",
    "df.head()"
   ]
  },
  {
   "cell_type": "markdown",
   "id": "e734d008-8e04-4789-a874-484e325d833e",
   "metadata": {},
   "source": [
    "**Question 1:**"
   ]
  },
  {
   "cell_type": "markdown",
   "id": "bdbe1bbd-e8a5-4d31-b4a5-75f9a62919d0",
   "metadata": {},
   "source": [
    "I accessed this dataset from https://www.kaggle.com/datasets/wyattowalsh/basketball, which is a dataset that includes teams, players, games, box scores, and play by play data. I used this data in September 2025, and it is owned by Wyatt Walsh. It is a CC0 license and a public domain. Kaggle user Wyatt Walsh and his orginal sources are cited on his dataset page. "
   ]
  },
  {
   "cell_type": "markdown",
   "id": "3e0f556c-c233-4e9e-9d4f-4fd1dbad8c7f",
   "metadata": {},
   "source": [
    "**Question 2:**"
   ]
  },
  {
   "cell_type": "code",
   "execution_count": 31,
   "id": "86c87e1d-f07e-4d18-b7ab-7fcd6290a315",
   "metadata": {},
   "outputs": [
    {
     "data": {
      "text/plain": [
       "(4171, 33)"
      ]
     },
     "execution_count": 31,
     "metadata": {},
     "output_type": "execute_result"
    }
   ],
   "source": [
    "df.shape"
   ]
  },
  {
   "cell_type": "markdown",
   "id": "e4585120-49ff-4bd8-9d01-eb88acde6ea7",
   "metadata": {},
   "source": [
    "We can see that this dataset has 3,632 observations and 33 variables."
   ]
  },
  {
   "cell_type": "markdown",
   "id": "1802c7ae-ec0b-4380-a965-62d69d7ce739",
   "metadata": {},
   "source": [
    "**Question 3:**"
   ]
  },
  {
   "cell_type": "code",
   "execution_count": 32,
   "id": "10936717-0176-434f-86ae-1927142a15c0",
   "metadata": {},
   "outputs": [
    {
     "data": {
      "text/plain": [
       "person_id                             int64\n",
       "first_name                           object\n",
       "last_name                            object\n",
       "display_first_last                   object\n",
       "display_last_comma_first             object\n",
       "display_fi_last                      object\n",
       "player_slug                          object\n",
       "birthdate                            object\n",
       "school                               object\n",
       "country                              object\n",
       "last_affiliation                     object\n",
       "height                               object\n",
       "weight                              float64\n",
       "season_exp                          float64\n",
       "jersey                               object\n",
       "position                             object\n",
       "rosterstatus                         object\n",
       "games_played_current_season_flag     object\n",
       "team_id                               int64\n",
       "team_name                            object\n",
       "team_abbreviation                    object\n",
       "team_code                            object\n",
       "team_city                            object\n",
       "playercode                           object\n",
       "from_year                           float64\n",
       "to_year                             float64\n",
       "dleague_flag                         object\n",
       "nba_flag                             object\n",
       "games_played_flag                    object\n",
       "draft_year                           object\n",
       "draft_round                          object\n",
       "draft_number                         object\n",
       "greatest_75_flag                     object\n",
       "dtype: object"
      ]
     },
     "execution_count": 32,
     "metadata": {},
     "output_type": "execute_result"
    }
   ],
   "source": [
    "df.dtypes"
   ]
  },
  {
   "cell_type": "markdown",
   "id": "a9b6b162-24f5-4ff9-a78a-a328072f710d",
   "metadata": {},
   "source": [
    "In common_player_info.csv, we see a mix of types. We see integer columns, float columns, and string columns. This dataset has numerical and categorical data, which can be analyzed differently."
   ]
  },
  {
   "cell_type": "markdown",
   "id": "a9c28af4-6a88-4a27-995e-1f5876a5bd37",
   "metadata": {},
   "source": [
    "**Question 4:**"
   ]
  },
  {
   "cell_type": "code",
   "execution_count": 33,
   "id": "e796a303-d48e-4919-a3bd-a507af69e73d",
   "metadata": {},
   "outputs": [
    {
     "data": {
      "text/plain": [
       "person_id                             0\n",
       "first_name                            0\n",
       "last_name                             0\n",
       "display_first_last                    0\n",
       "display_last_comma_first              0\n",
       "display_fi_last                       0\n",
       "player_slug                           0\n",
       "birthdate                             0\n",
       "school                               15\n",
       "country                               1\n",
       "last_affiliation                      0\n",
       "height                               96\n",
       "weight                              100\n",
       "season_exp                            0\n",
       "jersey                              980\n",
       "position                             63\n",
       "rosterstatus                          0\n",
       "games_played_current_season_flag      0\n",
       "team_id                               0\n",
       "team_name                           702\n",
       "team_abbreviation                   702\n",
       "team_code                           702\n",
       "team_city                           702\n",
       "playercode                            1\n",
       "from_year                            15\n",
       "to_year                              15\n",
       "dleague_flag                          0\n",
       "nba_flag                              0\n",
       "games_played_flag                     0\n",
       "draft_year                            0\n",
       "draft_round                         164\n",
       "draft_number                        223\n",
       "greatest_75_flag                      0\n",
       "dtype: int64"
      ]
     },
     "execution_count": 33,
     "metadata": {},
     "output_type": "execute_result"
    }
   ],
   "source": [
    "df.isna().sum()"
   ]
  },
  {
   "cell_type": "markdown",
   "id": "91595d72-ae5b-4764-aa8e-68fece60e2b6",
   "metadata": {},
   "source": [
    "Yes, there are some missing values or NaN values, as in certain columns like school, draft information, or team details there are some NaN values seen, This makes sense because some players were undrafted or did not attend college."
   ]
  },
  {
   "cell_type": "markdown",
   "id": "f2c4fe51-9df3-4905-8914-faf9da7c6de8",
   "metadata": {},
   "source": [
    "**Question 5:**"
   ]
  },
  {
   "cell_type": "code",
   "execution_count": 37,
   "id": "026a2238-b3b5-4544-b730-4d41802f02e0",
   "metadata": {},
   "outputs": [
    {
     "data": {
      "image/png": "[encoded data removed]",
      "text/plain": [
       "<Figure size 640x480 with 1 Axes>"
      ]
     },
     "metadata": {},
     "output_type": "display_data"
    }
   ],
   "source": [
    "def to_inches(h):\n",
    "    try:\n",
    "        feet, inches = h.split('-')\n",
    "        return int(feet) * 12 + int(inches)\n",
    "    except:\n",
    "        return None\n",
    "\n",
    "df[\"height_inches\"] = df[\"height\"].apply(to_inches)\n",
    "\n",
    "df[\"height_inches\"].dropna().hist(bins=20)\n",
    "plt.xlabel(\"Height (inches)\")\n",
    "plt.ylabel(\"Number of Players\")\n",
    "plt.title(\"Distribution of NBA Player Heights\")\n",
    "plt.show()"
   ]
  },
  {
   "cell_type": "markdown",
   "id": "bd131ac7-08e1-4c71-a53c-c570edd3db07",
   "metadata": {},
   "source": [
    "There were no diagrams to recreate on the main website for the database, so I just made a histogram that shows the height distribution of NBA player heights. This graph shows that they are mostly around 74 to 82 inches tall, and very few players are either shorter than 70 inches or taller than 85 inches. This makes sense since the NBA is a very tall leauge with most people making it being very tall."
   ]
  },
  {
   "cell_type": "markdown",
   "id": "a69aa7d8-9f1e-4119-ae7a-9515a35136d4",
   "metadata": {},
   "source": [
    "**Question 6:**"
   ]
  },
  {
   "cell_type": "markdown",
   "id": "ad7bae0d-9a4e-41dd-8768-b49ed33e1087",
   "metadata": {},
   "source": [
    "So for my own question, I am choosing to determine whether players from outside the United States tend to be taller than players from the U.S.?"
   ]
  },
  {
   "cell_type": "code",
   "execution_count": 51,
   "id": "a7285365-9f22-48a5-9866-5e186aefb450",
   "metadata": {},
   "outputs": [
    {
     "data": {
      "image/png": "[encoded data removed]",
      "text/plain": [
       "<Figure size 640x480 with 1 Axes>"
      ]
     },
     "metadata": {},
     "output_type": "display_data"
    }
   ],
   "source": [
    "df = pd.read_csv(\"common_player_info.csv\")\n",
    "\n",
    "def to_inches(h):\n",
    "    try:\n",
    "        f, i = h.split('-')\n",
    "        return int(f) * 12 + int(i)\n",
    "    except:\n",
    "        return None\n",
    "\n",
    "df[\"height_inches\"] = df[\"height\"].apply(to_inches)\n",
    "\n",
    "avg_heights = df.groupby(\"country\")[\"height_inches\"].mean().sort_values(ascending=False).dropna()\n",
    "\n",
    "avg_heights.head(15).plot(kind=\"bar\")\n",
    "plt.ylabel(\"Average Height (inches)\")\n",
    "plt.title(\"Average Player Height by Country (Top 15)\")\n",
    "plt.show()"
   ]
  },
  {
   "cell_type": "markdown",
   "id": "38945ead-c00c-4cad-9788-4aaeb68d06ec",
   "metadata": {},
   "source": [
    "This bar chart shows that all of the top 15 tallest average heights for players are outside of the United States, which means that players from other countries often have taller players than the United States. The Unites States has the most players for sure but many European players are selected for how they stand out physically."
   ]
  },
  {
   "cell_type": "markdown",
   "id": "7efba428-46f2-4c33-927f-8f988ca897d2",
   "metadata": {},
   "source": [
    "**Question 7:**\n"
   ]
  },
  {
   "cell_type": "code",
   "execution_count": 52,
   "id": "43a4e018-f30f-4232-a027-b26fc0e56ddb",
   "metadata": {},
   "outputs": [
    {
     "data": {
      "text/html": [
       "<div>\n",
       "<style scoped>\n",
       "    .dataframe tbody tr th:only-of-type {\n",
       "        vertical-align: middle;\n",
       "    }\n",
       "\n",
       "    .dataframe tbody tr th {\n",
       "        vertical-align: top;\n",
       "    }\n",
       "\n",
       "    .dataframe thead th {\n",
       "        text-align: right;\n",
       "    }\n",
       "</style>\n",
       "<table border=\"1\" class=\"dataframe\">\n",
       "  <thead>\n",
       "    <tr style=\"text-align: right;\">\n",
       "      <th></th>\n",
       "      <th>country</th>\n",
       "      <th>height_inches</th>\n",
       "    </tr>\n",
       "  </thead>\n",
       "  <tbody>\n",
       "    <tr>\n",
       "      <th>0</th>\n",
       "      <td>USA</td>\n",
       "      <td>82.0</td>\n",
       "    </tr>\n",
       "    <tr>\n",
       "      <th>1</th>\n",
       "      <td>USA</td>\n",
       "      <td>86.0</td>\n",
       "    </tr>\n",
       "    <tr>\n",
       "      <th>2</th>\n",
       "      <td>France</td>\n",
       "      <td>78.0</td>\n",
       "    </tr>\n",
       "    <tr>\n",
       "      <th>3</th>\n",
       "      <td>USA</td>\n",
       "      <td>81.0</td>\n",
       "    </tr>\n",
       "    <tr>\n",
       "      <th>4</th>\n",
       "      <td>USA</td>\n",
       "      <td>79.0</td>\n",
       "    </tr>\n",
       "  </tbody>\n",
       "</table>\n",
       "</div>"
      ],
      "text/plain": [
       "  country  height_inches\n",
       "0     USA           82.0\n",
       "1     USA           86.0\n",
       "2  France           78.0\n",
       "3     USA           81.0\n",
       "4     USA           79.0"
      ]
     },
     "execution_count": 52,
     "metadata": {},
     "output_type": "execute_result"
    }
   ],
   "source": [
    "subset = df[[\"country\", \"height_inches\"]]\n",
    "subset.to_csv(\"subset_height_country.csv\", index=False)\n",
    "subset.head()"
   ]
  },
  {
   "cell_type": "markdown",
   "id": "94e9a877-f2ea-4b93-a16c-d12234f1738b",
   "metadata": {},
   "source": [
    "Here I created a new dataframe which only contain the columns country and height_inches. These are the only two variables I need to answer my question, so then I saved them to a CSV file called subset_height_country.csv."
   ]
  },
  {
   "cell_type": "markdown",
   "id": "888a3661-2ad1-479d-80b0-871a7aedda82",
   "metadata": {},
   "source": [
    "**Question 8:**\n"
   ]
  },
  {
   "cell_type": "code",
   "execution_count": 53,
   "id": "a2e2d445-6070-41e9-91f8-c8cfb6891efb",
   "metadata": {},
   "outputs": [
    {
     "data": {
      "image/png": "[encoded data removed]",
      "text/plain": [
       "<Figure size 640x480 with 1 Axes>"
      ]
     },
     "metadata": {},
     "output_type": "display_data"
    },
    {
     "name": "stdout",
     "output_type": "stream",
     "text": [
      "Average height (U.S.): 77.77165354330708\n",
      "Average height (non-U.S.): 80.77806122448979\n"
     ]
    }
   ],
   "source": [
    "\n",
    "df = pd.read_csv(\"subset_height_country.csv\")\n",
    "\n",
    "avg_heights = df.groupby(\"country\")[\"height_inches\"].mean().sort_values(ascending=False).dropna()\n",
    "\n",
    "avg_heights.head(15).plot(kind=\"bar\")\n",
    "plt.ylabel(\"Average Height (inches)\")\n",
    "plt.title(\"Average Player Height by Country (Top 15)\")\n",
    "plt.show()\n",
    "\n",
    "print(\"Average height (U.S.):\", df[df[\"country\"] == \"USA\"][\"height_inches\"].mean())\n",
    "print(\"Average height (non-U.S.):\", df[df[\"country\"] != \"USA\"][\"height_inches\"].mean())"
   ]
  },
  {
   "cell_type": "markdown",
   "id": "dd4f8b63-4347-46f3-b6d9-146f9515f5ca",
   "metadata": {},
   "source": [
    "This shows that there is a significant difference in average heights between the US and international heights, and international players are on average about 3 inches taller than the US players. "
   ]
  },
  {
   "cell_type": "code",
   "execution_count": null,
   "id": "63c73250-8736-410c-a46b-ce88bc4834bb",
   "metadata": {},
   "outputs": [],
   "source": []
  }
 ],
 "metadata": {
  "kernelspec": {
   "display_name": "Python [conda env:base] *",
   "language": "python",
   "name": "conda-base-py"
  },
  "language_info": {
   "codemirror_mode": {
    "name": "ipython",
    "version": 3
   },
   "file_extension": ".py",
   "mimetype": "text/x-python",
   "name": "python",
   "nbconvert_exporter": "python",
   "pygments_lexer": "ipython3",
   "version": "3.13.5"
  }
 },
 "nbformat": 4,
 "nbformat_minor": 5
}
